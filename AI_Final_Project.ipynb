{
  "cells": [
    {
      "cell_type": "markdown",
      "metadata": {
        "id": "5M52qaN366a2"
      },
      "source": [
        "# Problem description\n"
      ]
    },
    {
      "cell_type": "raw",
      "metadata": {
        "id": "wksM7PVd66a6"
      },
      "source": [
        "We're trying to predict the ordinal variable damage_grade, which represents a level of damage to the building that was hit by the earthquake. There are 3 grades of the damage:\n",
        "\n",
        "1 represents low damage\n",
        "2 represents a medium amount of damage\n",
        "3 represents almost complete destruction"
      ]
    },
    {
      "cell_type": "code",
      "execution_count": 92,
      "metadata": {
        "colab": {
          "base_uri": "https://localhost:8080/",
          "height": 941
        },
        "id": "4gt6u0D966a9",
        "outputId": "d89bb52c-686d-4012-fedf-17dfa0255095"
      },
      "outputs": [
        {
          "output_type": "execute_result",
          "data": {
            "text/plain": [
              "<IPython.core.display.Image object>"
            ],
            "text/html": [
              "<img src=\"https://s3.amazonaws.com/drivendata-public-assets/nepal-quake-bm-2.JPG\"/>"
            ]
          },
          "metadata": {},
          "execution_count": 92
        }
      ],
      "source": [
        "from IPython.display import Image\n",
        "Image(url='https://s3.amazonaws.com/drivendata-public-assets/nepal-quake-bm-2.JPG')"
      ]
    },
    {
      "cell_type": "markdown",
      "metadata": {
        "id": "f2mEV_i166bA"
      },
      "source": [
        "# Features"
      ]
    },
    {
      "cell_type": "raw",
      "metadata": {
        "id": "VuoxKMAL66bC"
      },
      "source": [
        "The dataset mainly consists of information on the buildings' structure and their legal ownership. Each row in the dataset represents a specific building in the region that was hit by Gorkha earthquake.\n",
        "\n",
        "There are 40 columns in this dataset, where the building_id column is a unique and random identifier. The remaining 38 features are described below and the last column is damage_grade which we are aiming to predict."
      ]
    },
    {
      "cell_type": "markdown",
      "metadata": {
        "id": "vgsFyRvQ66bD"
      },
      "source": [
        "- geo_level_1_id, geo_level_2_id, geo_level_3_id (type: int): geographic region in which building exists, from largest (level 1) to most specific sub-region (level 3). Possible values: level 1: 0-30, level 2: 0-1427, level 3: 0-12567.\n",
        "\n",
        "- count_floors_pre_eq (type: int): number of floors in the building before the earthquake.\n",
        "\n",
        "- age (type: int): age of the building in years.\n",
        "\n",
        "- area_percentage (type: int): normalized area of the building footprint.\n",
        "\n",
        "- height_percentage (type: int): normalized height of the building footprint.\n",
        "\n",
        "- land_surface_condition (type: categorical): surface condition of the land where the building was built. Possible values: n, o, t.\n",
        "\n",
        "- foundation_type (type: categorical): type of foundation used while building. Possible values: h, i, r, u, w.\n",
        "\n",
        "- roof_type (type: categorical): type of roof used while building. Possible values: n, q, x.\n",
        "\n",
        "- ground_floor_type (type: categorical): type of the ground floor. Possible values: f, m, v, x, z.\n",
        "\n",
        "- other_floor_type (type: categorical): type of constructions used in higher than the ground floors (except of roof). Possible values: j, q, s, x.\n",
        "\n",
        "- position (type: categorical): position of the building. Possible values: j, o, s, t.\n",
        "\n",
        "- plan_configuration (type: categorical): building plan configuration. Possible values: a, c, d, f, m, n, o, q, s, u.\n",
        "\n",
        "- has_superstructure_adobe_mud (type: binary): flag variable that indicates if the superstructure was made of Adobe/Mud.\n",
        "\n",
        "- has_superstructure_mud_mortar_stone (type: binary): flag variable that indicates if the superstructure was made of Mud Mortar Stone.\n",
        "\n",
        "- has_superstructure_stone_flag (type: binary): flag variable that indicates if the superstructure was made of Stone.\n",
        "\n",
        "- has_superstructure_cement_mortar_stone (type: binary): flag variable that indicates if the superstructure was made of Cement Mortar - Stone.\n",
        "\n",
        "- has_superstructure_mud_mortar_brick (type: binary): flag variable that indicates if the superstructure was made of Mud Mortar- Brick.\n",
        "\n",
        "- has_superstructure_cement_mortar_brick (type: binary): flag variable that indicates if the superstructure was made of Cement Mortar - Brick.\n",
        "\n",
        "- has_superstructure_timber (type: binary): flag variable that indicates if the superstructure was made of Timber.\n",
        "\n",
        "- has_superstructure_bamboo (type: binary): flag variable that indicates if the superstructure was made of Bamboo.\n",
        "\n",
        "- has_superstructure_rc_non_engineered (type: binary): flag variable that indicates if the superstructure was made of non-engineered reinforced concrete.\n",
        "\n",
        "- has_superstructure_rc_engineered (type: binary): flag variable that indicates if the superstructure was made of engineered reinforced concrete.\n",
        "\n",
        "- has_superstructure_other (type: binary): flag variable that indicates if the superstructure was made of any other material.\n",
        "\n",
        "- legal_ownership_status (type: categorical): legal ownership status of the land where building was built. Possible values: a, r, v, w.\n",
        "\n",
        "- count_families (type: int): number of families that live in the building.\n",
        "\n",
        "- has_secondary_use (type: binary): flag variable that indicates if the building was used for any secondary purpose.\n",
        "\n",
        "- has_secondary_use_agriculture (type: binary): flag variable that indicates if the building was used for agricultural purposes.\n",
        "\n",
        "- has_secondary_use_hotel (type: binary): flag variable that indicates if the building was used as a hotel.\n",
        "\n",
        "- has_secondary_use_rental (type: binary): flag variable that indicates if the building was used for rental purposes.\n",
        "\n",
        "- has_secondary_use_institution (type: binary): flag variable that indicates if the building was used as a location of any institution.\n",
        "\n",
        "- has_secondary_use_school (type: binary): flag variable that indicates if the building was used as a school.\n",
        "\n",
        "- has_secondary_use_industry (type: binary): flag variable that indicates if the building was used for industrial purposes.\n",
        "\n",
        "- has_secondary_use_health_post (type: binary): flag variable that indicates if the building was used as a health post.\n",
        "\n",
        "- has_secondary_use_gov_office (type: binary): flag variable that indicates if the building was used fas a government office.\n",
        "\n",
        "- has_secondary_use_use_police (type: binary): flag variable that indicates if the building was used as a police station.\n",
        "\n",
        "- has_secondary_use_other (type: binary): flag variable that indicates if the building was secondarily used for other purposes."
      ]
    },
    {
      "cell_type": "code",
      "execution_count": 93,
      "metadata": {
        "id": "g1iV9fG066bF"
      },
      "outputs": [],
      "source": [
        "import pandas as pd\n",
        "import plotly.express as px\n",
        "import matplotlib.pyplot as plt\n",
        "import seaborn as sbs\n",
        "from sklearn.metrics import f1_score\n",
        "from sklearn.metrics import confusion_matrix\n"
      ]
    },
    {
      "cell_type": "code",
      "execution_count": 94,
      "metadata": {
        "colab": {
          "base_uri": "https://localhost:8080/",
          "height": 300
        },
        "id": "RdOWpBA866bH",
        "outputId": "2cd0f5d8-674e-4958-c645-3159f164d78a"
      },
      "outputs": [
        {
          "output_type": "execute_result",
          "data": {
            "text/plain": [
              "   building_id  geo_level_1_id  geo_level_2_id  geo_level_3_id  \\\n",
              "0       802906               6             487           12198   \n",
              "1        28830               8             900            2812   \n",
              "2        94947              21             363            8973   \n",
              "3       590882              22             418           10694   \n",
              "4       201944              11             131            1488   \n",
              "\n",
              "   count_floors_pre_eq  age  area_percentage  height_percentage  \\\n",
              "0                    2   30                6                  5   \n",
              "1                    2   10                8                  7   \n",
              "2                    2   10                5                  5   \n",
              "3                    2   10                6                  5   \n",
              "4                    3   30                8                  9   \n",
              "\n",
              "  land_surface_condition foundation_type  ... has_secondary_use_hotel  \\\n",
              "0                      t               r  ...                       0   \n",
              "1                      o               r  ...                       0   \n",
              "2                      t               r  ...                       0   \n",
              "3                      t               r  ...                       0   \n",
              "4                      t               r  ...                       0   \n",
              "\n",
              "  has_secondary_use_rental has_secondary_use_institution  \\\n",
              "0                        0                             0   \n",
              "1                        0                             0   \n",
              "2                        0                             0   \n",
              "3                        0                             0   \n",
              "4                        0                             0   \n",
              "\n",
              "  has_secondary_use_school has_secondary_use_industry  \\\n",
              "0                        0                          0   \n",
              "1                        0                          0   \n",
              "2                        0                          0   \n",
              "3                        0                          0   \n",
              "4                        0                          0   \n",
              "\n",
              "   has_secondary_use_health_post  has_secondary_use_gov_office  \\\n",
              "0                              0                             0   \n",
              "1                              0                             0   \n",
              "2                              0                             0   \n",
              "3                              0                             0   \n",
              "4                              0                             0   \n",
              "\n",
              "   has_secondary_use_use_police  has_secondary_use_other  damage_grade  \n",
              "0                             0                        0             3  \n",
              "1                             0                        0             2  \n",
              "2                             0                        0             3  \n",
              "3                             0                        0             2  \n",
              "4                             0                        0             3  \n",
              "\n",
              "[5 rows x 40 columns]"
            ],
            "text/html": [
              "\n",
              "  <div id=\"df-a31b9a4a-b69e-4597-8d01-46e70f9dd2bb\">\n",
              "    <div class=\"colab-df-container\">\n",
              "      <div>\n",
              "<style scoped>\n",
              "    .dataframe tbody tr th:only-of-type {\n",
              "        vertical-align: middle;\n",
              "    }\n",
              "\n",
              "    .dataframe tbody tr th {\n",
              "        vertical-align: top;\n",
              "    }\n",
              "\n",
              "    .dataframe thead th {\n",
              "        text-align: right;\n",
              "    }\n",
              "</style>\n",
              "<table border=\"1\" class=\"dataframe\">\n",
              "  <thead>\n",
              "    <tr style=\"text-align: right;\">\n",
              "      <th></th>\n",
              "      <th>building_id</th>\n",
              "      <th>geo_level_1_id</th>\n",
              "      <th>geo_level_2_id</th>\n",
              "      <th>geo_level_3_id</th>\n",
              "      <th>count_floors_pre_eq</th>\n",
              "      <th>age</th>\n",
              "      <th>area_percentage</th>\n",
              "      <th>height_percentage</th>\n",
              "      <th>land_surface_condition</th>\n",
              "      <th>foundation_type</th>\n",
              "      <th>...</th>\n",
              "      <th>has_secondary_use_hotel</th>\n",
              "      <th>has_secondary_use_rental</th>\n",
              "      <th>has_secondary_use_institution</th>\n",
              "      <th>has_secondary_use_school</th>\n",
              "      <th>has_secondary_use_industry</th>\n",
              "      <th>has_secondary_use_health_post</th>\n",
              "      <th>has_secondary_use_gov_office</th>\n",
              "      <th>has_secondary_use_use_police</th>\n",
              "      <th>has_secondary_use_other</th>\n",
              "      <th>damage_grade</th>\n",
              "    </tr>\n",
              "  </thead>\n",
              "  <tbody>\n",
              "    <tr>\n",
              "      <th>0</th>\n",
              "      <td>802906</td>\n",
              "      <td>6</td>\n",
              "      <td>487</td>\n",
              "      <td>12198</td>\n",
              "      <td>2</td>\n",
              "      <td>30</td>\n",
              "      <td>6</td>\n",
              "      <td>5</td>\n",
              "      <td>t</td>\n",
              "      <td>r</td>\n",
              "      <td>...</td>\n",
              "      <td>0</td>\n",
              "      <td>0</td>\n",
              "      <td>0</td>\n",
              "      <td>0</td>\n",
              "      <td>0</td>\n",
              "      <td>0</td>\n",
              "      <td>0</td>\n",
              "      <td>0</td>\n",
              "      <td>0</td>\n",
              "      <td>3</td>\n",
              "    </tr>\n",
              "    <tr>\n",
              "      <th>1</th>\n",
              "      <td>28830</td>\n",
              "      <td>8</td>\n",
              "      <td>900</td>\n",
              "      <td>2812</td>\n",
              "      <td>2</td>\n",
              "      <td>10</td>\n",
              "      <td>8</td>\n",
              "      <td>7</td>\n",
              "      <td>o</td>\n",
              "      <td>r</td>\n",
              "      <td>...</td>\n",
              "      <td>0</td>\n",
              "      <td>0</td>\n",
              "      <td>0</td>\n",
              "      <td>0</td>\n",
              "      <td>0</td>\n",
              "      <td>0</td>\n",
              "      <td>0</td>\n",
              "      <td>0</td>\n",
              "      <td>0</td>\n",
              "      <td>2</td>\n",
              "    </tr>\n",
              "    <tr>\n",
              "      <th>2</th>\n",
              "      <td>94947</td>\n",
              "      <td>21</td>\n",
              "      <td>363</td>\n",
              "      <td>8973</td>\n",
              "      <td>2</td>\n",
              "      <td>10</td>\n",
              "      <td>5</td>\n",
              "      <td>5</td>\n",
              "      <td>t</td>\n",
              "      <td>r</td>\n",
              "      <td>...</td>\n",
              "      <td>0</td>\n",
              "      <td>0</td>\n",
              "      <td>0</td>\n",
              "      <td>0</td>\n",
              "      <td>0</td>\n",
              "      <td>0</td>\n",
              "      <td>0</td>\n",
              "      <td>0</td>\n",
              "      <td>0</td>\n",
              "      <td>3</td>\n",
              "    </tr>\n",
              "    <tr>\n",
              "      <th>3</th>\n",
              "      <td>590882</td>\n",
              "      <td>22</td>\n",
              "      <td>418</td>\n",
              "      <td>10694</td>\n",
              "      <td>2</td>\n",
              "      <td>10</td>\n",
              "      <td>6</td>\n",
              "      <td>5</td>\n",
              "      <td>t</td>\n",
              "      <td>r</td>\n",
              "      <td>...</td>\n",
              "      <td>0</td>\n",
              "      <td>0</td>\n",
              "      <td>0</td>\n",
              "      <td>0</td>\n",
              "      <td>0</td>\n",
              "      <td>0</td>\n",
              "      <td>0</td>\n",
              "      <td>0</td>\n",
              "      <td>0</td>\n",
              "      <td>2</td>\n",
              "    </tr>\n",
              "    <tr>\n",
              "      <th>4</th>\n",
              "      <td>201944</td>\n",
              "      <td>11</td>\n",
              "      <td>131</td>\n",
              "      <td>1488</td>\n",
              "      <td>3</td>\n",
              "      <td>30</td>\n",
              "      <td>8</td>\n",
              "      <td>9</td>\n",
              "      <td>t</td>\n",
              "      <td>r</td>\n",
              "      <td>...</td>\n",
              "      <td>0</td>\n",
              "      <td>0</td>\n",
              "      <td>0</td>\n",
              "      <td>0</td>\n",
              "      <td>0</td>\n",
              "      <td>0</td>\n",
              "      <td>0</td>\n",
              "      <td>0</td>\n",
              "      <td>0</td>\n",
              "      <td>3</td>\n",
              "    </tr>\n",
              "  </tbody>\n",
              "</table>\n",
              "<p>5 rows × 40 columns</p>\n",
              "</div>\n",
              "      <button class=\"colab-df-convert\" onclick=\"convertToInteractive('df-a31b9a4a-b69e-4597-8d01-46e70f9dd2bb')\"\n",
              "              title=\"Convert this dataframe to an interactive table.\"\n",
              "              style=\"display:none;\">\n",
              "        \n",
              "  <svg xmlns=\"http://www.w3.org/2000/svg\" height=\"24px\"viewBox=\"0 0 24 24\"\n",
              "       width=\"24px\">\n",
              "    <path d=\"M0 0h24v24H0V0z\" fill=\"none\"/>\n",
              "    <path d=\"M18.56 5.44l.94 2.06.94-2.06 2.06-.94-2.06-.94-.94-2.06-.94 2.06-2.06.94zm-11 1L8.5 8.5l.94-2.06 2.06-.94-2.06-.94L8.5 2.5l-.94 2.06-2.06.94zm10 10l.94 2.06.94-2.06 2.06-.94-2.06-.94-.94-2.06-.94 2.06-2.06.94z\"/><path d=\"M17.41 7.96l-1.37-1.37c-.4-.4-.92-.59-1.43-.59-.52 0-1.04.2-1.43.59L10.3 9.45l-7.72 7.72c-.78.78-.78 2.05 0 2.83L4 21.41c.39.39.9.59 1.41.59.51 0 1.02-.2 1.41-.59l7.78-7.78 2.81-2.81c.8-.78.8-2.07 0-2.86zM5.41 20L4 18.59l7.72-7.72 1.47 1.35L5.41 20z\"/>\n",
              "  </svg>\n",
              "      </button>\n",
              "      \n",
              "  <style>\n",
              "    .colab-df-container {\n",
              "      display:flex;\n",
              "      flex-wrap:wrap;\n",
              "      gap: 12px;\n",
              "    }\n",
              "\n",
              "    .colab-df-convert {\n",
              "      background-color: #E8F0FE;\n",
              "      border: none;\n",
              "      border-radius: 50%;\n",
              "      cursor: pointer;\n",
              "      display: none;\n",
              "      fill: #1967D2;\n",
              "      height: 32px;\n",
              "      padding: 0 0 0 0;\n",
              "      width: 32px;\n",
              "    }\n",
              "\n",
              "    .colab-df-convert:hover {\n",
              "      background-color: #E2EBFA;\n",
              "      box-shadow: 0px 1px 2px rgba(60, 64, 67, 0.3), 0px 1px 3px 1px rgba(60, 64, 67, 0.15);\n",
              "      fill: #174EA6;\n",
              "    }\n",
              "\n",
              "    [theme=dark] .colab-df-convert {\n",
              "      background-color: #3B4455;\n",
              "      fill: #D2E3FC;\n",
              "    }\n",
              "\n",
              "    [theme=dark] .colab-df-convert:hover {\n",
              "      background-color: #434B5C;\n",
              "      box-shadow: 0px 1px 3px 1px rgba(0, 0, 0, 0.15);\n",
              "      filter: drop-shadow(0px 1px 2px rgba(0, 0, 0, 0.3));\n",
              "      fill: #FFFFFF;\n",
              "    }\n",
              "  </style>\n",
              "\n",
              "      <script>\n",
              "        const buttonEl =\n",
              "          document.querySelector('#df-a31b9a4a-b69e-4597-8d01-46e70f9dd2bb button.colab-df-convert');\n",
              "        buttonEl.style.display =\n",
              "          google.colab.kernel.accessAllowed ? 'block' : 'none';\n",
              "\n",
              "        async function convertToInteractive(key) {\n",
              "          const element = document.querySelector('#df-a31b9a4a-b69e-4597-8d01-46e70f9dd2bb');\n",
              "          const dataTable =\n",
              "            await google.colab.kernel.invokeFunction('convertToInteractive',\n",
              "                                                     [key], {});\n",
              "          if (!dataTable) return;\n",
              "\n",
              "          const docLinkHtml = 'Like what you see? Visit the ' +\n",
              "            '<a target=\"_blank\" href=https://colab.research.google.com/notebooks/data_table.ipynb>data table notebook</a>'\n",
              "            + ' to learn more about interactive tables.';\n",
              "          element.innerHTML = '';\n",
              "          dataTable['output_type'] = 'display_data';\n",
              "          await google.colab.output.renderOutput(dataTable, element);\n",
              "          const docLink = document.createElement('div');\n",
              "          docLink.innerHTML = docLinkHtml;\n",
              "          element.appendChild(docLink);\n",
              "        }\n",
              "      </script>\n",
              "    </div>\n",
              "  </div>\n",
              "  "
            ]
          },
          "metadata": {},
          "execution_count": 94
        }
      ],
      "source": [
        "df=pd.read_csv('Gorkha Earthquake')\n",
        "df.head()"
      ]
    },
    {
      "cell_type": "code",
      "execution_count": 95,
      "metadata": {
        "colab": {
          "base_uri": "https://localhost:8080/"
        },
        "id": "rDVkmx8J66bI",
        "outputId": "e3075ba9-93af-43ed-b68b-4907a5694cc3"
      },
      "outputs": [
        {
          "output_type": "stream",
          "name": "stdout",
          "text": [
            "<class 'pandas.core.frame.DataFrame'>\n",
            "RangeIndex: 21213 entries, 0 to 21212\n",
            "Data columns (total 40 columns):\n",
            " #   Column                                  Non-Null Count  Dtype \n",
            "---  ------                                  --------------  ----- \n",
            " 0   building_id                             21213 non-null  int64 \n",
            " 1   geo_level_1_id                          21213 non-null  int64 \n",
            " 2   geo_level_2_id                          21213 non-null  int64 \n",
            " 3   geo_level_3_id                          21213 non-null  int64 \n",
            " 4   count_floors_pre_eq                     21213 non-null  int64 \n",
            " 5   age                                     21213 non-null  int64 \n",
            " 6   area_percentage                         21213 non-null  int64 \n",
            " 7   height_percentage                       21213 non-null  int64 \n",
            " 8   land_surface_condition                  21213 non-null  object\n",
            " 9   foundation_type                         21213 non-null  object\n",
            " 10  roof_type                               21213 non-null  object\n",
            " 11  ground_floor_type                       21213 non-null  object\n",
            " 12  other_floor_type                        21213 non-null  object\n",
            " 13  position                                21213 non-null  object\n",
            " 14  plan_configuration                      21213 non-null  object\n",
            " 15  has_superstructure_adobe_mud            21213 non-null  int64 \n",
            " 16  has_superstructure_mud_mortar_stone     21213 non-null  int64 \n",
            " 17  has_superstructure_stone_flag           21213 non-null  int64 \n",
            " 18  has_superstructure_cement_mortar_stone  21213 non-null  int64 \n",
            " 19  has_superstructure_mud_mortar_brick     21213 non-null  int64 \n",
            " 20  has_superstructure_cement_mortar_brick  21213 non-null  int64 \n",
            " 21  has_superstructure_timber               21213 non-null  int64 \n",
            " 22  has_superstructure_bamboo               21213 non-null  int64 \n",
            " 23  has_superstructure_rc_non_engineered    21213 non-null  int64 \n",
            " 24  has_superstructure_rc_engineered        21213 non-null  int64 \n",
            " 25  has_superstructure_other                21213 non-null  int64 \n",
            " 26  legal_ownership_status                  21213 non-null  object\n",
            " 27  count_families                          21213 non-null  int64 \n",
            " 28  has_secondary_use                       21213 non-null  int64 \n",
            " 29  has_secondary_use_agriculture           21213 non-null  int64 \n",
            " 30  has_secondary_use_hotel                 21213 non-null  int64 \n",
            " 31  has_secondary_use_rental                21213 non-null  int64 \n",
            " 32  has_secondary_use_institution           21213 non-null  int64 \n",
            " 33  has_secondary_use_school                21213 non-null  int64 \n",
            " 34  has_secondary_use_industry              21213 non-null  int64 \n",
            " 35  has_secondary_use_health_post           21213 non-null  int64 \n",
            " 36  has_secondary_use_gov_office            21213 non-null  int64 \n",
            " 37  has_secondary_use_use_police            21213 non-null  int64 \n",
            " 38  has_secondary_use_other                 21213 non-null  int64 \n",
            " 39  damage_grade                            21213 non-null  int64 \n",
            "dtypes: int64(32), object(8)\n",
            "memory usage: 6.5+ MB\n"
          ]
        }
      ],
      "source": [
        "df.info()"
      ]
    },
    {
      "cell_type": "code",
      "execution_count": 96,
      "metadata": {
        "colab": {
          "base_uri": "https://localhost:8080/",
          "height": 394
        },
        "id": "9BhnRvJI66bK",
        "outputId": "f8b70192-1310-4c60-df16-59ceeea7369d"
      },
      "outputs": [
        {
          "output_type": "execute_result",
          "data": {
            "text/plain": [
              "        building_id  geo_level_1_id  geo_level_2_id  geo_level_3_id  \\\n",
              "count  2.121300e+04    21213.000000    21213.000000    21213.000000   \n",
              "mean   5.260840e+05       13.932966      699.164003     6291.000849   \n",
              "std    3.041160e+05        8.004815      412.578624     3676.406426   \n",
              "min    6.500000e+01        0.000000        0.000000        3.000000   \n",
              "25%    2.605160e+05        7.000000      347.000000     3072.000000   \n",
              "50%    5.272770e+05       12.000000      696.000000     6284.000000   \n",
              "75%    7.913970e+05       21.000000     1050.000000     9497.000000   \n",
              "max    1.052855e+06       30.000000     1427.000000    12564.000000   \n",
              "\n",
              "       count_floors_pre_eq           age  area_percentage  height_percentage  \\\n",
              "count         21213.000000  21213.000000     21213.000000       21213.000000   \n",
              "mean              2.125018     25.757554         8.019139           5.430632   \n",
              "std               0.733562     68.829457         4.415860           1.952326   \n",
              "min               1.000000      0.000000         1.000000           2.000000   \n",
              "25%               2.000000     10.000000         5.000000           4.000000   \n",
              "50%               2.000000     15.000000         7.000000           5.000000   \n",
              "75%               2.000000     30.000000         9.000000           6.000000   \n",
              "max               9.000000    995.000000       100.000000          32.000000   \n",
              "\n",
              "       has_superstructure_adobe_mud  has_superstructure_mud_mortar_stone  ...  \\\n",
              "count                  21213.000000                         21213.000000  ...   \n",
              "mean                       0.085891                             0.762363  ...   \n",
              "std                        0.280209                             0.425646  ...   \n",
              "min                        0.000000                             0.000000  ...   \n",
              "25%                        0.000000                             1.000000  ...   \n",
              "50%                        0.000000                             1.000000  ...   \n",
              "75%                        0.000000                             1.000000  ...   \n",
              "max                        1.000000                             1.000000  ...   \n",
              "\n",
              "       has_secondary_use_hotel  has_secondary_use_rental  \\\n",
              "count             21213.000000              21213.000000   \n",
              "mean                  0.034507                  0.008061   \n",
              "std                   0.182532                  0.089423   \n",
              "min                   0.000000                  0.000000   \n",
              "25%                   0.000000                  0.000000   \n",
              "50%                   0.000000                  0.000000   \n",
              "75%                   0.000000                  0.000000   \n",
              "max                   1.000000                  1.000000   \n",
              "\n",
              "       has_secondary_use_institution  has_secondary_use_school  \\\n",
              "count                   21213.000000              21213.000000   \n",
              "mean                        0.000990                  0.000283   \n",
              "std                         0.031449                  0.016816   \n",
              "min                         0.000000                  0.000000   \n",
              "25%                         0.000000                  0.000000   \n",
              "50%                         0.000000                  0.000000   \n",
              "75%                         0.000000                  0.000000   \n",
              "max                         1.000000                  1.000000   \n",
              "\n",
              "       has_secondary_use_industry  has_secondary_use_health_post  \\\n",
              "count                21213.000000                   21213.000000   \n",
              "mean                     0.001084                       0.000141   \n",
              "std                      0.032911                       0.011892   \n",
              "min                      0.000000                       0.000000   \n",
              "25%                      0.000000                       0.000000   \n",
              "50%                      0.000000                       0.000000   \n",
              "75%                      0.000000                       0.000000   \n",
              "max                      1.000000                       1.000000   \n",
              "\n",
              "       has_secondary_use_gov_office  has_secondary_use_use_police  \\\n",
              "count                       21213.0                  21213.000000   \n",
              "mean                            0.0                      0.000141   \n",
              "std                             0.0                      0.011892   \n",
              "min                             0.0                      0.000000   \n",
              "25%                             0.0                      0.000000   \n",
              "50%                             0.0                      0.000000   \n",
              "75%                             0.0                      0.000000   \n",
              "max                             0.0                      1.000000   \n",
              "\n",
              "       has_secondary_use_other  damage_grade  \n",
              "count             21213.000000  21213.000000  \n",
              "mean                  0.005185      2.241031  \n",
              "std                   0.071825      0.613530  \n",
              "min                   0.000000      1.000000  \n",
              "25%                   0.000000      2.000000  \n",
              "50%                   0.000000      2.000000  \n",
              "75%                   0.000000      3.000000  \n",
              "max                   1.000000      3.000000  \n",
              "\n",
              "[8 rows x 32 columns]"
            ],
            "text/html": [
              "\n",
              "  <div id=\"df-193f1efe-ca01-49c7-b815-c829036d0aef\">\n",
              "    <div class=\"colab-df-container\">\n",
              "      <div>\n",
              "<style scoped>\n",
              "    .dataframe tbody tr th:only-of-type {\n",
              "        vertical-align: middle;\n",
              "    }\n",
              "\n",
              "    .dataframe tbody tr th {\n",
              "        vertical-align: top;\n",
              "    }\n",
              "\n",
              "    .dataframe thead th {\n",
              "        text-align: right;\n",
              "    }\n",
              "</style>\n",
              "<table border=\"1\" class=\"dataframe\">\n",
              "  <thead>\n",
              "    <tr style=\"text-align: right;\">\n",
              "      <th></th>\n",
              "      <th>building_id</th>\n",
              "      <th>geo_level_1_id</th>\n",
              "      <th>geo_level_2_id</th>\n",
              "      <th>geo_level_3_id</th>\n",
              "      <th>count_floors_pre_eq</th>\n",
              "      <th>age</th>\n",
              "      <th>area_percentage</th>\n",
              "      <th>height_percentage</th>\n",
              "      <th>has_superstructure_adobe_mud</th>\n",
              "      <th>has_superstructure_mud_mortar_stone</th>\n",
              "      <th>...</th>\n",
              "      <th>has_secondary_use_hotel</th>\n",
              "      <th>has_secondary_use_rental</th>\n",
              "      <th>has_secondary_use_institution</th>\n",
              "      <th>has_secondary_use_school</th>\n",
              "      <th>has_secondary_use_industry</th>\n",
              "      <th>has_secondary_use_health_post</th>\n",
              "      <th>has_secondary_use_gov_office</th>\n",
              "      <th>has_secondary_use_use_police</th>\n",
              "      <th>has_secondary_use_other</th>\n",
              "      <th>damage_grade</th>\n",
              "    </tr>\n",
              "  </thead>\n",
              "  <tbody>\n",
              "    <tr>\n",
              "      <th>count</th>\n",
              "      <td>2.121300e+04</td>\n",
              "      <td>21213.000000</td>\n",
              "      <td>21213.000000</td>\n",
              "      <td>21213.000000</td>\n",
              "      <td>21213.000000</td>\n",
              "      <td>21213.000000</td>\n",
              "      <td>21213.000000</td>\n",
              "      <td>21213.000000</td>\n",
              "      <td>21213.000000</td>\n",
              "      <td>21213.000000</td>\n",
              "      <td>...</td>\n",
              "      <td>21213.000000</td>\n",
              "      <td>21213.000000</td>\n",
              "      <td>21213.000000</td>\n",
              "      <td>21213.000000</td>\n",
              "      <td>21213.000000</td>\n",
              "      <td>21213.000000</td>\n",
              "      <td>21213.0</td>\n",
              "      <td>21213.000000</td>\n",
              "      <td>21213.000000</td>\n",
              "      <td>21213.000000</td>\n",
              "    </tr>\n",
              "    <tr>\n",
              "      <th>mean</th>\n",
              "      <td>5.260840e+05</td>\n",
              "      <td>13.932966</td>\n",
              "      <td>699.164003</td>\n",
              "      <td>6291.000849</td>\n",
              "      <td>2.125018</td>\n",
              "      <td>25.757554</td>\n",
              "      <td>8.019139</td>\n",
              "      <td>5.430632</td>\n",
              "      <td>0.085891</td>\n",
              "      <td>0.762363</td>\n",
              "      <td>...</td>\n",
              "      <td>0.034507</td>\n",
              "      <td>0.008061</td>\n",
              "      <td>0.000990</td>\n",
              "      <td>0.000283</td>\n",
              "      <td>0.001084</td>\n",
              "      <td>0.000141</td>\n",
              "      <td>0.0</td>\n",
              "      <td>0.000141</td>\n",
              "      <td>0.005185</td>\n",
              "      <td>2.241031</td>\n",
              "    </tr>\n",
              "    <tr>\n",
              "      <th>std</th>\n",
              "      <td>3.041160e+05</td>\n",
              "      <td>8.004815</td>\n",
              "      <td>412.578624</td>\n",
              "      <td>3676.406426</td>\n",
              "      <td>0.733562</td>\n",
              "      <td>68.829457</td>\n",
              "      <td>4.415860</td>\n",
              "      <td>1.952326</td>\n",
              "      <td>0.280209</td>\n",
              "      <td>0.425646</td>\n",
              "      <td>...</td>\n",
              "      <td>0.182532</td>\n",
              "      <td>0.089423</td>\n",
              "      <td>0.031449</td>\n",
              "      <td>0.016816</td>\n",
              "      <td>0.032911</td>\n",
              "      <td>0.011892</td>\n",
              "      <td>0.0</td>\n",
              "      <td>0.011892</td>\n",
              "      <td>0.071825</td>\n",
              "      <td>0.613530</td>\n",
              "    </tr>\n",
              "    <tr>\n",
              "      <th>min</th>\n",
              "      <td>6.500000e+01</td>\n",
              "      <td>0.000000</td>\n",
              "      <td>0.000000</td>\n",
              "      <td>3.000000</td>\n",
              "      <td>1.000000</td>\n",
              "      <td>0.000000</td>\n",
              "      <td>1.000000</td>\n",
              "      <td>2.000000</td>\n",
              "      <td>0.000000</td>\n",
              "      <td>0.000000</td>\n",
              "      <td>...</td>\n",
              "      <td>0.000000</td>\n",
              "      <td>0.000000</td>\n",
              "      <td>0.000000</td>\n",
              "      <td>0.000000</td>\n",
              "      <td>0.000000</td>\n",
              "      <td>0.000000</td>\n",
              "      <td>0.0</td>\n",
              "      <td>0.000000</td>\n",
              "      <td>0.000000</td>\n",
              "      <td>1.000000</td>\n",
              "    </tr>\n",
              "    <tr>\n",
              "      <th>25%</th>\n",
              "      <td>2.605160e+05</td>\n",
              "      <td>7.000000</td>\n",
              "      <td>347.000000</td>\n",
              "      <td>3072.000000</td>\n",
              "      <td>2.000000</td>\n",
              "      <td>10.000000</td>\n",
              "      <td>5.000000</td>\n",
              "      <td>4.000000</td>\n",
              "      <td>0.000000</td>\n",
              "      <td>1.000000</td>\n",
              "      <td>...</td>\n",
              "      <td>0.000000</td>\n",
              "      <td>0.000000</td>\n",
              "      <td>0.000000</td>\n",
              "      <td>0.000000</td>\n",
              "      <td>0.000000</td>\n",
              "      <td>0.000000</td>\n",
              "      <td>0.0</td>\n",
              "      <td>0.000000</td>\n",
              "      <td>0.000000</td>\n",
              "      <td>2.000000</td>\n",
              "    </tr>\n",
              "    <tr>\n",
              "      <th>50%</th>\n",
              "      <td>5.272770e+05</td>\n",
              "      <td>12.000000</td>\n",
              "      <td>696.000000</td>\n",
              "      <td>6284.000000</td>\n",
              "      <td>2.000000</td>\n",
              "      <td>15.000000</td>\n",
              "      <td>7.000000</td>\n",
              "      <td>5.000000</td>\n",
              "      <td>0.000000</td>\n",
              "      <td>1.000000</td>\n",
              "      <td>...</td>\n",
              "      <td>0.000000</td>\n",
              "      <td>0.000000</td>\n",
              "      <td>0.000000</td>\n",
              "      <td>0.000000</td>\n",
              "      <td>0.000000</td>\n",
              "      <td>0.000000</td>\n",
              "      <td>0.0</td>\n",
              "      <td>0.000000</td>\n",
              "      <td>0.000000</td>\n",
              "      <td>2.000000</td>\n",
              "    </tr>\n",
              "    <tr>\n",
              "      <th>75%</th>\n",
              "      <td>7.913970e+05</td>\n",
              "      <td>21.000000</td>\n",
              "      <td>1050.000000</td>\n",
              "      <td>9497.000000</td>\n",
              "      <td>2.000000</td>\n",
              "      <td>30.000000</td>\n",
              "      <td>9.000000</td>\n",
              "      <td>6.000000</td>\n",
              "      <td>0.000000</td>\n",
              "      <td>1.000000</td>\n",
              "      <td>...</td>\n",
              "      <td>0.000000</td>\n",
              "      <td>0.000000</td>\n",
              "      <td>0.000000</td>\n",
              "      <td>0.000000</td>\n",
              "      <td>0.000000</td>\n",
              "      <td>0.000000</td>\n",
              "      <td>0.0</td>\n",
              "      <td>0.000000</td>\n",
              "      <td>0.000000</td>\n",
              "      <td>3.000000</td>\n",
              "    </tr>\n",
              "    <tr>\n",
              "      <th>max</th>\n",
              "      <td>1.052855e+06</td>\n",
              "      <td>30.000000</td>\n",
              "      <td>1427.000000</td>\n",
              "      <td>12564.000000</td>\n",
              "      <td>9.000000</td>\n",
              "      <td>995.000000</td>\n",
              "      <td>100.000000</td>\n",
              "      <td>32.000000</td>\n",
              "      <td>1.000000</td>\n",
              "      <td>1.000000</td>\n",
              "      <td>...</td>\n",
              "      <td>1.000000</td>\n",
              "      <td>1.000000</td>\n",
              "      <td>1.000000</td>\n",
              "      <td>1.000000</td>\n",
              "      <td>1.000000</td>\n",
              "      <td>1.000000</td>\n",
              "      <td>0.0</td>\n",
              "      <td>1.000000</td>\n",
              "      <td>1.000000</td>\n",
              "      <td>3.000000</td>\n",
              "    </tr>\n",
              "  </tbody>\n",
              "</table>\n",
              "<p>8 rows × 32 columns</p>\n",
              "</div>\n",
              "      <button class=\"colab-df-convert\" onclick=\"convertToInteractive('df-193f1efe-ca01-49c7-b815-c829036d0aef')\"\n",
              "              title=\"Convert this dataframe to an interactive table.\"\n",
              "              style=\"display:none;\">\n",
              "        \n",
              "  <svg xmlns=\"http://www.w3.org/2000/svg\" height=\"24px\"viewBox=\"0 0 24 24\"\n",
              "       width=\"24px\">\n",
              "    <path d=\"M0 0h24v24H0V0z\" fill=\"none\"/>\n",
              "    <path d=\"M18.56 5.44l.94 2.06.94-2.06 2.06-.94-2.06-.94-.94-2.06-.94 2.06-2.06.94zm-11 1L8.5 8.5l.94-2.06 2.06-.94-2.06-.94L8.5 2.5l-.94 2.06-2.06.94zm10 10l.94 2.06.94-2.06 2.06-.94-2.06-.94-.94-2.06-.94 2.06-2.06.94z\"/><path d=\"M17.41 7.96l-1.37-1.37c-.4-.4-.92-.59-1.43-.59-.52 0-1.04.2-1.43.59L10.3 9.45l-7.72 7.72c-.78.78-.78 2.05 0 2.83L4 21.41c.39.39.9.59 1.41.59.51 0 1.02-.2 1.41-.59l7.78-7.78 2.81-2.81c.8-.78.8-2.07 0-2.86zM5.41 20L4 18.59l7.72-7.72 1.47 1.35L5.41 20z\"/>\n",
              "  </svg>\n",
              "      </button>\n",
              "      \n",
              "  <style>\n",
              "    .colab-df-container {\n",
              "      display:flex;\n",
              "      flex-wrap:wrap;\n",
              "      gap: 12px;\n",
              "    }\n",
              "\n",
              "    .colab-df-convert {\n",
              "      background-color: #E8F0FE;\n",
              "      border: none;\n",
              "      border-radius: 50%;\n",
              "      cursor: pointer;\n",
              "      display: none;\n",
              "      fill: #1967D2;\n",
              "      height: 32px;\n",
              "      padding: 0 0 0 0;\n",
              "      width: 32px;\n",
              "    }\n",
              "\n",
              "    .colab-df-convert:hover {\n",
              "      background-color: #E2EBFA;\n",
              "      box-shadow: 0px 1px 2px rgba(60, 64, 67, 0.3), 0px 1px 3px 1px rgba(60, 64, 67, 0.15);\n",
              "      fill: #174EA6;\n",
              "    }\n",
              "\n",
              "    [theme=dark] .colab-df-convert {\n",
              "      background-color: #3B4455;\n",
              "      fill: #D2E3FC;\n",
              "    }\n",
              "\n",
              "    [theme=dark] .colab-df-convert:hover {\n",
              "      background-color: #434B5C;\n",
              "      box-shadow: 0px 1px 3px 1px rgba(0, 0, 0, 0.15);\n",
              "      filter: drop-shadow(0px 1px 2px rgba(0, 0, 0, 0.3));\n",
              "      fill: #FFFFFF;\n",
              "    }\n",
              "  </style>\n",
              "\n",
              "      <script>\n",
              "        const buttonEl =\n",
              "          document.querySelector('#df-193f1efe-ca01-49c7-b815-c829036d0aef button.colab-df-convert');\n",
              "        buttonEl.style.display =\n",
              "          google.colab.kernel.accessAllowed ? 'block' : 'none';\n",
              "\n",
              "        async function convertToInteractive(key) {\n",
              "          const element = document.querySelector('#df-193f1efe-ca01-49c7-b815-c829036d0aef');\n",
              "          const dataTable =\n",
              "            await google.colab.kernel.invokeFunction('convertToInteractive',\n",
              "                                                     [key], {});\n",
              "          if (!dataTable) return;\n",
              "\n",
              "          const docLinkHtml = 'Like what you see? Visit the ' +\n",
              "            '<a target=\"_blank\" href=https://colab.research.google.com/notebooks/data_table.ipynb>data table notebook</a>'\n",
              "            + ' to learn more about interactive tables.';\n",
              "          element.innerHTML = '';\n",
              "          dataTable['output_type'] = 'display_data';\n",
              "          await google.colab.output.renderOutput(dataTable, element);\n",
              "          const docLink = document.createElement('div');\n",
              "          docLink.innerHTML = docLinkHtml;\n",
              "          element.appendChild(docLink);\n",
              "        }\n",
              "      </script>\n",
              "    </div>\n",
              "  </div>\n",
              "  "
            ]
          },
          "metadata": {},
          "execution_count": 96
        }
      ],
      "source": [
        "df.describe()"
      ]
    },
    {
      "cell_type": "markdown",
      "metadata": {
        "id": "wzLqLuAX66bM"
      },
      "source": [
        "# Damage Grade"
      ]
    },
    {
      "cell_type": "code",
      "execution_count": 97,
      "metadata": {
        "colab": {
          "base_uri": "https://localhost:8080/",
          "height": 283
        },
        "id": "dSq6SLo966bO",
        "outputId": "41ccf20c-fe50-415e-94d1-bc9cf047b8ab"
      },
      "outputs": [
        {
          "output_type": "execute_result",
          "data": {
            "text/plain": [
              "<matplotlib.axes._subplots.AxesSubplot at 0x7fefc79a2c50>"
            ]
          },
          "metadata": {},
          "execution_count": 97
        },
        {
          "output_type": "display_data",
          "data": {
            "text/plain": [
              "<Figure size 432x288 with 1 Axes>"
            ],
            "image/png": "[encoded data removed]"
          },
          "metadata": {
            "needs_background": "light"
          }
        }
      ],
      "source": [
        "df['damage_grade'].hist()"
      ]
    },
    {
      "cell_type": "code",
      "execution_count": 98,
      "metadata": {
        "colab": {
          "base_uri": "https://localhost:8080/",
          "height": 266
        },
        "id": "KqdMSzMA66bQ",
        "outputId": "f8138ed0-b22b-4dc1-d0c1-6aa4897710db"
      },
      "outputs": [
        {
          "output_type": "execute_result",
          "data": {
            "text/plain": [
              "<matplotlib.axes._subplots.AxesSubplot at 0x7fefc79e2cd0>"
            ]
          },
          "metadata": {},
          "execution_count": 98
        },
        {
          "output_type": "display_data",
          "data": {
            "text/plain": [
              "<Figure size 432x288 with 1 Axes>"
            ],
            "image/png": "[encoded data removed]"
          },
          "metadata": {}
        }
      ],
      "source": [
        "df['damage_grade'].value_counts().plot(kind='pie',legend=True)"
      ]
    },
    {
      "cell_type": "markdown",
      "metadata": {
        "id": "X0FmGOVf66bR"
      },
      "source": [
        "# Effect of Geo_levels on Damage Grade"
      ]
    },
    {
      "cell_type": "code",
      "execution_count": 99,
      "metadata": {
        "colab": {
          "base_uri": "https://localhost:8080/",
          "height": 283
        },
        "id": "Gx3-7hT866bR",
        "outputId": "abb384bf-ecae-42ff-9f53-8de69c3d66a0"
      },
      "outputs": [
        {
          "output_type": "execute_result",
          "data": {
            "text/plain": [
              "<matplotlib.axes._subplots.AxesSubplot at 0x7fefc7888f50>"
            ]
          },
          "metadata": {},
          "execution_count": 99
        },
        {
          "output_type": "display_data",
          "data": {
            "text/plain": [
              "<Figure size 432x288 with 1 Axes>"
            ],
            "image/png": "[encoded data removed]"
          },
          "metadata": {
            "needs_background": "light"
          }
        }
      ],
      "source": [
        "df['geo_level_1_id'].hist(bins=30)"
      ]
    },
    {
      "cell_type": "code",
      "execution_count": 100,
      "metadata": {
        "colab": {
          "base_uri": "https://localhost:8080/",
          "height": 283
        },
        "id": "Z2k4yuZ-66bS",
        "outputId": "28949e37-2929-4aea-f17d-8c80c36f9d5e"
      },
      "outputs": [
        {
          "output_type": "execute_result",
          "data": {
            "text/plain": [
              "<matplotlib.axes._subplots.AxesSubplot at 0x7fefc7971ed0>"
            ]
          },
          "metadata": {},
          "execution_count": 100
        },
        {
          "output_type": "display_data",
          "data": {
            "text/plain": [
              "<Figure size 432x288 with 1 Axes>"
            ],
            "image/png": "[encoded data removed]"
          },
          "metadata": {
            "needs_background": "light"
          }
        }
      ],
      "source": [
        "df['geo_level_2_id'].hist(bins=125)"
      ]
    },
    {
      "cell_type": "code",
      "execution_count": 101,
      "metadata": {
        "colab": {
          "base_uri": "https://localhost:8080/",
          "height": 283
        },
        "id": "X2WrqYQe66bT",
        "outputId": "40091d10-d633-44b7-c818-aa7699f39ad1"
      },
      "outputs": [
        {
          "output_type": "execute_result",
          "data": {
            "text/plain": [
              "<matplotlib.axes._subplots.AxesSubplot at 0x7fefad3dfad0>"
            ]
          },
          "metadata": {},
          "execution_count": 101
        },
        {
          "output_type": "display_data",
          "data": {
            "text/plain": [
              "<Figure size 432x288 with 1 Axes>"
            ],
            "image/png": "[encoded data removed]"
          },
          "metadata": {
            "needs_background": "light"
          }
        }
      ],
      "source": [
        "df['geo_level_3_id'].hist(bins=250)"
      ]
    },
    {
      "cell_type": "markdown",
      "metadata": {
        "id": "mG6C4Lhb66bU"
      },
      "source": [
        "# Pre-earthquake Number of floor"
      ]
    },
    {
      "cell_type": "code",
      "execution_count": 102,
      "metadata": {
        "colab": {
          "base_uri": "https://localhost:8080/",
          "height": 266
        },
        "id": "qP6VKEmr66bV",
        "outputId": "ec27cbf2-4cdf-4ae6-e291-13c0067c7a62"
      },
      "outputs": [
        {
          "output_type": "execute_result",
          "data": {
            "text/plain": [
              "<matplotlib.axes._subplots.AxesSubplot at 0x7fefacef6dd0>"
            ]
          },
          "metadata": {},
          "execution_count": 102
        },
        {
          "output_type": "display_data",
          "data": {
            "text/plain": [
              "<Figure size 432x288 with 1 Axes>"
            ],
            "image/png": "[encoded data removed]"
          },
          "metadata": {}
        }
      ],
      "source": [
        "df['count_floors_pre_eq'].value_counts().plot(kind='pie',legend=True)"
      ]
    },
    {
      "cell_type": "code",
      "execution_count": 103,
      "metadata": {
        "colab": {
          "base_uri": "https://localhost:8080/",
          "height": 298
        },
        "id": "gGdgGjTv66bV",
        "outputId": "0fc297b6-429d-44b8-e307-18baeee8ed3b"
      },
      "outputs": [
        {
          "output_type": "execute_result",
          "data": {
            "text/plain": [
              "<matplotlib.axes._subplots.AxesSubplot at 0x7feface424d0>"
            ]
          },
          "metadata": {},
          "execution_count": 103
        },
        {
          "output_type": "display_data",
          "data": {
            "text/plain": [
              "<Figure size 432x288 with 1 Axes>"
            ],
            "image/png": "[encoded data removed]"
          },
          "metadata": {
            "needs_background": "light"
          }
        }
      ],
      "source": [
        "sbs.countplot(data=df,x='count_floors_pre_eq',hue='damage_grade')"
      ]
    },
    {
      "cell_type": "code",
      "execution_count": 104,
      "metadata": {
        "colab": {
          "base_uri": "https://localhost:8080/",
          "height": 298
        },
        "id": "pol0K4ox66bW",
        "outputId": "20154111-6ec9-462e-9fd7-53a13f6305ff"
      },
      "outputs": [
        {
          "output_type": "execute_result",
          "data": {
            "text/plain": [
              "<matplotlib.axes._subplots.AxesSubplot at 0x7fefacdb0cd0>"
            ]
          },
          "metadata": {},
          "execution_count": 104
        },
        {
          "output_type": "display_data",
          "data": {
            "text/plain": [
              "<Figure size 432x288 with 1 Axes>"
            ],
            "image/png": "[encoded data removed]"
          },
          "metadata": {
            "needs_background": "light"
          }
        }
      ],
      "source": [
        "sbs.violinplot(data=df,x='damage_grade',y='count_floors_pre_eq',hue='damage_grade')"
      ]
    },
    {
      "cell_type": "markdown",
      "metadata": {
        "id": "SNJvrgy866bX"
      },
      "source": [
        "# Effect of Age"
      ]
    },
    {
      "cell_type": "code",
      "execution_count": 105,
      "metadata": {
        "colab": {
          "base_uri": "https://localhost:8080/",
          "height": 297
        },
        "id": "fIhJRnA466bX",
        "outputId": "bd58a08e-08bb-4c99-d5d0-e2e384bf4f5a"
      },
      "outputs": [
        {
          "output_type": "execute_result",
          "data": {
            "text/plain": [
              "<matplotlib.axes._subplots.AxesSubplot at 0x7fefaccbabd0>"
            ]
          },
          "metadata": {},
          "execution_count": 105
        },
        {
          "output_type": "display_data",
          "data": {
            "text/plain": [
              "<Figure size 432x288 with 1 Axes>"
            ],
            "image/png": "[encoded data removed]"
          },
          "metadata": {
            "needs_background": "light"
          }
        }
      ],
      "source": [
        "sbs.countplot(data=df,x='age',hue='damage_grade')"
      ]
    },
    {
      "cell_type": "markdown",
      "metadata": {
        "id": "nGVzMSVL66bY"
      },
      "source": [
        "# Effect of number of floor and building height"
      ]
    },
    {
      "cell_type": "code",
      "execution_count": 106,
      "metadata": {
        "colab": {
          "base_uri": "https://localhost:8080/",
          "height": 298
        },
        "id": "LCVpZoo166bY",
        "outputId": "eeda1706-68fb-4511-8586-40801a4efc04"
      },
      "outputs": [
        {
          "output_type": "execute_result",
          "data": {
            "text/plain": [
              "<matplotlib.axes._subplots.AxesSubplot at 0x7fefacca6250>"
            ]
          },
          "metadata": {},
          "execution_count": 106
        },
        {
          "output_type": "display_data",
          "data": {
            "text/plain": [
              "<Figure size 432x288 with 1 Axes>"
            ],
            "image/png": "[encoded data removed]"
          },
          "metadata": {
            "needs_background": "light"
          }
        }
      ],
      "source": [
        "sbs.violinplot(data=df,x='damage_grade',y='count_floors_pre_eq',hue='damage_grade')"
      ]
    },
    {
      "cell_type": "code",
      "execution_count": 107,
      "metadata": {
        "colab": {
          "base_uri": "https://localhost:8080/",
          "height": 298
        },
        "id": "eXSXshCS66bZ",
        "outputId": "94d3e6e6-0229-4844-a9c8-9ecdab98150b"
      },
      "outputs": [
        {
          "output_type": "execute_result",
          "data": {
            "text/plain": [
              "<matplotlib.axes._subplots.AxesSubplot at 0x7fefaca360d0>"
            ]
          },
          "metadata": {},
          "execution_count": 107
        },
        {
          "output_type": "display_data",
          "data": {
            "text/plain": [
              "<Figure size 432x288 with 1 Axes>"
            ],
            "image/png": "[encoded data removed]"
          },
          "metadata": {
            "needs_background": "light"
          }
        }
      ],
      "source": [
        "sbs.boxplot(data=df,x='damage_grade',y='height_percentage',hue='damage_grade')"
      ]
    },
    {
      "cell_type": "markdown",
      "metadata": {
        "id": "YtRukJBr66ba"
      },
      "source": [
        "# Effect of Roof Type and Floor Type"
      ]
    },
    {
      "cell_type": "code",
      "execution_count": 108,
      "metadata": {
        "colab": {
          "base_uri": "https://localhost:8080/",
          "height": 298
        },
        "id": "nuxXMs-n66ba",
        "outputId": "5af66b66-0563-4cb9-e0d4-f1b3869ae4df"
      },
      "outputs": [
        {
          "output_type": "execute_result",
          "data": {
            "text/plain": [
              "<matplotlib.axes._subplots.AxesSubplot at 0x7fefaca1ee90>"
            ]
          },
          "metadata": {},
          "execution_count": 108
        },
        {
          "output_type": "display_data",
          "data": {
            "text/plain": [
              "<Figure size 432x288 with 1 Axes>"
            ],
            "image/png": "[encoded data removed]"
          },
          "metadata": {
            "needs_background": "light"
          }
        }
      ],
      "source": [
        "sbs.countplot(data=df,x='roof_type',hue='damage_grade')"
      ]
    },
    {
      "cell_type": "markdown",
      "metadata": {
        "id": "ulLZP0lr66bb"
      },
      "source": [
        "# Looking for relationship between building use type and damage grade"
      ]
    },
    {
      "cell_type": "code",
      "execution_count": 109,
      "metadata": {
        "id": "MDkzCqMJ66bc"
      },
      "outputs": [],
      "source": [
        "a1=[\"has_secondary_use\",\"has_secondary_use_agriculture\",\n",
        "          \"has_secondary_use_hotel\",\"has_secondary_use_rental\",\"has_secondary_use_institution\",\"has_secondary_use_school\",\"has_secondary_use_industry\",\n",
        "          \"has_secondary_use_health_post\",\"has_secondary_use_gov_office\",\"has_secondary_use_use_police\",\"has_secondary_use_other\"]"
      ]
    },
    {
      "cell_type": "code",
      "execution_count": 110,
      "metadata": {
        "colab": {
          "base_uri": "https://localhost:8080/",
          "height": 1000
        },
        "id": "eJ4H2c7E66bc",
        "outputId": "e03d8b73-411d-403e-e41e-cb1566818433"
      },
      "outputs": [
        {
          "output_type": "display_data",
          "data": {
            "text/plain": [
              "<Figure size 360x504 with 1 Axes>"
            ],
            "image/png": "[encoded data removed]"
          },
          "metadata": {
            "needs_background": "light"
          }
        },
        {
          "output_type": "display_data",
          "data": {
            "text/plain": [
              "<Figure size 360x504 with 1 Axes>"
            ],
            "image/png": "[encoded data removed]"
          },
          "metadata": {
            "needs_background": "light"
          }
        },
        {
          "output_type": "display_data",
          "data": {
            "text/plain": [
              "<Figure size 360x504 with 1 Axes>"
            ],
            "image/png": "[encoded data removed]"
          },
          "metadata": {
            "needs_background": "light"
          }
        },
        {
          "output_type": "display_data",
          "data": {
            "text/plain": [
              "<Figure size 360x504 with 1 Axes>"
            ],
            "image/png": "[encoded data removed]"
          },
          "metadata": {
            "needs_background": "light"
          }
        },
        {
          "output_type": "display_data",
          "data": {
            "text/plain": [
              "<Figure size 360x504 with 1 Axes>"
            ],
            "image/png": "[encoded data removed]"
          },
          "metadata": {
            "needs_background": "light"
          }
        },
        {
          "output_type": "display_data",
          "data": {
            "text/plain": [
              "<Figure size 360x504 with 1 Axes>"
            ],
            "image/png": "[encoded data removed]"
          },
          "metadata": {
            "needs_background": "light"
          }
        },
        {
          "output_type": "display_data",
          "data": {
            "text/plain": [
              "<Figure size 360x504 with 1 Axes>"
            ],
            "image/png": "[encoded data removed]"
          },
          "metadata": {
            "needs_background": "light"
          }
        },
        {
          "output_type": "display_data",
          "data": {
            "text/plain": [
              "<Figure size 360x504 with 1 Axes>"
            ],
            "image/png": "[encoded data removed]"
          },
          "metadata": {
            "needs_background": "light"
          }
        },
        {
          "output_type": "display_data",
          "data": {
            "text/plain": [
              "<Figure size 360x504 with 1 Axes>"
            ],
            "image/png": "[encoded data removed]"
          },
          "metadata": {
            "needs_background": "light"
          }
        },
        {
          "output_type": "display_data",
          "data": {
            "text/plain": [
              "<Figure size 360x504 with 1 Axes>"
            ],
            "image/png": "[encoded data removed]"
          },
          "metadata": {
            "needs_background": "light"
          }
        },
        {
          "output_type": "display_data",
          "data": {
            "text/plain": [
              "<Figure size 360x504 with 1 Axes>"
            ],
            "image/png": "[encoded data removed]"
          },
          "metadata": {
            "needs_background": "light"
          }
        }
      ],
      "source": [
        "for i in a1:\n",
        "    plt.figure(figsize=(5,7))\n",
        "    sbs.countplot(data=df,x=i,hue='damage_grade')\n",
        "    plt.show()"
      ]
    },
    {
      "cell_type": "markdown",
      "metadata": {
        "id": "y3JWEP-I66bd"
      },
      "source": [
        "# Understanding correlation between data"
      ]
    },
    {
      "cell_type": "markdown",
      "metadata": {
        "id": "omQcclT666be"
      },
      "source": [
        "## Reason for selecting Kendall Correlation coefficient\n",
        "### The given data is mostly categorical. Also, Kendall and Spearman performs better with categorical data. Also, monotonic relation can be observed using Kendall Correlation but cannot be observed with Pearson. Reason for choosing Kendall over Spearman is because Spearman coefficient does not perform when the data has outlier."
      ]
    },
    {
      "cell_type": "code",
      "execution_count": 111,
      "metadata": {
        "colab": {
          "base_uri": "https://localhost:8080/",
          "height": 1000
        },
        "id": "QXRdIxvM66bf",
        "outputId": "914bde66-1e27-4b09-e338-d0abc01e4d20"
      },
      "outputs": [
        {
          "output_type": "execute_result",
          "data": {
            "text/plain": [
              "                                        building_id  geo_level_1_id  \\\n",
              "building_id                                1.000000       -0.003487   \n",
              "geo_level_1_id                            -0.003487        1.000000   \n",
              "geo_level_2_id                             0.001714       -0.045692   \n",
              "geo_level_3_id                            -0.004202        0.004808   \n",
              "count_floors_pre_eq                        0.014966       -0.069736   \n",
              "age                                        0.003917       -0.046810   \n",
              "area_percentage                           -0.003372        0.027806   \n",
              "height_percentage                          0.009971       -0.056867   \n",
              "has_superstructure_adobe_mud              -0.002888       -0.004775   \n",
              "has_superstructure_mud_mortar_stone        0.001021       -0.108478   \n",
              "has_superstructure_stone_flag             -0.006298        0.007130   \n",
              "has_superstructure_cement_mortar_stone    -0.009862        0.014680   \n",
              "has_superstructure_mud_mortar_brick       -0.003500       -0.026973   \n",
              "has_superstructure_cement_mortar_brick     0.007713        0.101920   \n",
              "has_superstructure_timber                 -0.000316        0.127273   \n",
              "has_superstructure_bamboo                 -0.002111        0.064454   \n",
              "has_superstructure_rc_non_engineered       0.003175        0.001567   \n",
              "has_superstructure_rc_engineered          -0.001196        0.003251   \n",
              "has_superstructure_other                   0.004724        0.016895   \n",
              "count_families                            -0.002573        0.025614   \n",
              "has_secondary_use                          0.007575       -0.021330   \n",
              "has_secondary_use_agriculture              0.008270       -0.029746   \n",
              "has_secondary_use_hotel                   -0.002128        0.004813   \n",
              "has_secondary_use_rental                   0.002646        0.007940   \n",
              "has_secondary_use_institution              0.004306        0.001074   \n",
              "has_secondary_use_school                  -0.001235       -0.002418   \n",
              "has_secondary_use_industry                 0.006459        0.001657   \n",
              "has_secondary_use_health_post             -0.000327       -0.005832   \n",
              "has_secondary_use_gov_office                    NaN             NaN   \n",
              "has_secondary_use_use_police               0.002794       -0.006340   \n",
              "has_secondary_use_other                    0.004722       -0.015716   \n",
              "damage_grade                               0.003328       -0.023572   \n",
              "\n",
              "                                        geo_level_2_id  geo_level_3_id  \\\n",
              "building_id                                   0.001714       -0.004202   \n",
              "geo_level_1_id                               -0.045692        0.004808   \n",
              "geo_level_2_id                                1.000000        0.001915   \n",
              "geo_level_3_id                                0.001915        1.000000   \n",
              "count_floors_pre_eq                           0.025528       -0.009310   \n",
              "age                                           0.022832        0.005782   \n",
              "area_percentage                              -0.012756        0.004233   \n",
              "height_percentage                             0.020149       -0.014218   \n",
              "has_superstructure_adobe_mud                  0.004453       -0.011978   \n",
              "has_superstructure_mud_mortar_stone           0.067875        0.023142   \n",
              "has_superstructure_stone_flag                 0.000283        0.018590   \n",
              "has_superstructure_cement_mortar_stone       -0.003719        0.003513   \n",
              "has_superstructure_mud_mortar_brick           0.006526       -0.016843   \n",
              "has_superstructure_cement_mortar_brick       -0.066070       -0.006967   \n",
              "has_superstructure_timber                    -0.030939        0.003044   \n",
              "has_superstructure_bamboo                    -0.033477        0.012502   \n",
              "has_superstructure_rc_non_engineered         -0.030258        0.005937   \n",
              "has_superstructure_rc_engineered             -0.020580        0.000317   \n",
              "has_superstructure_other                     -0.015724        0.000434   \n",
              "count_families                               -0.017049       -0.000609   \n",
              "has_secondary_use                             0.008035        0.004101   \n",
              "has_secondary_use_agriculture                 0.020637        0.017944   \n",
              "has_secondary_use_hotel                      -0.007529       -0.007385   \n",
              "has_secondary_use_rental                     -0.009734       -0.002949   \n",
              "has_secondary_use_institution                -0.002891       -0.009687   \n",
              "has_secondary_use_school                     -0.009488       -0.000074   \n",
              "has_secondary_use_industry                    0.000551       -0.014869   \n",
              "has_secondary_use_health_post                -0.005162       -0.000333   \n",
              "has_secondary_use_gov_office                       NaN             NaN   \n",
              "has_secondary_use_use_police                  0.002541       -0.005114   \n",
              "has_secondary_use_other                      -0.007871       -0.008588   \n",
              "damage_grade                                  0.032185        0.007782   \n",
              "\n",
              "                                        count_floors_pre_eq       age  \\\n",
              "building_id                                        0.014966  0.003917   \n",
              "geo_level_1_id                                    -0.069736 -0.046810   \n",
              "geo_level_2_id                                     0.025528  0.022832   \n",
              "geo_level_3_id                                    -0.009310  0.005782   \n",
              "count_floors_pre_eq                                1.000000  0.218279   \n",
              "age                                                0.218279  1.000000   \n",
              "area_percentage                                    0.105930 -0.017742   \n",
              "height_percentage                                  0.688438  0.153292   \n",
              "has_superstructure_adobe_mud                       0.139800  0.160383   \n",
              "has_superstructure_mud_mortar_stone                0.031768  0.103065   \n",
              "has_superstructure_stone_flag                     -0.038260  0.007724   \n",
              "has_superstructure_cement_mortar_stone            -0.017083 -0.042795   \n",
              "has_superstructure_mud_mortar_brick                0.176775  0.165654   \n",
              "has_superstructure_cement_mortar_brick            -0.112162 -0.154465   \n",
              "has_superstructure_timber                         -0.056208 -0.033178   \n",
              "has_superstructure_bamboo                         -0.073720 -0.048461   \n",
              "has_superstructure_rc_non_engineered              -0.001926 -0.084821   \n",
              "has_superstructure_rc_engineered                   0.027024 -0.110467   \n",
              "has_superstructure_other                          -0.029338 -0.011516   \n",
              "count_families                                     0.073168  0.050128   \n",
              "has_secondary_use                                  0.035727 -0.032239   \n",
              "has_secondary_use_agriculture                      0.003098  0.015941   \n",
              "has_secondary_use_hotel                            0.044333 -0.057564   \n",
              "has_secondary_use_rental                           0.022913 -0.032753   \n",
              "has_secondary_use_institution                      0.006536 -0.009339   \n",
              "has_secondary_use_school                           0.007662 -0.009853   \n",
              "has_secondary_use_industry                         0.002183 -0.004377   \n",
              "has_secondary_use_health_post                      0.012126 -0.009912   \n",
              "has_secondary_use_gov_office                            NaN       NaN   \n",
              "has_secondary_use_use_police                       0.011906 -0.001934   \n",
              "has_secondary_use_other                           -0.000693  0.006183   \n",
              "damage_grade                                       0.126339  0.148667   \n",
              "\n",
              "                                        area_percentage  height_percentage  \\\n",
              "building_id                                   -0.003372           0.009971   \n",
              "geo_level_1_id                                 0.027806          -0.056867   \n",
              "geo_level_2_id                                -0.012756           0.020149   \n",
              "geo_level_3_id                                 0.004233          -0.014218   \n",
              "count_floors_pre_eq                            0.105930           0.688438   \n",
              "age                                           -0.017742           0.153292   \n",
              "area_percentage                                1.000000           0.164917   \n",
              "height_percentage                              0.164917           1.000000   \n",
              "has_superstructure_adobe_mud                   0.029431           0.131884   \n",
              "has_superstructure_mud_mortar_stone           -0.155067          -0.041332   \n",
              "has_superstructure_stone_flag                  0.008121          -0.019892   \n",
              "has_superstructure_cement_mortar_stone         0.059624           0.001197   \n",
              "has_superstructure_mud_mortar_brick            0.036221           0.157990   \n",
              "has_superstructure_cement_mortar_brick         0.149814          -0.035838   \n",
              "has_superstructure_timber                     -0.026327          -0.036066   \n",
              "has_superstructure_bamboo                     -0.013512          -0.055802   \n",
              "has_superstructure_rc_non_engineered           0.132736           0.044642   \n",
              "has_superstructure_rc_engineered               0.140773           0.064112   \n",
              "has_superstructure_other                       0.010926          -0.014389   \n",
              "count_families                                 0.057167           0.049852   \n",
              "has_secondary_use                              0.081665           0.046938   \n",
              "has_secondary_use_agriculture                 -0.010436          -0.009932   \n",
              "has_secondary_use_hotel                        0.104658           0.070592   \n",
              "has_secondary_use_rental                       0.070549           0.039910   \n",
              "has_secondary_use_institution                  0.032009           0.010794   \n",
              "has_secondary_use_school                       0.018840           0.008791   \n",
              "has_secondary_use_industry                     0.018222           0.003478   \n",
              "has_secondary_use_health_post                  0.009140           0.011425   \n",
              "has_secondary_use_gov_office                        NaN                NaN   \n",
              "has_secondary_use_use_police                   0.009491           0.010448   \n",
              "has_secondary_use_other                        0.017356           0.006169   \n",
              "damage_grade                                  -0.091335           0.059609   \n",
              "\n",
              "                                        has_superstructure_adobe_mud  \\\n",
              "building_id                                                -0.002888   \n",
              "geo_level_1_id                                             -0.004775   \n",
              "geo_level_2_id                                              0.004453   \n",
              "geo_level_3_id                                             -0.011978   \n",
              "count_floors_pre_eq                                         0.139800   \n",
              "age                                                         0.160383   \n",
              "area_percentage                                             0.029431   \n",
              "height_percentage                                           0.131884   \n",
              "has_superstructure_adobe_mud                                1.000000   \n",
              "has_superstructure_mud_mortar_stone                        -0.308711   \n",
              "has_superstructure_stone_flag                               0.010359   \n",
              "has_superstructure_cement_mortar_stone                     -0.008811   \n",
              "has_superstructure_mud_mortar_brick                         0.294023   \n",
              "has_superstructure_cement_mortar_brick                     -0.032262   \n",
              "has_superstructure_timber                                   0.003842   \n",
              "has_superstructure_bamboo                                   0.004764   \n",
              "has_superstructure_rc_non_engineered                       -0.033884   \n",
              "has_superstructure_rc_engineered                           -0.036181   \n",
              "has_superstructure_other                                    0.046016   \n",
              "count_families                                              0.036018   \n",
              "has_secondary_use                                          -0.011671   \n",
              "has_secondary_use_agriculture                              -0.002164   \n",
              "has_secondary_use_hotel                                    -0.011864   \n",
              "has_secondary_use_rental                                   -0.001293   \n",
              "has_secondary_use_institution                              -0.004300   \n",
              "has_secondary_use_school                                    0.004849   \n",
              "has_secondary_use_industry                                 -0.004987   \n",
              "has_secondary_use_health_post                              -0.003646   \n",
              "has_secondary_use_gov_office                                     NaN   \n",
              "has_secondary_use_use_police                               -0.003646   \n",
              "has_secondary_use_other                                    -0.008077   \n",
              "damage_grade                                                0.040155   \n",
              "\n",
              "                                        has_superstructure_mud_mortar_stone  \\\n",
              "building_id                                                        0.001021   \n",
              "geo_level_1_id                                                    -0.108478   \n",
              "geo_level_2_id                                                     0.067875   \n",
              "geo_level_3_id                                                     0.023142   \n",
              "count_floors_pre_eq                                                0.031768   \n",
              "age                                                                0.103065   \n",
              "area_percentage                                                   -0.155067   \n",
              "height_percentage                                                 -0.041332   \n",
              "has_superstructure_adobe_mud                                      -0.308711   \n",
              "has_superstructure_mud_mortar_stone                                1.000000   \n",
              "has_superstructure_stone_flag                                     -0.034703   \n",
              "has_superstructure_cement_mortar_stone                            -0.100309   \n",
              "has_superstructure_mud_mortar_brick                               -0.358581   \n",
              "has_superstructure_cement_mortar_brick                            -0.473267   \n",
              "has_superstructure_timber                                         -0.030825   \n",
              "has_superstructure_bamboo                                         -0.049214   \n",
              "has_superstructure_rc_non_engineered                              -0.230894   \n",
              "has_superstructure_rc_engineered                                  -0.231755   \n",
              "has_superstructure_other                                          -0.027864   \n",
              "count_families                                                     0.029911   \n",
              "has_secondary_use                                                 -0.085395   \n",
              "has_secondary_use_agriculture                                      0.063728   \n",
              "has_secondary_use_hotel                                           -0.166288   \n",
              "has_secondary_use_rental                                          -0.113161   \n",
              "has_secondary_use_institution                                     -0.021165   \n",
              "has_secondary_use_school                                          -0.030127   \n",
              "has_secondary_use_industry                                        -0.025356   \n",
              "has_secondary_use_health_post                                     -0.011988   \n",
              "has_secondary_use_gov_office                                            NaN   \n",
              "has_secondary_use_use_police                                      -0.002674   \n",
              "has_secondary_use_other                                           -0.001326   \n",
              "damage_grade                                                       0.275813   \n",
              "\n",
              "                                        ...  has_secondary_use_hotel  \\\n",
              "building_id                             ...                -0.002128   \n",
              "geo_level_1_id                          ...                 0.004813   \n",
              "geo_level_2_id                          ...                -0.007529   \n",
              "geo_level_3_id                          ...                -0.007385   \n",
              "count_floors_pre_eq                     ...                 0.044333   \n",
              "age                                     ...                -0.057564   \n",
              "area_percentage                         ...                 0.104658   \n",
              "height_percentage                       ...                 0.070592   \n",
              "has_superstructure_adobe_mud            ...                -0.011864   \n",
              "has_superstructure_mud_mortar_stone     ...                -0.166288   \n",
              "has_superstructure_stone_flag           ...                -0.008370   \n",
              "has_superstructure_cement_mortar_stone  ...                 0.073127   \n",
              "has_superstructure_mud_mortar_brick     ...                 0.027990   \n",
              "has_superstructure_cement_mortar_brick  ...                 0.133508   \n",
              "has_superstructure_timber               ...                -0.031791   \n",
              "has_superstructure_bamboo               ...                -0.033068   \n",
              "has_superstructure_rc_non_engineered    ...                 0.197617   \n",
              "has_superstructure_rc_engineered        ...                 0.149945   \n",
              "has_superstructure_other                ...                 0.002491   \n",
              "count_families                          ...                -0.051286   \n",
              "has_secondary_use                       ...                 0.529551   \n",
              "has_secondary_use_agriculture           ...                -0.049558   \n",
              "has_secondary_use_hotel                 ...                 1.000000   \n",
              "has_secondary_use_rental                ...                -0.017043   \n",
              "has_secondary_use_institution           ...                -0.005951   \n",
              "has_secondary_use_school                ...                -0.003180   \n",
              "has_secondary_use_industry              ...                -0.006228   \n",
              "has_secondary_use_health_post           ...                -0.002248   \n",
              "has_secondary_use_gov_office            ...                      NaN   \n",
              "has_secondary_use_use_police            ...                -0.002248   \n",
              "has_secondary_use_other                 ...                -0.002862   \n",
              "damage_grade                            ...                -0.094543   \n",
              "\n",
              "                                        has_secondary_use_rental  \\\n",
              "building_id                                             0.002646   \n",
              "geo_level_1_id                                          0.007940   \n",
              "geo_level_2_id                                         -0.009734   \n",
              "geo_level_3_id                                         -0.002949   \n",
              "count_floors_pre_eq                                     0.022913   \n",
              "age                                                    -0.032753   \n",
              "area_percentage                                         0.070549   \n",
              "height_percentage                                       0.039910   \n",
              "has_superstructure_adobe_mud                           -0.001293   \n",
              "has_superstructure_mud_mortar_stone                    -0.113161   \n",
              "has_superstructure_stone_flag                          -0.013529   \n",
              "has_superstructure_cement_mortar_stone                  0.051027   \n",
              "has_superstructure_mud_mortar_brick                     0.018620   \n",
              "has_superstructure_cement_mortar_brick                  0.086776   \n",
              "has_superstructure_timber                              -0.028034   \n",
              "has_superstructure_bamboo                              -0.019708   \n",
              "has_superstructure_rc_non_engineered                    0.107430   \n",
              "has_superstructure_rc_engineered                        0.160337   \n",
              "has_superstructure_other                                0.006412   \n",
              "count_families                                         -0.004413   \n",
              "has_secondary_use                                       0.252512   \n",
              "has_secondary_use_agriculture                          -0.023632   \n",
              "has_secondary_use_hotel                                -0.017043   \n",
              "has_secondary_use_rental                                1.000000   \n",
              "has_secondary_use_institution                          -0.002838   \n",
              "has_secondary_use_school                               -0.001516   \n",
              "has_secondary_use_industry                             -0.002970   \n",
              "has_secondary_use_health_post                          -0.001072   \n",
              "has_secondary_use_gov_office                                 NaN   \n",
              "has_secondary_use_use_police                           -0.001072   \n",
              "has_secondary_use_other                                 0.015511   \n",
              "damage_grade                                           -0.074264   \n",
              "\n",
              "                                        has_secondary_use_institution  \\\n",
              "building_id                                                  0.004306   \n",
              "geo_level_1_id                                               0.001074   \n",
              "geo_level_2_id                                              -0.002891   \n",
              "geo_level_3_id                                              -0.009687   \n",
              "count_floors_pre_eq                                          0.006536   \n",
              "age                                                         -0.009339   \n",
              "area_percentage                                              0.032009   \n",
              "height_percentage                                            0.010794   \n",
              "has_superstructure_adobe_mud                                -0.004300   \n",
              "has_superstructure_mud_mortar_stone                         -0.021165   \n",
              "has_superstructure_stone_flag                                0.002699   \n",
              "has_superstructure_cement_mortar_stone                       0.006969   \n",
              "has_superstructure_mud_mortar_brick                          0.003744   \n",
              "has_superstructure_cement_mortar_brick                       0.013422   \n",
              "has_superstructure_timber                                    0.002447   \n",
              "has_superstructure_bamboo                                    0.001269   \n",
              "has_superstructure_rc_non_engineered                         0.015859   \n",
              "has_superstructure_rc_engineered                             0.042496   \n",
              "has_superstructure_other                                    -0.003859   \n",
              "count_families                                              -0.030578   \n",
              "has_secondary_use                                            0.088176   \n",
              "has_secondary_use_agriculture                               -0.008252   \n",
              "has_secondary_use_hotel                                     -0.005951   \n",
              "has_secondary_use_rental                                    -0.002838   \n",
              "has_secondary_use_institution                                1.000000   \n",
              "has_secondary_use_school                                    -0.000529   \n",
              "has_secondary_use_industry                                  -0.001037   \n",
              "has_secondary_use_health_post                               -0.000374   \n",
              "has_secondary_use_gov_office                                      NaN   \n",
              "has_secondary_use_use_police                                -0.000374   \n",
              "has_secondary_use_other                                     -0.002273   \n",
              "damage_grade                                                -0.030629   \n",
              "\n",
              "                                        has_secondary_use_school  \\\n",
              "building_id                                            -0.001235   \n",
              "geo_level_1_id                                         -0.002418   \n",
              "geo_level_2_id                                         -0.009488   \n",
              "geo_level_3_id                                         -0.000074   \n",
              "count_floors_pre_eq                                     0.007662   \n",
              "age                                                    -0.009853   \n",
              "area_percentage                                         0.018840   \n",
              "height_percentage                                       0.008791   \n",
              "has_superstructure_adobe_mud                            0.004849   \n",
              "has_superstructure_mud_mortar_stone                    -0.030127   \n",
              "has_superstructure_stone_flag                           0.012746   \n",
              "has_superstructure_cement_mortar_stone                 -0.002284   \n",
              "has_superstructure_mud_mortar_brick                    -0.004463   \n",
              "has_superstructure_cement_mortar_brick                  0.005668   \n",
              "has_superstructure_timber                              -0.003305   \n",
              "has_superstructure_bamboo                              -0.005095   \n",
              "has_superstructure_rc_non_engineered                   -0.003518   \n",
              "has_superstructure_rc_engineered                        0.063181   \n",
              "has_superstructure_other                               -0.002062   \n",
              "count_families                                         -0.006712   \n",
              "has_secondary_use                                       0.047115   \n",
              "has_secondary_use_agriculture                          -0.004409   \n",
              "has_secondary_use_hotel                                -0.003180   \n",
              "has_secondary_use_rental                               -0.001516   \n",
              "has_secondary_use_institution                          -0.000529   \n",
              "has_secondary_use_school                                1.000000   \n",
              "has_secondary_use_industry                             -0.000554   \n",
              "has_secondary_use_health_post                          -0.000200   \n",
              "has_secondary_use_gov_office                                 NaN   \n",
              "has_secondary_use_use_police                           -0.000200   \n",
              "has_secondary_use_other                                -0.001214   \n",
              "damage_grade                                           -0.007684   \n",
              "\n",
              "                                        has_secondary_use_industry  \\\n",
              "building_id                                               0.006459   \n",
              "geo_level_1_id                                            0.001657   \n",
              "geo_level_2_id                                            0.000551   \n",
              "geo_level_3_id                                           -0.014869   \n",
              "count_floors_pre_eq                                       0.002183   \n",
              "age                                                      -0.004377   \n",
              "area_percentage                                           0.018222   \n",
              "height_percentage                                         0.003478   \n",
              "has_superstructure_adobe_mud                             -0.004987   \n",
              "has_superstructure_mud_mortar_stone                      -0.025356   \n",
              "has_superstructure_stone_flag                            -0.006032   \n",
              "has_superstructure_cement_mortar_stone                    0.006271   \n",
              "has_superstructure_mud_mortar_brick                       0.008596   \n",
              "has_superstructure_cement_mortar_brick                    0.028129   \n",
              "has_superstructure_timber                                 0.007274   \n",
              "has_superstructure_bamboo                                 0.005507   \n",
              "has_superstructure_rc_non_engineered                      0.007407   \n",
              "has_superstructure_rc_engineered                          0.017961   \n",
              "has_superstructure_other                                 -0.004038   \n",
              "count_families                                           -0.017477   \n",
              "has_secondary_use                                         0.092284   \n",
              "has_secondary_use_agriculture                            -0.008636   \n",
              "has_secondary_use_hotel                                  -0.006228   \n",
              "has_secondary_use_rental                                 -0.002970   \n",
              "has_secondary_use_institution                            -0.001037   \n",
              "has_secondary_use_school                                 -0.000554   \n",
              "has_secondary_use_industry                                1.000000   \n",
              "has_secondary_use_health_post                            -0.000392   \n",
              "has_secondary_use_gov_office                                   NaN   \n",
              "has_secondary_use_use_police                             -0.000392   \n",
              "has_secondary_use_other                                  -0.002379   \n",
              "damage_grade                                             -0.011779   \n",
              "\n",
              "                                        has_secondary_use_health_post  \\\n",
              "building_id                                                 -0.000327   \n",
              "geo_level_1_id                                              -0.005832   \n",
              "geo_level_2_id                                              -0.005162   \n",
              "geo_level_3_id                                              -0.000333   \n",
              "count_floors_pre_eq                                          0.012126   \n",
              "age                                                         -0.009912   \n",
              "area_percentage                                              0.009140   \n",
              "height_percentage                                            0.011425   \n",
              "has_superstructure_adobe_mud                                -0.003646   \n",
              "has_superstructure_mud_mortar_stone                         -0.011988   \n",
              "has_superstructure_stone_flag                               -0.002177   \n",
              "has_superstructure_cement_mortar_stone                      -0.001615   \n",
              "has_superstructure_mud_mortar_brick                         -0.003155   \n",
              "has_superstructure_cement_mortar_brick                      -0.003432   \n",
              "has_superstructure_timber                                   -0.006902   \n",
              "has_superstructure_bamboo                                   -0.003603   \n",
              "has_superstructure_rc_non_engineered                         0.017297   \n",
              "has_superstructure_rc_engineered                             0.029263   \n",
              "has_superstructure_other                                    -0.001458   \n",
              "count_families                                               0.000878   \n",
              "has_secondary_use                                            0.033313   \n",
              "has_secondary_use_agriculture                               -0.003118   \n",
              "has_secondary_use_hotel                                     -0.002248   \n",
              "has_secondary_use_rental                                    -0.001072   \n",
              "has_secondary_use_institution                               -0.000374   \n",
              "has_secondary_use_school                                    -0.000200   \n",
              "has_secondary_use_industry                                  -0.000392   \n",
              "has_secondary_use_health_post                                1.000000   \n",
              "has_secondary_use_gov_office                                      NaN   \n",
              "has_secondary_use_use_police                                -0.000141   \n",
              "has_secondary_use_other                                     -0.000859   \n",
              "damage_grade                                                -0.010409   \n",
              "\n",
              "                                        has_secondary_use_gov_office  \\\n",
              "building_id                                                      NaN   \n",
              "geo_level_1_id                                                   NaN   \n",
              "geo_level_2_id                                                   NaN   \n",
              "geo_level_3_id                                                   NaN   \n",
              "count_floors_pre_eq                                              NaN   \n",
              "age                                                              NaN   \n",
              "area_percentage                                                  NaN   \n",
              "height_percentage                                                NaN   \n",
              "has_superstructure_adobe_mud                                     NaN   \n",
              "has_superstructure_mud_mortar_stone                              NaN   \n",
              "has_superstructure_stone_flag                                    NaN   \n",
              "has_superstructure_cement_mortar_stone                           NaN   \n",
              "has_superstructure_mud_mortar_brick                              NaN   \n",
              "has_superstructure_cement_mortar_brick                           NaN   \n",
              "has_superstructure_timber                                        NaN   \n",
              "has_superstructure_bamboo                                        NaN   \n",
              "has_superstructure_rc_non_engineered                             NaN   \n",
              "has_superstructure_rc_engineered                                 NaN   \n",
              "has_superstructure_other                                         NaN   \n",
              "count_families                                                   NaN   \n",
              "has_secondary_use                                                NaN   \n",
              "has_secondary_use_agriculture                                    NaN   \n",
              "has_secondary_use_hotel                                          NaN   \n",
              "has_secondary_use_rental                                         NaN   \n",
              "has_secondary_use_institution                                    NaN   \n",
              "has_secondary_use_school                                         NaN   \n",
              "has_secondary_use_industry                                       NaN   \n",
              "has_secondary_use_health_post                                    NaN   \n",
              "has_secondary_use_gov_office                                     1.0   \n",
              "has_secondary_use_use_police                                     NaN   \n",
              "has_secondary_use_other                                          NaN   \n",
              "damage_grade                                                     NaN   \n",
              "\n",
              "                                        has_secondary_use_use_police  \\\n",
              "building_id                                                 0.002794   \n",
              "geo_level_1_id                                             -0.006340   \n",
              "geo_level_2_id                                              0.002541   \n",
              "geo_level_3_id                                             -0.005114   \n",
              "count_floors_pre_eq                                         0.011906   \n",
              "age                                                        -0.001934   \n",
              "area_percentage                                             0.009491   \n",
              "height_percentage                                           0.010448   \n",
              "has_superstructure_adobe_mud                               -0.003646   \n",
              "has_superstructure_mud_mortar_stone                        -0.002674   \n",
              "has_superstructure_stone_flag                              -0.002177   \n",
              "has_superstructure_cement_mortar_stone                     -0.001615   \n",
              "has_superstructure_mud_mortar_brick                        -0.003155   \n",
              "has_superstructure_cement_mortar_brick                      0.011448   \n",
              "has_superstructure_timber                                   0.002229   \n",
              "has_superstructure_bamboo                                  -0.003603   \n",
              "has_superstructure_rc_non_engineered                       -0.002487   \n",
              "has_superstructure_rc_engineered                            0.029263   \n",
              "has_superstructure_other                                   -0.001458   \n",
              "count_families                                             -0.020858   \n",
              "has_secondary_use                                           0.033313   \n",
              "has_secondary_use_agriculture                              -0.003118   \n",
              "has_secondary_use_hotel                                    -0.002248   \n",
              "has_secondary_use_rental                                   -0.001072   \n",
              "has_secondary_use_institution                              -0.000374   \n",
              "has_secondary_use_school                                   -0.000200   \n",
              "has_secondary_use_industry                                 -0.000392   \n",
              "has_secondary_use_health_post                              -0.000141   \n",
              "has_secondary_use_gov_office                                     NaN   \n",
              "has_secondary_use_use_police                                1.000000   \n",
              "has_secondary_use_other                                    -0.000859   \n",
              "damage_grade                                               -0.010409   \n",
              "\n",
              "                                        has_secondary_use_other  damage_grade  \n",
              "building_id                                            0.004722      0.003328  \n",
              "geo_level_1_id                                        -0.015716     -0.023572  \n",
              "geo_level_2_id                                        -0.007871      0.032185  \n",
              "geo_level_3_id                                        -0.008588      0.007782  \n",
              "count_floors_pre_eq                                   -0.000693      0.126339  \n",
              "age                                                    0.006183      0.148667  \n",
              "area_percentage                                        0.017356     -0.091335  \n",
              "height_percentage                                      0.006169      0.059609  \n",
              "has_superstructure_adobe_mud                          -0.008077      0.040155  \n",
              "has_superstructure_mud_mortar_stone                   -0.001326      0.275813  \n",
              "has_superstructure_stone_flag                          0.005307      0.056892  \n",
              "has_superstructure_cement_mortar_stone                 0.019735     -0.056007  \n",
              "has_superstructure_mud_mortar_brick                    0.007325     -0.002661  \n",
              "has_superstructure_cement_mortar_brick                 0.001336     -0.235269  \n",
              "has_superstructure_timber                             -0.004107     -0.068578  \n",
              "has_superstructure_bamboo                             -0.005312     -0.071515  \n",
              "has_superstructure_rc_non_engineered                  -0.005273     -0.149301  \n",
              "has_superstructure_rc_engineered                       0.005862     -0.160253  \n",
              "has_superstructure_other                               0.007456     -0.025427  \n",
              "count_families                                        -0.034507      0.059191  \n",
              "has_secondary_use                                      0.202233     -0.066003  \n",
              "has_secondary_use_agriculture                          0.058673      0.021880  \n",
              "has_secondary_use_hotel                               -0.002862     -0.094543  \n",
              "has_secondary_use_rental                               0.015511     -0.074264  \n",
              "has_secondary_use_institution                         -0.002273     -0.030629  \n",
              "has_secondary_use_school                              -0.001214     -0.007684  \n",
              "has_secondary_use_industry                            -0.002379     -0.011779  \n",
              "has_secondary_use_health_post                         -0.000859     -0.010409  \n",
              "has_secondary_use_gov_office                                NaN           NaN  \n",
              "has_secondary_use_use_police                          -0.000859     -0.010409  \n",
              "has_secondary_use_other                                1.000000     -0.012829  \n",
              "damage_grade                                          -0.012829      1.000000  \n",
              "\n",
              "[32 rows x 32 columns]"
            ],
            "text/html": [
              "\n",
              "  <div id=\"df-69ad6f7f-a05c-4457-b29f-78a76bb32c05\">\n",
              "    <div class=\"colab-df-container\">\n",
              "      <div>\n",
              "<style scoped>\n",
              "    .dataframe tbody tr th:only-of-type {\n",
              "        vertical-align: middle;\n",
              "    }\n",
              "\n",
              "    .dataframe tbody tr th {\n",
              "        vertical-align: top;\n",
              "    }\n",
              "\n",
              "    .dataframe thead th {\n",
              "        text-align: right;\n",
              "    }\n",
              "</style>\n",
              "<table border=\"1\" class=\"dataframe\">\n",
              "  <thead>\n",
              "    <tr style=\"text-align: right;\">\n",
              "      <th></th>\n",
              "      <th>building_id</th>\n",
              "      <th>geo_level_1_id</th>\n",
              "      <th>geo_level_2_id</th>\n",
              "      <th>geo_level_3_id</th>\n",
              "      <th>count_floors_pre_eq</th>\n",
              "      <th>age</th>\n",
              "      <th>area_percentage</th>\n",
              "      <th>height_percentage</th>\n",
              "      <th>has_superstructure_adobe_mud</th>\n",
              "      <th>has_superstructure_mud_mortar_stone</th>\n",
              "      <th>...</th>\n",
              "      <th>has_secondary_use_hotel</th>\n",
              "      <th>has_secondary_use_rental</th>\n",
              "      <th>has_secondary_use_institution</th>\n",
              "      <th>has_secondary_use_school</th>\n",
              "      <th>has_secondary_use_industry</th>\n",
              "      <th>has_secondary_use_health_post</th>\n",
              "      <th>has_secondary_use_gov_office</th>\n",
              "      <th>has_secondary_use_use_police</th>\n",
              "      <th>has_secondary_use_other</th>\n",
              "      <th>damage_grade</th>\n",
              "    </tr>\n",
              "  </thead>\n",
              "  <tbody>\n",
              "    <tr>\n",
              "      <th>building_id</th>\n",
              "      <td>1.000000</td>\n",
              "      <td>-0.003487</td>\n",
              "      <td>0.001714</td>\n",
              "      <td>-0.004202</td>\n",
              "      <td>0.014966</td>\n",
              "      <td>0.003917</td>\n",
              "      <td>-0.003372</td>\n",
              "      <td>0.009971</td>\n",
              "      <td>-0.002888</td>\n",
              "      <td>0.001021</td>\n",
              "      <td>...</td>\n",
              "      <td>-0.002128</td>\n",
              "      <td>0.002646</td>\n",
              "      <td>0.004306</td>\n",
              "      <td>-0.001235</td>\n",
              "      <td>0.006459</td>\n",
              "      <td>-0.000327</td>\n",
              "      <td>NaN</td>\n",
              "      <td>0.002794</td>\n",
              "      <td>0.004722</td>\n",
              "      <td>0.003328</td>\n",
              "    </tr>\n",
              "    <tr>\n",
              "      <th>geo_level_1_id</th>\n",
              "      <td>-0.003487</td>\n",
              "      <td>1.000000</td>\n",
              "      <td>-0.045692</td>\n",
              "      <td>0.004808</td>\n",
              "      <td>-0.069736</td>\n",
              "      <td>-0.046810</td>\n",
              "      <td>0.027806</td>\n",
              "      <td>-0.056867</td>\n",
              "      <td>-0.004775</td>\n",
              "      <td>-0.108478</td>\n",
              "      <td>...</td>\n",
              "      <td>0.004813</td>\n",
              "      <td>0.007940</td>\n",
              "      <td>0.001074</td>\n",
              "      <td>-0.002418</td>\n",
              "      <td>0.001657</td>\n",
              "      <td>-0.005832</td>\n",
              "      <td>NaN</td>\n",
              "      <td>-0.006340</td>\n",
              "      <td>-0.015716</td>\n",
              "      <td>-0.023572</td>\n",
              "    </tr>\n",
              "    <tr>\n",
              "      <th>geo_level_2_id</th>\n",
              "      <td>0.001714</td>\n",
              "      <td>-0.045692</td>\n",
              "      <td>1.000000</td>\n",
              "      <td>0.001915</td>\n",
              "      <td>0.025528</td>\n",
              "      <td>0.022832</td>\n",
              "      <td>-0.012756</td>\n",
              "      <td>0.020149</td>\n",
              "      <td>0.004453</td>\n",
              "      <td>0.067875</td>\n",
              "      <td>...</td>\n",
              "      <td>-0.007529</td>\n",
              "      <td>-0.009734</td>\n",
              "      <td>-0.002891</td>\n",
              "      <td>-0.009488</td>\n",
              "      <td>0.000551</td>\n",
              "      <td>-0.005162</td>\n",
              "      <td>NaN</td>\n",
              "      <td>0.002541</td>\n",
              "      <td>-0.007871</td>\n",
              "      <td>0.032185</td>\n",
              "    </tr>\n",
              "    <tr>\n",
              "      <th>geo_level_3_id</th>\n",
              "      <td>-0.004202</td>\n",
              "      <td>0.004808</td>\n",
              "      <td>0.001915</td>\n",
              "      <td>1.000000</td>\n",
              "      <td>-0.009310</td>\n",
              "      <td>0.005782</td>\n",
              "      <td>0.004233</td>\n",
              "      <td>-0.014218</td>\n",
              "      <td>-0.011978</td>\n",
              "      <td>0.023142</td>\n",
              "      <td>...</td>\n",
              "      <td>-0.007385</td>\n",
              "      <td>-0.002949</td>\n",
              "      <td>-0.009687</td>\n",
              "      <td>-0.000074</td>\n",
              "      <td>-0.014869</td>\n",
              "      <td>-0.000333</td>\n",
              "      <td>NaN</td>\n",
              "      <td>-0.005114</td>\n",
              "      <td>-0.008588</td>\n",
              "      <td>0.007782</td>\n",
              "    </tr>\n",
              "    <tr>\n",
              "      <th>count_floors_pre_eq</th>\n",
              "      <td>0.014966</td>\n",
              "      <td>-0.069736</td>\n",
              "      <td>0.025528</td>\n",
              "      <td>-0.009310</td>\n",
              "      <td>1.000000</td>\n",
              "      <td>0.218279</td>\n",
              "      <td>0.105930</td>\n",
              "      <td>0.688438</td>\n",
              "      <td>0.139800</td>\n",
              "      <td>0.031768</td>\n",
              "      <td>...</td>\n",
              "      <td>0.044333</td>\n",
              "      <td>0.022913</td>\n",
              "      <td>0.006536</td>\n",
              "      <td>0.007662</td>\n",
              "      <td>0.002183</td>\n",
              "      <td>0.012126</td>\n",
              "      <td>NaN</td>\n",
              "      <td>0.011906</td>\n",
              "      <td>-0.000693</td>\n",
              "      <td>0.126339</td>\n",
              "    </tr>\n",
              "    <tr>\n",
              "      <th>age</th>\n",
              "      <td>0.003917</td>\n",
              "      <td>-0.046810</td>\n",
              "      <td>0.022832</td>\n",
              "      <td>0.005782</td>\n",
              "      <td>0.218279</td>\n",
              "      <td>1.000000</td>\n",
              "      <td>-0.017742</td>\n",
              "      <td>0.153292</td>\n",
              "      <td>0.160383</td>\n",
              "      <td>0.103065</td>\n",
              "      <td>...</td>\n",
              "      <td>-0.057564</td>\n",
              "      <td>-0.032753</td>\n",
              "      <td>-0.009339</td>\n",
              "      <td>-0.009853</td>\n",
              "      <td>-0.004377</td>\n",
              "      <td>-0.009912</td>\n",
              "      <td>NaN</td>\n",
              "      <td>-0.001934</td>\n",
              "      <td>0.006183</td>\n",
              "      <td>0.148667</td>\n",
              "    </tr>\n",
              "    <tr>\n",
              "      <th>area_percentage</th>\n",
              "      <td>-0.003372</td>\n",
              "      <td>0.027806</td>\n",
              "      <td>-0.012756</td>\n",
              "      <td>0.004233</td>\n",
              "      <td>0.105930</td>\n",
              "      <td>-0.017742</td>\n",
              "      <td>1.000000</td>\n",
              "      <td>0.164917</td>\n",
              "      <td>0.029431</td>\n",
              "      <td>-0.155067</td>\n",
              "      <td>...</td>\n",
              "      <td>0.104658</td>\n",
              "      <td>0.070549</td>\n",
              "      <td>0.032009</td>\n",
              "      <td>0.018840</td>\n",
              "      <td>0.018222</td>\n",
              "      <td>0.009140</td>\n",
              "      <td>NaN</td>\n",
              "      <td>0.009491</td>\n",
              "      <td>0.017356</td>\n",
              "      <td>-0.091335</td>\n",
              "    </tr>\n",
              "    <tr>\n",
              "      <th>height_percentage</th>\n",
              "      <td>0.009971</td>\n",
              "      <td>-0.056867</td>\n",
              "      <td>0.020149</td>\n",
              "      <td>-0.014218</td>\n",
              "      <td>0.688438</td>\n",
              "      <td>0.153292</td>\n",
              "      <td>0.164917</td>\n",
              "      <td>1.000000</td>\n",
              "      <td>0.131884</td>\n",
              "      <td>-0.041332</td>\n",
              "      <td>...</td>\n",
              "      <td>0.070592</td>\n",
              "      <td>0.039910</td>\n",
              "      <td>0.010794</td>\n",
              "      <td>0.008791</td>\n",
              "      <td>0.003478</td>\n",
              "      <td>0.011425</td>\n",
              "      <td>NaN</td>\n",
              "      <td>0.010448</td>\n",
              "      <td>0.006169</td>\n",
              "      <td>0.059609</td>\n",
              "    </tr>\n",
              "    <tr>\n",
              "      <th>has_superstructure_adobe_mud</th>\n",
              "      <td>-0.002888</td>\n",
              "      <td>-0.004775</td>\n",
              "      <td>0.004453</td>\n",
              "      <td>-0.011978</td>\n",
              "      <td>0.139800</td>\n",
              "      <td>0.160383</td>\n",
              "      <td>0.029431</td>\n",
              "      <td>0.131884</td>\n",
              "      <td>1.000000</td>\n",
              "      <td>-0.308711</td>\n",
              "      <td>...</td>\n",
              "      <td>-0.011864</td>\n",
              "      <td>-0.001293</td>\n",
              "      <td>-0.004300</td>\n",
              "      <td>0.004849</td>\n",
              "      <td>-0.004987</td>\n",
              "      <td>-0.003646</td>\n",
              "      <td>NaN</td>\n",
              "      <td>-0.003646</td>\n",
              "      <td>-0.008077</td>\n",
              "      <td>0.040155</td>\n",
              "    </tr>\n",
              "    <tr>\n",
              "      <th>has_superstructure_mud_mortar_stone</th>\n",
              "      <td>0.001021</td>\n",
              "      <td>-0.108478</td>\n",
              "      <td>0.067875</td>\n",
              "      <td>0.023142</td>\n",
              "      <td>0.031768</td>\n",
              "      <td>0.103065</td>\n",
              "      <td>-0.155067</td>\n",
              "      <td>-0.041332</td>\n",
              "      <td>-0.308711</td>\n",
              "      <td>1.000000</td>\n",
              "      <td>...</td>\n",
              "      <td>-0.166288</td>\n",
              "      <td>-0.113161</td>\n",
              "      <td>-0.021165</td>\n",
              "      <td>-0.030127</td>\n",
              "      <td>-0.025356</td>\n",
              "      <td>-0.011988</td>\n",
              "      <td>NaN</td>\n",
              "      <td>-0.002674</td>\n",
              "      <td>-0.001326</td>\n",
              "      <td>0.275813</td>\n",
              "    </tr>\n",
              "    <tr>\n",
              "      <th>has_superstructure_stone_flag</th>\n",
              "      <td>-0.006298</td>\n",
              "      <td>0.007130</td>\n",
              "      <td>0.000283</td>\n",
              "      <td>0.018590</td>\n",
              "      <td>-0.038260</td>\n",
              "      <td>0.007724</td>\n",
              "      <td>0.008121</td>\n",
              "      <td>-0.019892</td>\n",
              "      <td>0.010359</td>\n",
              "      <td>-0.034703</td>\n",
              "      <td>...</td>\n",
              "      <td>-0.008370</td>\n",
              "      <td>-0.013529</td>\n",
              "      <td>0.002699</td>\n",
              "      <td>0.012746</td>\n",
              "      <td>-0.006032</td>\n",
              "      <td>-0.002177</td>\n",
              "      <td>NaN</td>\n",
              "      <td>-0.002177</td>\n",
              "      <td>0.005307</td>\n",
              "      <td>0.056892</td>\n",
              "    </tr>\n",
              "    <tr>\n",
              "      <th>has_superstructure_cement_mortar_stone</th>\n",
              "      <td>-0.009862</td>\n",
              "      <td>0.014680</td>\n",
              "      <td>-0.003719</td>\n",
              "      <td>0.003513</td>\n",
              "      <td>-0.017083</td>\n",
              "      <td>-0.042795</td>\n",
              "      <td>0.059624</td>\n",
              "      <td>0.001197</td>\n",
              "      <td>-0.008811</td>\n",
              "      <td>-0.100309</td>\n",
              "      <td>...</td>\n",
              "      <td>0.073127</td>\n",
              "      <td>0.051027</td>\n",
              "      <td>0.006969</td>\n",
              "      <td>-0.002284</td>\n",
              "      <td>0.006271</td>\n",
              "      <td>-0.001615</td>\n",
              "      <td>NaN</td>\n",
              "      <td>-0.001615</td>\n",
              "      <td>0.019735</td>\n",
              "      <td>-0.056007</td>\n",
              "    </tr>\n",
              "    <tr>\n",
              "      <th>has_superstructure_mud_mortar_brick</th>\n",
              "      <td>-0.003500</td>\n",
              "      <td>-0.026973</td>\n",
              "      <td>0.006526</td>\n",
              "      <td>-0.016843</td>\n",
              "      <td>0.176775</td>\n",
              "      <td>0.165654</td>\n",
              "      <td>0.036221</td>\n",
              "      <td>0.157990</td>\n",
              "      <td>0.294023</td>\n",
              "      <td>-0.358581</td>\n",
              "      <td>...</td>\n",
              "      <td>0.027990</td>\n",
              "      <td>0.018620</td>\n",
              "      <td>0.003744</td>\n",
              "      <td>-0.004463</td>\n",
              "      <td>0.008596</td>\n",
              "      <td>-0.003155</td>\n",
              "      <td>NaN</td>\n",
              "      <td>-0.003155</td>\n",
              "      <td>0.007325</td>\n",
              "      <td>-0.002661</td>\n",
              "    </tr>\n",
              "    <tr>\n",
              "      <th>has_superstructure_cement_mortar_brick</th>\n",
              "      <td>0.007713</td>\n",
              "      <td>0.101920</td>\n",
              "      <td>-0.066070</td>\n",
              "      <td>-0.006967</td>\n",
              "      <td>-0.112162</td>\n",
              "      <td>-0.154465</td>\n",
              "      <td>0.149814</td>\n",
              "      <td>-0.035838</td>\n",
              "      <td>-0.032262</td>\n",
              "      <td>-0.473267</td>\n",
              "      <td>...</td>\n",
              "      <td>0.133508</td>\n",
              "      <td>0.086776</td>\n",
              "      <td>0.013422</td>\n",
              "      <td>0.005668</td>\n",
              "      <td>0.028129</td>\n",
              "      <td>-0.003432</td>\n",
              "      <td>NaN</td>\n",
              "      <td>0.011448</td>\n",
              "      <td>0.001336</td>\n",
              "      <td>-0.235269</td>\n",
              "    </tr>\n",
              "    <tr>\n",
              "      <th>has_superstructure_timber</th>\n",
              "      <td>-0.000316</td>\n",
              "      <td>0.127273</td>\n",
              "      <td>-0.030939</td>\n",
              "      <td>0.003044</td>\n",
              "      <td>-0.056208</td>\n",
              "      <td>-0.033178</td>\n",
              "      <td>-0.026327</td>\n",
              "      <td>-0.036066</td>\n",
              "      <td>0.003842</td>\n",
              "      <td>-0.030825</td>\n",
              "      <td>...</td>\n",
              "      <td>-0.031791</td>\n",
              "      <td>-0.028034</td>\n",
              "      <td>0.002447</td>\n",
              "      <td>-0.003305</td>\n",
              "      <td>0.007274</td>\n",
              "      <td>-0.006902</td>\n",
              "      <td>NaN</td>\n",
              "      <td>0.002229</td>\n",
              "      <td>-0.004107</td>\n",
              "      <td>-0.068578</td>\n",
              "    </tr>\n",
              "    <tr>\n",
              "      <th>has_superstructure_bamboo</th>\n",
              "      <td>-0.002111</td>\n",
              "      <td>0.064454</td>\n",
              "      <td>-0.033477</td>\n",
              "      <td>0.012502</td>\n",
              "      <td>-0.073720</td>\n",
              "      <td>-0.048461</td>\n",
              "      <td>-0.013512</td>\n",
              "      <td>-0.055802</td>\n",
              "      <td>0.004764</td>\n",
              "      <td>-0.049214</td>\n",
              "      <td>...</td>\n",
              "      <td>-0.033068</td>\n",
              "      <td>-0.019708</td>\n",
              "      <td>0.001269</td>\n",
              "      <td>-0.005095</td>\n",
              "      <td>0.005507</td>\n",
              "      <td>-0.003603</td>\n",
              "      <td>NaN</td>\n",
              "      <td>-0.003603</td>\n",
              "      <td>-0.005312</td>\n",
              "      <td>-0.071515</td>\n",
              "    </tr>\n",
              "    <tr>\n",
              "      <th>has_superstructure_rc_non_engineered</th>\n",
              "      <td>0.003175</td>\n",
              "      <td>0.001567</td>\n",
              "      <td>-0.030258</td>\n",
              "      <td>0.005937</td>\n",
              "      <td>-0.001926</td>\n",
              "      <td>-0.084821</td>\n",
              "      <td>0.132736</td>\n",
              "      <td>0.044642</td>\n",
              "      <td>-0.033884</td>\n",
              "      <td>-0.230894</td>\n",
              "      <td>...</td>\n",
              "      <td>0.197617</td>\n",
              "      <td>0.107430</td>\n",
              "      <td>0.015859</td>\n",
              "      <td>-0.003518</td>\n",
              "      <td>0.007407</td>\n",
              "      <td>0.017297</td>\n",
              "      <td>NaN</td>\n",
              "      <td>-0.002487</td>\n",
              "      <td>-0.005273</td>\n",
              "      <td>-0.149301</td>\n",
              "    </tr>\n",
              "    <tr>\n",
              "      <th>has_superstructure_rc_engineered</th>\n",
              "      <td>-0.001196</td>\n",
              "      <td>0.003251</td>\n",
              "      <td>-0.020580</td>\n",
              "      <td>0.000317</td>\n",
              "      <td>0.027024</td>\n",
              "      <td>-0.110467</td>\n",
              "      <td>0.140773</td>\n",
              "      <td>0.064112</td>\n",
              "      <td>-0.036181</td>\n",
              "      <td>-0.231755</td>\n",
              "      <td>...</td>\n",
              "      <td>0.149945</td>\n",
              "      <td>0.160337</td>\n",
              "      <td>0.042496</td>\n",
              "      <td>0.063181</td>\n",
              "      <td>0.017961</td>\n",
              "      <td>0.029263</td>\n",
              "      <td>NaN</td>\n",
              "      <td>0.029263</td>\n",
              "      <td>0.005862</td>\n",
              "      <td>-0.160253</td>\n",
              "    </tr>\n",
              "    <tr>\n",
              "      <th>has_superstructure_other</th>\n",
              "      <td>0.004724</td>\n",
              "      <td>0.016895</td>\n",
              "      <td>-0.015724</td>\n",
              "      <td>0.000434</td>\n",
              "      <td>-0.029338</td>\n",
              "      <td>-0.011516</td>\n",
              "      <td>0.010926</td>\n",
              "      <td>-0.014389</td>\n",
              "      <td>0.046016</td>\n",
              "      <td>-0.027864</td>\n",
              "      <td>...</td>\n",
              "      <td>0.002491</td>\n",
              "      <td>0.006412</td>\n",
              "      <td>-0.003859</td>\n",
              "      <td>-0.002062</td>\n",
              "      <td>-0.004038</td>\n",
              "      <td>-0.001458</td>\n",
              "      <td>NaN</td>\n",
              "      <td>-0.001458</td>\n",
              "      <td>0.007456</td>\n",
              "      <td>-0.025427</td>\n",
              "    </tr>\n",
              "    <tr>\n",
              "      <th>count_families</th>\n",
              "      <td>-0.002573</td>\n",
              "      <td>0.025614</td>\n",
              "      <td>-0.017049</td>\n",
              "      <td>-0.000609</td>\n",
              "      <td>0.073168</td>\n",
              "      <td>0.050128</td>\n",
              "      <td>0.057167</td>\n",
              "      <td>0.049852</td>\n",
              "      <td>0.036018</td>\n",
              "      <td>0.029911</td>\n",
              "      <td>...</td>\n",
              "      <td>-0.051286</td>\n",
              "      <td>-0.004413</td>\n",
              "      <td>-0.030578</td>\n",
              "      <td>-0.006712</td>\n",
              "      <td>-0.017477</td>\n",
              "      <td>0.000878</td>\n",
              "      <td>NaN</td>\n",
              "      <td>-0.020858</td>\n",
              "      <td>-0.034507</td>\n",
              "      <td>0.059191</td>\n",
              "    </tr>\n",
              "    <tr>\n",
              "      <th>has_secondary_use</th>\n",
              "      <td>0.007575</td>\n",
              "      <td>-0.021330</td>\n",
              "      <td>0.008035</td>\n",
              "      <td>0.004101</td>\n",
              "      <td>0.035727</td>\n",
              "      <td>-0.032239</td>\n",
              "      <td>0.081665</td>\n",
              "      <td>0.046938</td>\n",
              "      <td>-0.011671</td>\n",
              "      <td>-0.085395</td>\n",
              "      <td>...</td>\n",
              "      <td>0.529551</td>\n",
              "      <td>0.252512</td>\n",
              "      <td>0.088176</td>\n",
              "      <td>0.047115</td>\n",
              "      <td>0.092284</td>\n",
              "      <td>0.033313</td>\n",
              "      <td>NaN</td>\n",
              "      <td>0.033313</td>\n",
              "      <td>0.202233</td>\n",
              "      <td>-0.066003</td>\n",
              "    </tr>\n",
              "    <tr>\n",
              "      <th>has_secondary_use_agriculture</th>\n",
              "      <td>0.008270</td>\n",
              "      <td>-0.029746</td>\n",
              "      <td>0.020637</td>\n",
              "      <td>0.017944</td>\n",
              "      <td>0.003098</td>\n",
              "      <td>0.015941</td>\n",
              "      <td>-0.010436</td>\n",
              "      <td>-0.009932</td>\n",
              "      <td>-0.002164</td>\n",
              "      <td>0.063728</td>\n",
              "      <td>...</td>\n",
              "      <td>-0.049558</td>\n",
              "      <td>-0.023632</td>\n",
              "      <td>-0.008252</td>\n",
              "      <td>-0.004409</td>\n",
              "      <td>-0.008636</td>\n",
              "      <td>-0.003118</td>\n",
              "      <td>NaN</td>\n",
              "      <td>-0.003118</td>\n",
              "      <td>0.058673</td>\n",
              "      <td>0.021880</td>\n",
              "    </tr>\n",
              "    <tr>\n",
              "      <th>has_secondary_use_hotel</th>\n",
              "      <td>-0.002128</td>\n",
              "      <td>0.004813</td>\n",
              "      <td>-0.007529</td>\n",
              "      <td>-0.007385</td>\n",
              "      <td>0.044333</td>\n",
              "      <td>-0.057564</td>\n",
              "      <td>0.104658</td>\n",
              "      <td>0.070592</td>\n",
              "      <td>-0.011864</td>\n",
              "      <td>-0.166288</td>\n",
              "      <td>...</td>\n",
              "      <td>1.000000</td>\n",
              "      <td>-0.017043</td>\n",
              "      <td>-0.005951</td>\n",
              "      <td>-0.003180</td>\n",
              "      <td>-0.006228</td>\n",
              "      <td>-0.002248</td>\n",
              "      <td>NaN</td>\n",
              "      <td>-0.002248</td>\n",
              "      <td>-0.002862</td>\n",
              "      <td>-0.094543</td>\n",
              "    </tr>\n",
              "    <tr>\n",
              "      <th>has_secondary_use_rental</th>\n",
              "      <td>0.002646</td>\n",
              "      <td>0.007940</td>\n",
              "      <td>-0.009734</td>\n",
              "      <td>-0.002949</td>\n",
              "      <td>0.022913</td>\n",
              "      <td>-0.032753</td>\n",
              "      <td>0.070549</td>\n",
              "      <td>0.039910</td>\n",
              "      <td>-0.001293</td>\n",
              "      <td>-0.113161</td>\n",
              "      <td>...</td>\n",
              "      <td>-0.017043</td>\n",
              "      <td>1.000000</td>\n",
              "      <td>-0.002838</td>\n",
              "      <td>-0.001516</td>\n",
              "      <td>-0.002970</td>\n",
              "      <td>-0.001072</td>\n",
              "      <td>NaN</td>\n",
              "      <td>-0.001072</td>\n",
              "      <td>0.015511</td>\n",
              "      <td>-0.074264</td>\n",
              "    </tr>\n",
              "    <tr>\n",
              "      <th>has_secondary_use_institution</th>\n",
              "      <td>0.004306</td>\n",
              "      <td>0.001074</td>\n",
              "      <td>-0.002891</td>\n",
              "      <td>-0.009687</td>\n",
              "      <td>0.006536</td>\n",
              "      <td>-0.009339</td>\n",
              "      <td>0.032009</td>\n",
              "      <td>0.010794</td>\n",
              "      <td>-0.004300</td>\n",
              "      <td>-0.021165</td>\n",
              "      <td>...</td>\n",
              "      <td>-0.005951</td>\n",
              "      <td>-0.002838</td>\n",
              "      <td>1.000000</td>\n",
              "      <td>-0.000529</td>\n",
              "      <td>-0.001037</td>\n",
              "      <td>-0.000374</td>\n",
              "      <td>NaN</td>\n",
              "      <td>-0.000374</td>\n",
              "      <td>-0.002273</td>\n",
              "      <td>-0.030629</td>\n",
              "    </tr>\n",
              "    <tr>\n",
              "      <th>has_secondary_use_school</th>\n",
              "      <td>-0.001235</td>\n",
              "      <td>-0.002418</td>\n",
              "      <td>-0.009488</td>\n",
              "      <td>-0.000074</td>\n",
              "      <td>0.007662</td>\n",
              "      <td>-0.009853</td>\n",
              "      <td>0.018840</td>\n",
              "      <td>0.008791</td>\n",
              "      <td>0.004849</td>\n",
              "      <td>-0.030127</td>\n",
              "      <td>...</td>\n",
              "      <td>-0.003180</td>\n",
              "      <td>-0.001516</td>\n",
              "      <td>-0.000529</td>\n",
              "      <td>1.000000</td>\n",
              "      <td>-0.000554</td>\n",
              "      <td>-0.000200</td>\n",
              "      <td>NaN</td>\n",
              "      <td>-0.000200</td>\n",
              "      <td>-0.001214</td>\n",
              "      <td>-0.007684</td>\n",
              "    </tr>\n",
              "    <tr>\n",
              "      <th>has_secondary_use_industry</th>\n",
              "      <td>0.006459</td>\n",
              "      <td>0.001657</td>\n",
              "      <td>0.000551</td>\n",
              "      <td>-0.014869</td>\n",
              "      <td>0.002183</td>\n",
              "      <td>-0.004377</td>\n",
              "      <td>0.018222</td>\n",
              "      <td>0.003478</td>\n",
              "      <td>-0.004987</td>\n",
              "      <td>-0.025356</td>\n",
              "      <td>...</td>\n",
              "      <td>-0.006228</td>\n",
              "      <td>-0.002970</td>\n",
              "      <td>-0.001037</td>\n",
              "      <td>-0.000554</td>\n",
              "      <td>1.000000</td>\n",
              "      <td>-0.000392</td>\n",
              "      <td>NaN</td>\n",
              "      <td>-0.000392</td>\n",
              "      <td>-0.002379</td>\n",
              "      <td>-0.011779</td>\n",
              "    </tr>\n",
              "    <tr>\n",
              "      <th>has_secondary_use_health_post</th>\n",
              "      <td>-0.000327</td>\n",
              "      <td>-0.005832</td>\n",
              "      <td>-0.005162</td>\n",
              "      <td>-0.000333</td>\n",
              "      <td>0.012126</td>\n",
              "      <td>-0.009912</td>\n",
              "      <td>0.009140</td>\n",
              "      <td>0.011425</td>\n",
              "      <td>-0.003646</td>\n",
              "      <td>-0.011988</td>\n",
              "      <td>...</td>\n",
              "      <td>-0.002248</td>\n",
              "      <td>-0.001072</td>\n",
              "      <td>-0.000374</td>\n",
              "      <td>-0.000200</td>\n",
              "      <td>-0.000392</td>\n",
              "      <td>1.000000</td>\n",
              "      <td>NaN</td>\n",
              "      <td>-0.000141</td>\n",
              "      <td>-0.000859</td>\n",
              "      <td>-0.010409</td>\n",
              "    </tr>\n",
              "    <tr>\n",
              "      <th>has_secondary_use_gov_office</th>\n",
              "      <td>NaN</td>\n",
              "      <td>NaN</td>\n",
              "      <td>NaN</td>\n",
              "      <td>NaN</td>\n",
              "      <td>NaN</td>\n",
              "      <td>NaN</td>\n",
              "      <td>NaN</td>\n",
              "      <td>NaN</td>\n",
              "      <td>NaN</td>\n",
              "      <td>NaN</td>\n",
              "      <td>...</td>\n",
              "      <td>NaN</td>\n",
              "      <td>NaN</td>\n",
              "      <td>NaN</td>\n",
              "      <td>NaN</td>\n",
              "      <td>NaN</td>\n",
              "      <td>NaN</td>\n",
              "      <td>1.0</td>\n",
              "      <td>NaN</td>\n",
              "      <td>NaN</td>\n",
              "      <td>NaN</td>\n",
              "    </tr>\n",
              "    <tr>\n",
              "      <th>has_secondary_use_use_police</th>\n",
              "      <td>0.002794</td>\n",
              "      <td>-0.006340</td>\n",
              "      <td>0.002541</td>\n",
              "      <td>-0.005114</td>\n",
              "      <td>0.011906</td>\n",
              "      <td>-0.001934</td>\n",
              "      <td>0.009491</td>\n",
              "      <td>0.010448</td>\n",
              "      <td>-0.003646</td>\n",
              "      <td>-0.002674</td>\n",
              "      <td>...</td>\n",
              "      <td>-0.002248</td>\n",
              "      <td>-0.001072</td>\n",
              "      <td>-0.000374</td>\n",
              "      <td>-0.000200</td>\n",
              "      <td>-0.000392</td>\n",
              "      <td>-0.000141</td>\n",
              "      <td>NaN</td>\n",
              "      <td>1.000000</td>\n",
              "      <td>-0.000859</td>\n",
              "      <td>-0.010409</td>\n",
              "    </tr>\n",
              "    <tr>\n",
              "      <th>has_secondary_use_other</th>\n",
              "      <td>0.004722</td>\n",
              "      <td>-0.015716</td>\n",
              "      <td>-0.007871</td>\n",
              "      <td>-0.008588</td>\n",
              "      <td>-0.000693</td>\n",
              "      <td>0.006183</td>\n",
              "      <td>0.017356</td>\n",
              "      <td>0.006169</td>\n",
              "      <td>-0.008077</td>\n",
              "      <td>-0.001326</td>\n",
              "      <td>...</td>\n",
              "      <td>-0.002862</td>\n",
              "      <td>0.015511</td>\n",
              "      <td>-0.002273</td>\n",
              "      <td>-0.001214</td>\n",
              "      <td>-0.002379</td>\n",
              "      <td>-0.000859</td>\n",
              "      <td>NaN</td>\n",
              "      <td>-0.000859</td>\n",
              "      <td>1.000000</td>\n",
              "      <td>-0.012829</td>\n",
              "    </tr>\n",
              "    <tr>\n",
              "      <th>damage_grade</th>\n",
              "      <td>0.003328</td>\n",
              "      <td>-0.023572</td>\n",
              "      <td>0.032185</td>\n",
              "      <td>0.007782</td>\n",
              "      <td>0.126339</td>\n",
              "      <td>0.148667</td>\n",
              "      <td>-0.091335</td>\n",
              "      <td>0.059609</td>\n",
              "      <td>0.040155</td>\n",
              "      <td>0.275813</td>\n",
              "      <td>...</td>\n",
              "      <td>-0.094543</td>\n",
              "      <td>-0.074264</td>\n",
              "      <td>-0.030629</td>\n",
              "      <td>-0.007684</td>\n",
              "      <td>-0.011779</td>\n",
              "      <td>-0.010409</td>\n",
              "      <td>NaN</td>\n",
              "      <td>-0.010409</td>\n",
              "      <td>-0.012829</td>\n",
              "      <td>1.000000</td>\n",
              "    </tr>\n",
              "  </tbody>\n",
              "</table>\n",
              "<p>32 rows × 32 columns</p>\n",
              "</div>\n",
              "      <button class=\"colab-df-convert\" onclick=\"convertToInteractive('df-69ad6f7f-a05c-4457-b29f-78a76bb32c05')\"\n",
              "              title=\"Convert this dataframe to an interactive table.\"\n",
              "              style=\"display:none;\">\n",
              "        \n",
              "  <svg xmlns=\"http://www.w3.org/2000/svg\" height=\"24px\"viewBox=\"0 0 24 24\"\n",
              "       width=\"24px\">\n",
              "    <path d=\"M0 0h24v24H0V0z\" fill=\"none\"/>\n",
              "    <path d=\"M18.56 5.44l.94 2.06.94-2.06 2.06-.94-2.06-.94-.94-2.06-.94 2.06-2.06.94zm-11 1L8.5 8.5l.94-2.06 2.06-.94-2.06-.94L8.5 2.5l-.94 2.06-2.06.94zm10 10l.94 2.06.94-2.06 2.06-.94-2.06-.94-.94-2.06-.94 2.06-2.06.94z\"/><path d=\"M17.41 7.96l-1.37-1.37c-.4-.4-.92-.59-1.43-.59-.52 0-1.04.2-1.43.59L10.3 9.45l-7.72 7.72c-.78.78-.78 2.05 0 2.83L4 21.41c.39.39.9.59 1.41.59.51 0 1.02-.2 1.41-.59l7.78-7.78 2.81-2.81c.8-.78.8-2.07 0-2.86zM5.41 20L4 18.59l7.72-7.72 1.47 1.35L5.41 20z\"/>\n",
              "  </svg>\n",
              "      </button>\n",
              "      \n",
              "  <style>\n",
              "    .colab-df-container {\n",
              "      display:flex;\n",
              "      flex-wrap:wrap;\n",
              "      gap: 12px;\n",
              "    }\n",
              "\n",
              "    .colab-df-convert {\n",
              "      background-color: #E8F0FE;\n",
              "      border: none;\n",
              "      border-radius: 50%;\n",
              "      cursor: pointer;\n",
              "      display: none;\n",
              "      fill: #1967D2;\n",
              "      height: 32px;\n",
              "      padding: 0 0 0 0;\n",
              "      width: 32px;\n",
              "    }\n",
              "\n",
              "    .colab-df-convert:hover {\n",
              "      background-color: #E2EBFA;\n",
              "      box-shadow: 0px 1px 2px rgba(60, 64, 67, 0.3), 0px 1px 3px 1px rgba(60, 64, 67, 0.15);\n",
              "      fill: #174EA6;\n",
              "    }\n",
              "\n",
              "    [theme=dark] .colab-df-convert {\n",
              "      background-color: #3B4455;\n",
              "      fill: #D2E3FC;\n",
              "    }\n",
              "\n",
              "    [theme=dark] .colab-df-convert:hover {\n",
              "      background-color: #434B5C;\n",
              "      box-shadow: 0px 1px 3px 1px rgba(0, 0, 0, 0.15);\n",
              "      filter: drop-shadow(0px 1px 2px rgba(0, 0, 0, 0.3));\n",
              "      fill: #FFFFFF;\n",
              "    }\n",
              "  </style>\n",
              "\n",
              "      <script>\n",
              "        const buttonEl =\n",
              "          document.querySelector('#df-69ad6f7f-a05c-4457-b29f-78a76bb32c05 button.colab-df-convert');\n",
              "        buttonEl.style.display =\n",
              "          google.colab.kernel.accessAllowed ? 'block' : 'none';\n",
              "\n",
              "        async function convertToInteractive(key) {\n",
              "          const element = document.querySelector('#df-69ad6f7f-a05c-4457-b29f-78a76bb32c05');\n",
              "          const dataTable =\n",
              "            await google.colab.kernel.invokeFunction('convertToInteractive',\n",
              "                                                     [key], {});\n",
              "          if (!dataTable) return;\n",
              "\n",
              "          const docLinkHtml = 'Like what you see? Visit the ' +\n",
              "            '<a target=\"_blank\" href=https://colab.research.google.com/notebooks/data_table.ipynb>data table notebook</a>'\n",
              "            + ' to learn more about interactive tables.';\n",
              "          element.innerHTML = '';\n",
              "          dataTable['output_type'] = 'display_data';\n",
              "          await google.colab.output.renderOutput(dataTable, element);\n",
              "          const docLink = document.createElement('div');\n",
              "          docLink.innerHTML = docLinkHtml;\n",
              "          element.appendChild(docLink);\n",
              "        }\n",
              "      </script>\n",
              "    </div>\n",
              "  </div>\n",
              "  "
            ]
          },
          "metadata": {},
          "execution_count": 111
        }
      ],
      "source": [
        "df.corr(method='kendall')"
      ]
    },
    {
      "cell_type": "code",
      "execution_count": 112,
      "metadata": {
        "id": "FbpL5DQK66bf"
      },
      "outputs": [],
      "source": [
        "k1=df.corr(method='kendall')['damage_grade']\n",
        "k1=pd.DataFrame(k1)"
      ]
    },
    {
      "cell_type": "code",
      "execution_count": 113,
      "metadata": {
        "colab": {
          "base_uri": "https://localhost:8080/",
          "height": 288
        },
        "id": "YaplO1mQ66bg",
        "outputId": "8ffd0c35-cb55-46c7-aec3-d98de4e555d4"
      },
      "outputs": [
        {
          "output_type": "execute_result",
          "data": {
            "text/plain": [
              "<matplotlib.axes._subplots.AxesSubplot at 0x7fefac556850>"
            ]
          },
          "metadata": {},
          "execution_count": 113
        },
        {
          "output_type": "display_data",
          "data": {
            "text/plain": [
              "<Figure size 432x288 with 2 Axes>"
            ],
            "image/png": "[encoded data removed]"
          },
          "metadata": {
            "needs_background": "light"
          }
        }
      ],
      "source": [
        "sbs.heatmap(k1,cmap='coolwarm',annot=True)"
      ]
    },
    {
      "cell_type": "markdown",
      "metadata": {
        "id": "rrpi9BGs66bh"
      },
      "source": [
        "# Feature Engineering and Feature Selection"
      ]
    },
    {
      "cell_type": "markdown",
      "metadata": {
        "id": "4VLGGYoQ66bh"
      },
      "source": [
        "### Droping the unneccessary features which are not needed during training and testing ML model"
      ]
    },
    {
      "cell_type": "code",
      "execution_count": 114,
      "metadata": {
        "colab": {
          "base_uri": "https://localhost:8080/",
          "height": 488
        },
        "id": "vcArCN4V66bi",
        "outputId": "7c17ad16-add3-43a7-d38f-bf1ca62a38aa"
      },
      "outputs": [
        {
          "output_type": "execute_result",
          "data": {
            "text/plain": [
              "       geo_level_1_id  geo_level_2_id  geo_level_3_id  count_floors_pre_eq  \\\n",
              "0                   6             487           12198                    2   \n",
              "1                   8             900            2812                    2   \n",
              "2                  21             363            8973                    2   \n",
              "3                  22             418           10694                    2   \n",
              "4                  11             131            1488                    3   \n",
              "...               ...             ...             ...                  ...   \n",
              "21208               1             273            6292                    2   \n",
              "21209               0             462           10579                    1   \n",
              "21210              18            1317           11887                    2   \n",
              "21211               8            1415            9041                    3   \n",
              "21212              26              39              85                    2   \n",
              "\n",
              "       age  area_percentage  height_percentage land_surface_condition  \\\n",
              "0       30                6                  5                      t   \n",
              "1       10                8                  7                      o   \n",
              "2       10                5                  5                      t   \n",
              "3       10                6                  5                      t   \n",
              "4       30                8                  9                      t   \n",
              "...    ...              ...                ...                    ...   \n",
              "21208   30               10                  4                      t   \n",
              "21209    0                3                  3                      n   \n",
              "21210    0                8                  5                      t   \n",
              "21211   20                4                  6                      t   \n",
              "21212   10                7                  6                      t   \n",
              "\n",
              "      foundation_type roof_type  ... has_secondary_use  \\\n",
              "0                   r         n  ...                 0   \n",
              "1                   r         n  ...                 0   \n",
              "2                   r         n  ...                 0   \n",
              "3                   r         n  ...                 0   \n",
              "4                   r         n  ...                 0   \n",
              "...               ...       ...  ...               ...   \n",
              "21208               r         n  ...                 0   \n",
              "21209               r         n  ...                 0   \n",
              "21210               h         n  ...                 1   \n",
              "21211               r         n  ...                 0   \n",
              "21212               r         q  ...                 0   \n",
              "\n",
              "      has_secondary_use_agriculture has_secondary_use_hotel  \\\n",
              "0                                 0                       0   \n",
              "1                                 0                       0   \n",
              "2                                 0                       0   \n",
              "3                                 0                       0   \n",
              "4                                 0                       0   \n",
              "...                             ...                     ...   \n",
              "21208                             0                       0   \n",
              "21209                             0                       0   \n",
              "21210                             0                       1   \n",
              "21211                             0                       0   \n",
              "21212                             0                       0   \n",
              "\n",
              "      has_secondary_use_rental  has_secondary_use_institution  \\\n",
              "0                            0                              0   \n",
              "1                            0                              0   \n",
              "2                            0                              0   \n",
              "3                            0                              0   \n",
              "4                            0                              0   \n",
              "...                        ...                            ...   \n",
              "21208                        0                              0   \n",
              "21209                        0                              0   \n",
              "21210                        0                              0   \n",
              "21211                        0                              0   \n",
              "21212                        0                              0   \n",
              "\n",
              "       has_secondary_use_school  has_secondary_use_industry  \\\n",
              "0                             0                           0   \n",
              "1                             0                           0   \n",
              "2                             0                           0   \n",
              "3                             0                           0   \n",
              "4                             0                           0   \n",
              "...                         ...                         ...   \n",
              "21208                         0                           0   \n",
              "21209                         0                           0   \n",
              "21210                         0                           0   \n",
              "21211                         0                           0   \n",
              "21212                         0                           0   \n",
              "\n",
              "       has_secondary_use_health_post  has_secondary_use_use_police  \\\n",
              "0                                  0                             0   \n",
              "1                                  0                             0   \n",
              "2                                  0                             0   \n",
              "3                                  0                             0   \n",
              "4                                  0                             0   \n",
              "...                              ...                           ...   \n",
              "21208                              0                             0   \n",
              "21209                              0                             0   \n",
              "21210                              0                             0   \n",
              "21211                              0                             0   \n",
              "21212                              0                             0   \n",
              "\n",
              "       has_secondary_use_other  \n",
              "0                            0  \n",
              "1                            0  \n",
              "2                            0  \n",
              "3                            0  \n",
              "4                            0  \n",
              "...                        ...  \n",
              "21208                        0  \n",
              "21209                        0  \n",
              "21210                        0  \n",
              "21211                        0  \n",
              "21212                        0  \n",
              "\n",
              "[21213 rows x 37 columns]"
            ],
            "text/html": [
              "\n",
              "  <div id=\"df-97252c44-85ba-4a52-a4fb-ec95510602a9\">\n",
              "    <div class=\"colab-df-container\">\n",
              "      <div>\n",
              "<style scoped>\n",
              "    .dataframe tbody tr th:only-of-type {\n",
              "        vertical-align: middle;\n",
              "    }\n",
              "\n",
              "    .dataframe tbody tr th {\n",
              "        vertical-align: top;\n",
              "    }\n",
              "\n",
              "    .dataframe thead th {\n",
              "        text-align: right;\n",
              "    }\n",
              "</style>\n",
              "<table border=\"1\" class=\"dataframe\">\n",
              "  <thead>\n",
              "    <tr style=\"text-align: right;\">\n",
              "      <th></th>\n",
              "      <th>geo_level_1_id</th>\n",
              "      <th>geo_level_2_id</th>\n",
              "      <th>geo_level_3_id</th>\n",
              "      <th>count_floors_pre_eq</th>\n",
              "      <th>age</th>\n",
              "      <th>area_percentage</th>\n",
              "      <th>height_percentage</th>\n",
              "      <th>land_surface_condition</th>\n",
              "      <th>foundation_type</th>\n",
              "      <th>roof_type</th>\n",
              "      <th>...</th>\n",
              "      <th>has_secondary_use</th>\n",
              "      <th>has_secondary_use_agriculture</th>\n",
              "      <th>has_secondary_use_hotel</th>\n",
              "      <th>has_secondary_use_rental</th>\n",
              "      <th>has_secondary_use_institution</th>\n",
              "      <th>has_secondary_use_school</th>\n",
              "      <th>has_secondary_use_industry</th>\n",
              "      <th>has_secondary_use_health_post</th>\n",
              "      <th>has_secondary_use_use_police</th>\n",
              "      <th>has_secondary_use_other</th>\n",
              "    </tr>\n",
              "  </thead>\n",
              "  <tbody>\n",
              "    <tr>\n",
              "      <th>0</th>\n",
              "      <td>6</td>\n",
              "      <td>487</td>\n",
              "      <td>12198</td>\n",
              "      <td>2</td>\n",
              "      <td>30</td>\n",
              "      <td>6</td>\n",
              "      <td>5</td>\n",
              "      <td>t</td>\n",
              "      <td>r</td>\n",
              "      <td>n</td>\n",
              "      <td>...</td>\n",
              "      <td>0</td>\n",
              "      <td>0</td>\n",
              "      <td>0</td>\n",
              "      <td>0</td>\n",
              "      <td>0</td>\n",
              "      <td>0</td>\n",
              "      <td>0</td>\n",
              "      <td>0</td>\n",
              "      <td>0</td>\n",
              "      <td>0</td>\n",
              "    </tr>\n",
              "    <tr>\n",
              "      <th>1</th>\n",
              "      <td>8</td>\n",
              "      <td>900</td>\n",
              "      <td>2812</td>\n",
              "      <td>2</td>\n",
              "      <td>10</td>\n",
              "      <td>8</td>\n",
              "      <td>7</td>\n",
              "      <td>o</td>\n",
              "      <td>r</td>\n",
              "      <td>n</td>\n",
              "      <td>...</td>\n",
              "      <td>0</td>\n",
              "      <td>0</td>\n",
              "      <td>0</td>\n",
              "      <td>0</td>\n",
              "      <td>0</td>\n",
              "      <td>0</td>\n",
              "      <td>0</td>\n",
              "      <td>0</td>\n",
              "      <td>0</td>\n",
              "      <td>0</td>\n",
              "    </tr>\n",
              "    <tr>\n",
              "      <th>2</th>\n",
              "      <td>21</td>\n",
              "      <td>363</td>\n",
              "      <td>8973</td>\n",
              "      <td>2</td>\n",
              "      <td>10</td>\n",
              "      <td>5</td>\n",
              "      <td>5</td>\n",
              "      <td>t</td>\n",
              "      <td>r</td>\n",
              "      <td>n</td>\n",
              "      <td>...</td>\n",
              "      <td>0</td>\n",
              "      <td>0</td>\n",
              "      <td>0</td>\n",
              "      <td>0</td>\n",
              "      <td>0</td>\n",
              "      <td>0</td>\n",
              "      <td>0</td>\n",
              "      <td>0</td>\n",
              "      <td>0</td>\n",
              "      <td>0</td>\n",
              "    </tr>\n",
              "    <tr>\n",
              "      <th>3</th>\n",
              "      <td>22</td>\n",
              "      <td>418</td>\n",
              "      <td>10694</td>\n",
              "      <td>2</td>\n",
              "      <td>10</td>\n",
              "      <td>6</td>\n",
              "      <td>5</td>\n",
              "      <td>t</td>\n",
              "      <td>r</td>\n",
              "      <td>n</td>\n",
              "      <td>...</td>\n",
              "      <td>0</td>\n",
              "      <td>0</td>\n",
              "      <td>0</td>\n",
              "      <td>0</td>\n",
              "      <td>0</td>\n",
              "      <td>0</td>\n",
              "      <td>0</td>\n",
              "      <td>0</td>\n",
              "      <td>0</td>\n",
              "      <td>0</td>\n",
              "    </tr>\n",
              "    <tr>\n",
              "      <th>4</th>\n",
              "      <td>11</td>\n",
              "      <td>131</td>\n",
              "      <td>1488</td>\n",
              "      <td>3</td>\n",
              "      <td>30</td>\n",
              "      <td>8</td>\n",
              "      <td>9</td>\n",
              "      <td>t</td>\n",
              "      <td>r</td>\n",
              "      <td>n</td>\n",
              "      <td>...</td>\n",
              "      <td>0</td>\n",
              "      <td>0</td>\n",
              "      <td>0</td>\n",
              "      <td>0</td>\n",
              "      <td>0</td>\n",
              "      <td>0</td>\n",
              "      <td>0</td>\n",
              "      <td>0</td>\n",
              "      <td>0</td>\n",
              "      <td>0</td>\n",
              "    </tr>\n",
              "    <tr>\n",
              "      <th>...</th>\n",
              "      <td>...</td>\n",
              "      <td>...</td>\n",
              "      <td>...</td>\n",
              "      <td>...</td>\n",
              "      <td>...</td>\n",
              "      <td>...</td>\n",
              "      <td>...</td>\n",
              "      <td>...</td>\n",
              "      <td>...</td>\n",
              "      <td>...</td>\n",
              "      <td>...</td>\n",
              "      <td>...</td>\n",
              "      <td>...</td>\n",
              "      <td>...</td>\n",
              "      <td>...</td>\n",
              "      <td>...</td>\n",
              "      <td>...</td>\n",
              "      <td>...</td>\n",
              "      <td>...</td>\n",
              "      <td>...</td>\n",
              "      <td>...</td>\n",
              "    </tr>\n",
              "    <tr>\n",
              "      <th>21208</th>\n",
              "      <td>1</td>\n",
              "      <td>273</td>\n",
              "      <td>6292</td>\n",
              "      <td>2</td>\n",
              "      <td>30</td>\n",
              "      <td>10</td>\n",
              "      <td>4</td>\n",
              "      <td>t</td>\n",
              "      <td>r</td>\n",
              "      <td>n</td>\n",
              "      <td>...</td>\n",
              "      <td>0</td>\n",
              "      <td>0</td>\n",
              "      <td>0</td>\n",
              "      <td>0</td>\n",
              "      <td>0</td>\n",
              "      <td>0</td>\n",
              "      <td>0</td>\n",
              "      <td>0</td>\n",
              "      <td>0</td>\n",
              "      <td>0</td>\n",
              "    </tr>\n",
              "    <tr>\n",
              "      <th>21209</th>\n",
              "      <td>0</td>\n",
              "      <td>462</td>\n",
              "      <td>10579</td>\n",
              "      <td>1</td>\n",
              "      <td>0</td>\n",
              "      <td>3</td>\n",
              "      <td>3</td>\n",
              "      <td>n</td>\n",
              "      <td>r</td>\n",
              "      <td>n</td>\n",
              "      <td>...</td>\n",
              "      <td>0</td>\n",
              "      <td>0</td>\n",
              "      <td>0</td>\n",
              "      <td>0</td>\n",
              "      <td>0</td>\n",
              "      <td>0</td>\n",
              "      <td>0</td>\n",
              "      <td>0</td>\n",
              "      <td>0</td>\n",
              "      <td>0</td>\n",
              "    </tr>\n",
              "    <tr>\n",
              "      <th>21210</th>\n",
              "      <td>18</td>\n",
              "      <td>1317</td>\n",
              "      <td>11887</td>\n",
              "      <td>2</td>\n",
              "      <td>0</td>\n",
              "      <td>8</td>\n",
              "      <td>5</td>\n",
              "      <td>t</td>\n",
              "      <td>h</td>\n",
              "      <td>n</td>\n",
              "      <td>...</td>\n",
              "      <td>1</td>\n",
              "      <td>0</td>\n",
              "      <td>1</td>\n",
              "      <td>0</td>\n",
              "      <td>0</td>\n",
              "      <td>0</td>\n",
              "      <td>0</td>\n",
              "      <td>0</td>\n",
              "      <td>0</td>\n",
              "      <td>0</td>\n",
              "    </tr>\n",
              "    <tr>\n",
              "      <th>21211</th>\n",
              "      <td>8</td>\n",
              "      <td>1415</td>\n",
              "      <td>9041</td>\n",
              "      <td>3</td>\n",
              "      <td>20</td>\n",
              "      <td>4</td>\n",
              "      <td>6</td>\n",
              "      <td>t</td>\n",
              "      <td>r</td>\n",
              "      <td>n</td>\n",
              "      <td>...</td>\n",
              "      <td>0</td>\n",
              "      <td>0</td>\n",
              "      <td>0</td>\n",
              "      <td>0</td>\n",
              "      <td>0</td>\n",
              "      <td>0</td>\n",
              "      <td>0</td>\n",
              "      <td>0</td>\n",
              "      <td>0</td>\n",
              "      <td>0</td>\n",
              "    </tr>\n",
              "    <tr>\n",
              "      <th>21212</th>\n",
              "      <td>26</td>\n",
              "      <td>39</td>\n",
              "      <td>85</td>\n",
              "      <td>2</td>\n",
              "      <td>10</td>\n",
              "      <td>7</td>\n",
              "      <td>6</td>\n",
              "      <td>t</td>\n",
              "      <td>r</td>\n",
              "      <td>q</td>\n",
              "      <td>...</td>\n",
              "      <td>0</td>\n",
              "      <td>0</td>\n",
              "      <td>0</td>\n",
              "      <td>0</td>\n",
              "      <td>0</td>\n",
              "      <td>0</td>\n",
              "      <td>0</td>\n",
              "      <td>0</td>\n",
              "      <td>0</td>\n",
              "      <td>0</td>\n",
              "    </tr>\n",
              "  </tbody>\n",
              "</table>\n",
              "<p>21213 rows × 37 columns</p>\n",
              "</div>\n",
              "      <button class=\"colab-df-convert\" onclick=\"convertToInteractive('df-97252c44-85ba-4a52-a4fb-ec95510602a9')\"\n",
              "              title=\"Convert this dataframe to an interactive table.\"\n",
              "              style=\"display:none;\">\n",
              "        \n",
              "  <svg xmlns=\"http://www.w3.org/2000/svg\" height=\"24px\"viewBox=\"0 0 24 24\"\n",
              "       width=\"24px\">\n",
              "    <path d=\"M0 0h24v24H0V0z\" fill=\"none\"/>\n",
              "    <path d=\"M18.56 5.44l.94 2.06.94-2.06 2.06-.94-2.06-.94-.94-2.06-.94 2.06-2.06.94zm-11 1L8.5 8.5l.94-2.06 2.06-.94-2.06-.94L8.5 2.5l-.94 2.06-2.06.94zm10 10l.94 2.06.94-2.06 2.06-.94-2.06-.94-.94-2.06-.94 2.06-2.06.94z\"/><path d=\"M17.41 7.96l-1.37-1.37c-.4-.4-.92-.59-1.43-.59-.52 0-1.04.2-1.43.59L10.3 9.45l-7.72 7.72c-.78.78-.78 2.05 0 2.83L4 21.41c.39.39.9.59 1.41.59.51 0 1.02-.2 1.41-.59l7.78-7.78 2.81-2.81c.8-.78.8-2.07 0-2.86zM5.41 20L4 18.59l7.72-7.72 1.47 1.35L5.41 20z\"/>\n",
              "  </svg>\n",
              "      </button>\n",
              "      \n",
              "  <style>\n",
              "    .colab-df-container {\n",
              "      display:flex;\n",
              "      flex-wrap:wrap;\n",
              "      gap: 12px;\n",
              "    }\n",
              "\n",
              "    .colab-df-convert {\n",
              "      background-color: #E8F0FE;\n",
              "      border: none;\n",
              "      border-radius: 50%;\n",
              "      cursor: pointer;\n",
              "      display: none;\n",
              "      fill: #1967D2;\n",
              "      height: 32px;\n",
              "      padding: 0 0 0 0;\n",
              "      width: 32px;\n",
              "    }\n",
              "\n",
              "    .colab-df-convert:hover {\n",
              "      background-color: #E2EBFA;\n",
              "      box-shadow: 0px 1px 2px rgba(60, 64, 67, 0.3), 0px 1px 3px 1px rgba(60, 64, 67, 0.15);\n",
              "      fill: #174EA6;\n",
              "    }\n",
              "\n",
              "    [theme=dark] .colab-df-convert {\n",
              "      background-color: #3B4455;\n",
              "      fill: #D2E3FC;\n",
              "    }\n",
              "\n",
              "    [theme=dark] .colab-df-convert:hover {\n",
              "      background-color: #434B5C;\n",
              "      box-shadow: 0px 1px 3px 1px rgba(0, 0, 0, 0.15);\n",
              "      filter: drop-shadow(0px 1px 2px rgba(0, 0, 0, 0.3));\n",
              "      fill: #FFFFFF;\n",
              "    }\n",
              "  </style>\n",
              "\n",
              "      <script>\n",
              "        const buttonEl =\n",
              "          document.querySelector('#df-97252c44-85ba-4a52-a4fb-ec95510602a9 button.colab-df-convert');\n",
              "        buttonEl.style.display =\n",
              "          google.colab.kernel.accessAllowed ? 'block' : 'none';\n",
              "\n",
              "        async function convertToInteractive(key) {\n",
              "          const element = document.querySelector('#df-97252c44-85ba-4a52-a4fb-ec95510602a9');\n",
              "          const dataTable =\n",
              "            await google.colab.kernel.invokeFunction('convertToInteractive',\n",
              "                                                     [key], {});\n",
              "          if (!dataTable) return;\n",
              "\n",
              "          const docLinkHtml = 'Like what you see? Visit the ' +\n",
              "            '<a target=\"_blank\" href=https://colab.research.google.com/notebooks/data_table.ipynb>data table notebook</a>'\n",
              "            + ' to learn more about interactive tables.';\n",
              "          element.innerHTML = '';\n",
              "          dataTable['output_type'] = 'display_data';\n",
              "          await google.colab.output.renderOutput(dataTable, element);\n",
              "          const docLink = document.createElement('div');\n",
              "          docLink.innerHTML = docLinkHtml;\n",
              "          element.appendChild(docLink);\n",
              "        }\n",
              "      </script>\n",
              "    </div>\n",
              "  </div>\n",
              "  "
            ]
          },
          "metadata": {},
          "execution_count": 114
        }
      ],
      "source": [
        "df_x=df.drop(columns=['building_id','damage_grade','has_secondary_use_gov_office'])\n",
        "df_y=df['damage_grade']\n",
        "df_x"
      ]
    },
    {
      "cell_type": "markdown",
      "metadata": {
        "id": "r4LBk-wL66bk"
      },
      "source": [
        "# Using label Encoder to converts label to integers"
      ]
    },
    {
      "cell_type": "code",
      "execution_count": 115,
      "metadata": {
        "colab": {
          "base_uri": "https://localhost:8080/",
          "height": 488
        },
        "id": "LpXy_Io866bk",
        "outputId": "56fa3d3e-8962-4e91-d907-1ffe2bb65688"
      },
      "outputs": [
        {
          "output_type": "execute_result",
          "data": {
            "text/plain": [
              "       building_id  geo_level_1_id  geo_level_2_id  geo_level_3_id  \\\n",
              "0           802906               6             487           12198   \n",
              "1            28830               8             900            2812   \n",
              "2            94947              21             363            8973   \n",
              "3           590882              22             418           10694   \n",
              "4           201944              11             131            1488   \n",
              "...            ...             ...             ...             ...   \n",
              "21208       713033               1             273            6292   \n",
              "21209       666570               0             462           10579   \n",
              "21210       734723              18            1317           11887   \n",
              "21211       631045               8            1415            9041   \n",
              "21212       171471              26              39              85   \n",
              "\n",
              "       count_floors_pre_eq  age  area_percentage  height_percentage  \\\n",
              "0                        2   30                6                  5   \n",
              "1                        2   10                8                  7   \n",
              "2                        2   10                5                  5   \n",
              "3                        2   10                6                  5   \n",
              "4                        3   30                8                  9   \n",
              "...                    ...  ...              ...                ...   \n",
              "21208                    2   30               10                  4   \n",
              "21209                    1    0                3                  3   \n",
              "21210                    2    0                8                  5   \n",
              "21211                    3   20                4                  6   \n",
              "21212                    2   10                7                  6   \n",
              "\n",
              "      land_surface_condition foundation_type  ... has_secondary_use_hotel  \\\n",
              "0                          t               r  ...                       0   \n",
              "1                          o               r  ...                       0   \n",
              "2                          t               r  ...                       0   \n",
              "3                          t               r  ...                       0   \n",
              "4                          t               r  ...                       0   \n",
              "...                      ...             ...  ...                     ...   \n",
              "21208                      t               r  ...                       0   \n",
              "21209                      n               r  ...                       0   \n",
              "21210                      t               h  ...                       1   \n",
              "21211                      t               r  ...                       0   \n",
              "21212                      t               r  ...                       0   \n",
              "\n",
              "      has_secondary_use_rental has_secondary_use_institution  \\\n",
              "0                            0                             0   \n",
              "1                            0                             0   \n",
              "2                            0                             0   \n",
              "3                            0                             0   \n",
              "4                            0                             0   \n",
              "...                        ...                           ...   \n",
              "21208                        0                             0   \n",
              "21209                        0                             0   \n",
              "21210                        0                             0   \n",
              "21211                        0                             0   \n",
              "21212                        0                             0   \n",
              "\n",
              "      has_secondary_use_school has_secondary_use_industry  \\\n",
              "0                            0                          0   \n",
              "1                            0                          0   \n",
              "2                            0                          0   \n",
              "3                            0                          0   \n",
              "4                            0                          0   \n",
              "...                        ...                        ...   \n",
              "21208                        0                          0   \n",
              "21209                        0                          0   \n",
              "21210                        0                          0   \n",
              "21211                        0                          0   \n",
              "21212                        0                          0   \n",
              "\n",
              "       has_secondary_use_health_post  has_secondary_use_gov_office  \\\n",
              "0                                  0                             0   \n",
              "1                                  0                             0   \n",
              "2                                  0                             0   \n",
              "3                                  0                             0   \n",
              "4                                  0                             0   \n",
              "...                              ...                           ...   \n",
              "21208                              0                             0   \n",
              "21209                              0                             0   \n",
              "21210                              0                             0   \n",
              "21211                              0                             0   \n",
              "21212                              0                             0   \n",
              "\n",
              "       has_secondary_use_use_police  has_secondary_use_other  damage_grade  \n",
              "0                                 0                        0             3  \n",
              "1                                 0                        0             2  \n",
              "2                                 0                        0             3  \n",
              "3                                 0                        0             2  \n",
              "4                                 0                        0             3  \n",
              "...                             ...                      ...           ...  \n",
              "21208                             0                        0             2  \n",
              "21209                             0                        0             2  \n",
              "21210                             0                        0             2  \n",
              "21211                             0                        0             2  \n",
              "21212                             0                        0             2  \n",
              "\n",
              "[21213 rows x 40 columns]"
            ],
            "text/html": [
              "\n",
              "  <div id=\"df-961622f8-a741-4198-85d2-454200c1e7c3\">\n",
              "    <div class=\"colab-df-container\">\n",
              "      <div>\n",
              "<style scoped>\n",
              "    .dataframe tbody tr th:only-of-type {\n",
              "        vertical-align: middle;\n",
              "    }\n",
              "\n",
              "    .dataframe tbody tr th {\n",
              "        vertical-align: top;\n",
              "    }\n",
              "\n",
              "    .dataframe thead th {\n",
              "        text-align: right;\n",
              "    }\n",
              "</style>\n",
              "<table border=\"1\" class=\"dataframe\">\n",
              "  <thead>\n",
              "    <tr style=\"text-align: right;\">\n",
              "      <th></th>\n",
              "      <th>building_id</th>\n",
              "      <th>geo_level_1_id</th>\n",
              "      <th>geo_level_2_id</th>\n",
              "      <th>geo_level_3_id</th>\n",
              "      <th>count_floors_pre_eq</th>\n",
              "      <th>age</th>\n",
              "      <th>area_percentage</th>\n",
              "      <th>height_percentage</th>\n",
              "      <th>land_surface_condition</th>\n",
              "      <th>foundation_type</th>\n",
              "      <th>...</th>\n",
              "      <th>has_secondary_use_hotel</th>\n",
              "      <th>has_secondary_use_rental</th>\n",
              "      <th>has_secondary_use_institution</th>\n",
              "      <th>has_secondary_use_school</th>\n",
              "      <th>has_secondary_use_industry</th>\n",
              "      <th>has_secondary_use_health_post</th>\n",
              "      <th>has_secondary_use_gov_office</th>\n",
              "      <th>has_secondary_use_use_police</th>\n",
              "      <th>has_secondary_use_other</th>\n",
              "      <th>damage_grade</th>\n",
              "    </tr>\n",
              "  </thead>\n",
              "  <tbody>\n",
              "    <tr>\n",
              "      <th>0</th>\n",
              "      <td>802906</td>\n",
              "      <td>6</td>\n",
              "      <td>487</td>\n",
              "      <td>12198</td>\n",
              "      <td>2</td>\n",
              "      <td>30</td>\n",
              "      <td>6</td>\n",
              "      <td>5</td>\n",
              "      <td>t</td>\n",
              "      <td>r</td>\n",
              "      <td>...</td>\n",
              "      <td>0</td>\n",
              "      <td>0</td>\n",
              "      <td>0</td>\n",
              "      <td>0</td>\n",
              "      <td>0</td>\n",
              "      <td>0</td>\n",
              "      <td>0</td>\n",
              "      <td>0</td>\n",
              "      <td>0</td>\n",
              "      <td>3</td>\n",
              "    </tr>\n",
              "    <tr>\n",
              "      <th>1</th>\n",
              "      <td>28830</td>\n",
              "      <td>8</td>\n",
              "      <td>900</td>\n",
              "      <td>2812</td>\n",
              "      <td>2</td>\n",
              "      <td>10</td>\n",
              "      <td>8</td>\n",
              "      <td>7</td>\n",
              "      <td>o</td>\n",
              "      <td>r</td>\n",
              "      <td>...</td>\n",
              "      <td>0</td>\n",
              "      <td>0</td>\n",
              "      <td>0</td>\n",
              "      <td>0</td>\n",
              "      <td>0</td>\n",
              "      <td>0</td>\n",
              "      <td>0</td>\n",
              "      <td>0</td>\n",
              "      <td>0</td>\n",
              "      <td>2</td>\n",
              "    </tr>\n",
              "    <tr>\n",
              "      <th>2</th>\n",
              "      <td>94947</td>\n",
              "      <td>21</td>\n",
              "      <td>363</td>\n",
              "      <td>8973</td>\n",
              "      <td>2</td>\n",
              "      <td>10</td>\n",
              "      <td>5</td>\n",
              "      <td>5</td>\n",
              "      <td>t</td>\n",
              "      <td>r</td>\n",
              "      <td>...</td>\n",
              "      <td>0</td>\n",
              "      <td>0</td>\n",
              "      <td>0</td>\n",
              "      <td>0</td>\n",
              "      <td>0</td>\n",
              "      <td>0</td>\n",
              "      <td>0</td>\n",
              "      <td>0</td>\n",
              "      <td>0</td>\n",
              "      <td>3</td>\n",
              "    </tr>\n",
              "    <tr>\n",
              "      <th>3</th>\n",
              "      <td>590882</td>\n",
              "      <td>22</td>\n",
              "      <td>418</td>\n",
              "      <td>10694</td>\n",
              "      <td>2</td>\n",
              "      <td>10</td>\n",
              "      <td>6</td>\n",
              "      <td>5</td>\n",
              "      <td>t</td>\n",
              "      <td>r</td>\n",
              "      <td>...</td>\n",
              "      <td>0</td>\n",
              "      <td>0</td>\n",
              "      <td>0</td>\n",
              "      <td>0</td>\n",
              "      <td>0</td>\n",
              "      <td>0</td>\n",
              "      <td>0</td>\n",
              "      <td>0</td>\n",
              "      <td>0</td>\n",
              "      <td>2</td>\n",
              "    </tr>\n",
              "    <tr>\n",
              "      <th>4</th>\n",
              "      <td>201944</td>\n",
              "      <td>11</td>\n",
              "      <td>131</td>\n",
              "      <td>1488</td>\n",
              "      <td>3</td>\n",
              "      <td>30</td>\n",
              "      <td>8</td>\n",
              "      <td>9</td>\n",
              "      <td>t</td>\n",
              "      <td>r</td>\n",
              "      <td>...</td>\n",
              "      <td>0</td>\n",
              "      <td>0</td>\n",
              "      <td>0</td>\n",
              "      <td>0</td>\n",
              "      <td>0</td>\n",
              "      <td>0</td>\n",
              "      <td>0</td>\n",
              "      <td>0</td>\n",
              "      <td>0</td>\n",
              "      <td>3</td>\n",
              "    </tr>\n",
              "    <tr>\n",
              "      <th>...</th>\n",
              "      <td>...</td>\n",
              "      <td>...</td>\n",
              "      <td>...</td>\n",
              "      <td>...</td>\n",
              "      <td>...</td>\n",
              "      <td>...</td>\n",
              "      <td>...</td>\n",
              "      <td>...</td>\n",
              "      <td>...</td>\n",
              "      <td>...</td>\n",
              "      <td>...</td>\n",
              "      <td>...</td>\n",
              "      <td>...</td>\n",
              "      <td>...</td>\n",
              "      <td>...</td>\n",
              "      <td>...</td>\n",
              "      <td>...</td>\n",
              "      <td>...</td>\n",
              "      <td>...</td>\n",
              "      <td>...</td>\n",
              "      <td>...</td>\n",
              "    </tr>\n",
              "    <tr>\n",
              "      <th>21208</th>\n",
              "      <td>713033</td>\n",
              "      <td>1</td>\n",
              "      <td>273</td>\n",
              "      <td>6292</td>\n",
              "      <td>2</td>\n",
              "      <td>30</td>\n",
              "      <td>10</td>\n",
              "      <td>4</td>\n",
              "      <td>t</td>\n",
              "      <td>r</td>\n",
              "      <td>...</td>\n",
              "      <td>0</td>\n",
              "      <td>0</td>\n",
              "      <td>0</td>\n",
              "      <td>0</td>\n",
              "      <td>0</td>\n",
              "      <td>0</td>\n",
              "      <td>0</td>\n",
              "      <td>0</td>\n",
              "      <td>0</td>\n",
              "      <td>2</td>\n",
              "    </tr>\n",
              "    <tr>\n",
              "      <th>21209</th>\n",
              "      <td>666570</td>\n",
              "      <td>0</td>\n",
              "      <td>462</td>\n",
              "      <td>10579</td>\n",
              "      <td>1</td>\n",
              "      <td>0</td>\n",
              "      <td>3</td>\n",
              "      <td>3</td>\n",
              "      <td>n</td>\n",
              "      <td>r</td>\n",
              "      <td>...</td>\n",
              "      <td>0</td>\n",
              "      <td>0</td>\n",
              "      <td>0</td>\n",
              "      <td>0</td>\n",
              "      <td>0</td>\n",
              "      <td>0</td>\n",
              "      <td>0</td>\n",
              "      <td>0</td>\n",
              "      <td>0</td>\n",
              "      <td>2</td>\n",
              "    </tr>\n",
              "    <tr>\n",
              "      <th>21210</th>\n",
              "      <td>734723</td>\n",
              "      <td>18</td>\n",
              "      <td>1317</td>\n",
              "      <td>11887</td>\n",
              "      <td>2</td>\n",
              "      <td>0</td>\n",
              "      <td>8</td>\n",
              "      <td>5</td>\n",
              "      <td>t</td>\n",
              "      <td>h</td>\n",
              "      <td>...</td>\n",
              "      <td>1</td>\n",
              "      <td>0</td>\n",
              "      <td>0</td>\n",
              "      <td>0</td>\n",
              "      <td>0</td>\n",
              "      <td>0</td>\n",
              "      <td>0</td>\n",
              "      <td>0</td>\n",
              "      <td>0</td>\n",
              "      <td>2</td>\n",
              "    </tr>\n",
              "    <tr>\n",
              "      <th>21211</th>\n",
              "      <td>631045</td>\n",
              "      <td>8</td>\n",
              "      <td>1415</td>\n",
              "      <td>9041</td>\n",
              "      <td>3</td>\n",
              "      <td>20</td>\n",
              "      <td>4</td>\n",
              "      <td>6</td>\n",
              "      <td>t</td>\n",
              "      <td>r</td>\n",
              "      <td>...</td>\n",
              "      <td>0</td>\n",
              "      <td>0</td>\n",
              "      <td>0</td>\n",
              "      <td>0</td>\n",
              "      <td>0</td>\n",
              "      <td>0</td>\n",
              "      <td>0</td>\n",
              "      <td>0</td>\n",
              "      <td>0</td>\n",
              "      <td>2</td>\n",
              "    </tr>\n",
              "    <tr>\n",
              "      <th>21212</th>\n",
              "      <td>171471</td>\n",
              "      <td>26</td>\n",
              "      <td>39</td>\n",
              "      <td>85</td>\n",
              "      <td>2</td>\n",
              "      <td>10</td>\n",
              "      <td>7</td>\n",
              "      <td>6</td>\n",
              "      <td>t</td>\n",
              "      <td>r</td>\n",
              "      <td>...</td>\n",
              "      <td>0</td>\n",
              "      <td>0</td>\n",
              "      <td>0</td>\n",
              "      <td>0</td>\n",
              "      <td>0</td>\n",
              "      <td>0</td>\n",
              "      <td>0</td>\n",
              "      <td>0</td>\n",
              "      <td>0</td>\n",
              "      <td>2</td>\n",
              "    </tr>\n",
              "  </tbody>\n",
              "</table>\n",
              "<p>21213 rows × 40 columns</p>\n",
              "</div>\n",
              "      <button class=\"colab-df-convert\" onclick=\"convertToInteractive('df-961622f8-a741-4198-85d2-454200c1e7c3')\"\n",
              "              title=\"Convert this dataframe to an interactive table.\"\n",
              "              style=\"display:none;\">\n",
              "        \n",
              "  <svg xmlns=\"http://www.w3.org/2000/svg\" height=\"24px\"viewBox=\"0 0 24 24\"\n",
              "       width=\"24px\">\n",
              "    <path d=\"M0 0h24v24H0V0z\" fill=\"none\"/>\n",
              "    <path d=\"M18.56 5.44l.94 2.06.94-2.06 2.06-.94-2.06-.94-.94-2.06-.94 2.06-2.06.94zm-11 1L8.5 8.5l.94-2.06 2.06-.94-2.06-.94L8.5 2.5l-.94 2.06-2.06.94zm10 10l.94 2.06.94-2.06 2.06-.94-2.06-.94-.94-2.06-.94 2.06-2.06.94z\"/><path d=\"M17.41 7.96l-1.37-1.37c-.4-.4-.92-.59-1.43-.59-.52 0-1.04.2-1.43.59L10.3 9.45l-7.72 7.72c-.78.78-.78 2.05 0 2.83L4 21.41c.39.39.9.59 1.41.59.51 0 1.02-.2 1.41-.59l7.78-7.78 2.81-2.81c.8-.78.8-2.07 0-2.86zM5.41 20L4 18.59l7.72-7.72 1.47 1.35L5.41 20z\"/>\n",
              "  </svg>\n",
              "      </button>\n",
              "      \n",
              "  <style>\n",
              "    .colab-df-container {\n",
              "      display:flex;\n",
              "      flex-wrap:wrap;\n",
              "      gap: 12px;\n",
              "    }\n",
              "\n",
              "    .colab-df-convert {\n",
              "      background-color: #E8F0FE;\n",
              "      border: none;\n",
              "      border-radius: 50%;\n",
              "      cursor: pointer;\n",
              "      display: none;\n",
              "      fill: #1967D2;\n",
              "      height: 32px;\n",
              "      padding: 0 0 0 0;\n",
              "      width: 32px;\n",
              "    }\n",
              "\n",
              "    .colab-df-convert:hover {\n",
              "      background-color: #E2EBFA;\n",
              "      box-shadow: 0px 1px 2px rgba(60, 64, 67, 0.3), 0px 1px 3px 1px rgba(60, 64, 67, 0.15);\n",
              "      fill: #174EA6;\n",
              "    }\n",
              "\n",
              "    [theme=dark] .colab-df-convert {\n",
              "      background-color: #3B4455;\n",
              "      fill: #D2E3FC;\n",
              "    }\n",
              "\n",
              "    [theme=dark] .colab-df-convert:hover {\n",
              "      background-color: #434B5C;\n",
              "      box-shadow: 0px 1px 3px 1px rgba(0, 0, 0, 0.15);\n",
              "      filter: drop-shadow(0px 1px 2px rgba(0, 0, 0, 0.3));\n",
              "      fill: #FFFFFF;\n",
              "    }\n",
              "  </style>\n",
              "\n",
              "      <script>\n",
              "        const buttonEl =\n",
              "          document.querySelector('#df-961622f8-a741-4198-85d2-454200c1e7c3 button.colab-df-convert');\n",
              "        buttonEl.style.display =\n",
              "          google.colab.kernel.accessAllowed ? 'block' : 'none';\n",
              "\n",
              "        async function convertToInteractive(key) {\n",
              "          const element = document.querySelector('#df-961622f8-a741-4198-85d2-454200c1e7c3');\n",
              "          const dataTable =\n",
              "            await google.colab.kernel.invokeFunction('convertToInteractive',\n",
              "                                                     [key], {});\n",
              "          if (!dataTable) return;\n",
              "\n",
              "          const docLinkHtml = 'Like what you see? Visit the ' +\n",
              "            '<a target=\"_blank\" href=https://colab.research.google.com/notebooks/data_table.ipynb>data table notebook</a>'\n",
              "            + ' to learn more about interactive tables.';\n",
              "          element.innerHTML = '';\n",
              "          dataTable['output_type'] = 'display_data';\n",
              "          await google.colab.output.renderOutput(dataTable, element);\n",
              "          const docLink = document.createElement('div');\n",
              "          docLink.innerHTML = docLinkHtml;\n",
              "          element.appendChild(docLink);\n",
              "        }\n",
              "      </script>\n",
              "    </div>\n",
              "  </div>\n",
              "  "
            ]
          },
          "metadata": {},
          "execution_count": 115
        }
      ],
      "source": [
        "from sklearn.preprocessing import LabelEncoder\n",
        "for column in df_x.columns:\n",
        "    if df_x[column].dtype==type(object):\n",
        "        le=LabelEncoder()\n",
        "        df_x[column]=le.fit_transform(df_x[column])\n",
        "\n",
        "df"
      ]
    },
    {
      "cell_type": "markdown",
      "metadata": {
        "id": "rsR8NoaV66bl"
      },
      "source": [
        "### Splitting the training and test data\n",
        "###### Doing so to avoid data leakage when using scaling technique"
      ]
    },
    {
      "cell_type": "code",
      "execution_count": 116,
      "metadata": {
        "id": "lErGp5Og66bl"
      },
      "outputs": [],
      "source": [
        "from sklearn.model_selection import train_test_split\n",
        "x_train,x_test,y_train,y_test=train_test_split(df_x,df_y,test_size=0.25,stratify=df_y,random_state=33)"
      ]
    },
    {
      "cell_type": "markdown",
      "source": [
        "**Applying SMOTE to create a balanced data set**"
      ],
      "metadata": {
        "id": "CvbxLOh--s8w"
      }
    },
    {
      "cell_type": "code",
      "source": [
        "'''\n",
        "from imblearn.over_sampling import SMOTE\n",
        "sm = SMOTE(random_state=13)\n",
        "x_train, y_train = sm.fit_resample(x_train, y_train)\n",
        "'''"
      ],
      "metadata": {
        "colab": {
          "base_uri": "https://localhost:8080/",
          "height": 53
        },
        "id": "PTlFk5H191CL",
        "outputId": "f9fdae89-9105-4882-f94e-57e3b864a899"
      },
      "execution_count": 117,
      "outputs": [
        {
          "output_type": "execute_result",
          "data": {
            "text/plain": [
              "'\\nfrom imblearn.over_sampling import SMOTE\\nsm = SMOTE(random_state=13)\\nx_train, y_train = sm.fit_resample(x_train, y_train)\\n'"
            ],
            "application/vnd.google.colaboratory.intrinsic+json": {
              "type": "string"
            }
          },
          "metadata": {},
          "execution_count": 117
        }
      ]
    },
    {
      "cell_type": "markdown",
      "source": [
        "**Reason for not using SMOTE**\n",
        "- It is used when dataset is unbalanced. Using it generally, improves performance that did not happen in with our dataset because high dimensionality of our dataset.\n",
        "- Smote does not works well there is high dimensionality.\n",
        "- So, we tried but later discarded the Smote because it was decreasing the accuracy instead of increasing it."
      ],
      "metadata": {
        "id": "bfCWp60obff3"
      }
    },
    {
      "cell_type": "code",
      "source": [
        "#len(x_train)"
      ],
      "metadata": {
        "id": "TALOMLzw-DYH"
      },
      "execution_count": 118,
      "outputs": []
    },
    {
      "cell_type": "markdown",
      "metadata": {
        "id": "u4Eec0kw66bm"
      },
      "source": [
        "### Applying Robust Scaler Because the data has outliers"
      ]
    },
    {
      "cell_type": "code",
      "execution_count": 119,
      "metadata": {
        "id": "PdoOfzvz66bm"
      },
      "outputs": [],
      "source": [
        "from sklearn.preprocessing import RobustScaler\n",
        "scaler = RobustScaler()\n",
        "x_train=scaler.fit_transform(x_train)\n",
        "x_test=scaler.fit_transform(x_test)"
      ]
    },
    {
      "cell_type": "code",
      "execution_count": 120,
      "metadata": {
        "id": "FRuApnlE66bn"
      },
      "outputs": [],
      "source": [
        "import statsmodels.api as sm\n",
        "import sklearn\n",
        "from sklearn import metrics\n",
        "from sklearn.linear_model import LogisticRegression\n",
        "from sklearn.naive_bayes import GaussianNB\n",
        "from sklearn.ensemble import RandomForestClassifier\n",
        "from sklearn.svm import SVC\n",
        "from sklearn.neighbors import KNeighborsClassifier\n",
        "from sklearn.tree import DecisionTreeClassifier\n",
        "from sklearn.ensemble import AdaBoostClassifier\n",
        "from sklearn.ensemble import BaggingClassifier\n",
        "from sklearn.ensemble import GradientBoostingClassifier\n",
        "\n",
        "import xgboost as xgb\n",
        "from xgboost.sklearn import XGBClassifier"
      ]
    },
    {
      "cell_type": "markdown",
      "metadata": {
        "id": "AvJNiJKx66bn"
      },
      "source": [
        "# Random Forest"
      ]
    },
    {
      "cell_type": "code",
      "execution_count": 121,
      "metadata": {
        "id": "PF53B83J66bn"
      },
      "outputs": [],
      "source": [
        "from sklearn.metrics import accuracy_score"
      ]
    },
    {
      "cell_type": "code",
      "execution_count": 122,
      "metadata": {
        "colab": {
          "base_uri": "https://localhost:8080/"
        },
        "id": "XKEWHtBb66bo",
        "outputId": "cebfe36b-dbdd-4c7b-84ef-98aed127a624"
      },
      "outputs": [
        {
          "output_type": "execute_result",
          "data": {
            "text/plain": [
              "0.6809954751131222"
            ]
          },
          "metadata": {},
          "execution_count": 122
        }
      ],
      "source": [
        "RF = RandomForestClassifier()\n",
        "RF.fit(x_train,y_train)\n",
        "sklearn.metrics.accuracy_score(RF.predict(x_test), y_test)"
      ]
    },
    {
      "cell_type": "code",
      "execution_count": 123,
      "metadata": {
        "colab": {
          "base_uri": "https://localhost:8080/"
        },
        "id": "WZHEvNlW66bo",
        "outputId": "2369a56a-0b47-4e03-a892-41aa770364f6"
      },
      "outputs": [
        {
          "output_type": "execute_result",
          "data": {
            "text/plain": [
              "<bound method BaseEstimator.get_params of RandomForestClassifier()>"
            ]
          },
          "metadata": {},
          "execution_count": 123
        }
      ],
      "source": [
        "RF = RandomForestClassifier()\n",
        "RF.get_params"
      ]
    },
    {
      "cell_type": "code",
      "execution_count": 124,
      "metadata": {
        "id": "Mh5Vx5rc66bq"
      },
      "outputs": [],
      "source": [
        "from sklearn.ensemble import RandomForestClassifier\n",
        "\n",
        "from sklearn.model_selection import GridSearchCV\n",
        "# Create the parameter grid based on the results of random search \n",
        "param_grid = {\n",
        "    'bootstrap': [True],\n",
        "    'max_depth': [24,36,48],\n",
        "    'max_features': [20,30],\n",
        "    'min_samples_leaf': [6,12],\n",
        "    'min_samples_split': [4,6],\n",
        "    'n_estimators': [50,75]\n",
        "}\n",
        "# Create a based model\n",
        "rf = RandomForestClassifier()\n",
        "# Instantiate the grid search model\n",
        "grid_search = GridSearchCV(estimator = rf, param_grid = param_grid, \n",
        "                          cv = 5, n_jobs = -1, verbose = 2)"
      ]
    },
    {
      "cell_type": "code",
      "execution_count": 125,
      "metadata": {
        "colab": {
          "base_uri": "https://localhost:8080/"
        },
        "id": "YadRRzUs66bq",
        "outputId": "cc331999-487a-4773-8402-01ca5c03e947"
      },
      "outputs": [
        {
          "output_type": "stream",
          "name": "stdout",
          "text": [
            "Fitting 5 folds for each of 48 candidates, totalling 240 fits\n",
            "RandomForestClassifier(max_depth=24, max_features=30, min_samples_leaf=6,\n",
            "                       min_samples_split=4, n_estimators=75)\n",
            "CPU times: user 7.49 s, sys: 604 ms, total: 8.09 s\n",
            "Wall time: 6min 54s\n"
          ]
        }
      ],
      "source": [
        "%%time\n",
        "grid_search.fit(x_train, y_train)\n",
        "grid_search.best_params_\n",
        "best_grid = grid_search.best_estimator_\n",
        "print(best_grid)"
      ]
    },
    {
      "cell_type": "code",
      "execution_count": 126,
      "metadata": {
        "colab": {
          "base_uri": "https://localhost:8080/"
        },
        "id": "4QMM9xDU66br",
        "outputId": "8b462246-2e9e-4619-ebbd-27d645199b37"
      },
      "outputs": [
        {
          "output_type": "stream",
          "name": "stdout",
          "text": [
            "train_accuracy 0.8314161795210259\n"
          ]
        }
      ],
      "source": [
        "train_accuracy = sklearn.metrics.accuracy_score(best_grid.predict(x_train),y_train) \n",
        "print('train_accuracy',train_accuracy)\n"
      ]
    },
    {
      "cell_type": "code",
      "execution_count": 127,
      "metadata": {
        "colab": {
          "base_uri": "https://localhost:8080/"
        },
        "id": "bQohp1Vd66br",
        "outputId": "01932501-4215-4add-daed-2d9146278638"
      },
      "outputs": [
        {
          "output_type": "stream",
          "name": "stdout",
          "text": [
            "test_accuracy 0.7002262443438914\n"
          ]
        }
      ],
      "source": [
        "grid_accuracy = sklearn.metrics.accuracy_score(best_grid.predict(x_test),y_test) \n",
        "print('test_accuracy',grid_accuracy)\n"
      ]
    },
    {
      "cell_type": "code",
      "execution_count": 127,
      "metadata": {
        "id": "C5ORy2wy66bs"
      },
      "outputs": [],
      "source": [
        ""
      ]
    },
    {
      "cell_type": "markdown",
      "metadata": {
        "id": "r5rduXL366bs"
      },
      "source": [
        "# Kneighbors"
      ]
    },
    {
      "cell_type": "code",
      "execution_count": 128,
      "metadata": {
        "colab": {
          "base_uri": "https://localhost:8080/"
        },
        "id": "sXq13mmi66bt",
        "outputId": "011441c4-77ef-4fa1-f63c-1a1a245dbafc"
      },
      "outputs": [
        {
          "output_type": "stream",
          "name": "stdout",
          "text": [
            "accuracy 0.5740950226244343\n"
          ]
        }
      ],
      "source": [
        "KN =  KNeighborsClassifier()\n",
        "KN.fit(x_train,y_train)\n",
        "k=sklearn.metrics.accuracy_score(KN.predict(x_test), y_test)\n",
        "print('accuracy',k)"
      ]
    },
    {
      "cell_type": "raw",
      "metadata": {
        "id": "hx0HZ5zo66bt"
      },
      "source": [
        "*The accuracy with Kneighbors is 0.57 which very low compared to other. It will definitely be better after hyperparameter tuning but it is likely to be not good as other models even after tuning.*"
      ]
    },
    {
      "cell_type": "markdown",
      "metadata": {
        "id": "prrj1WpO66bu"
      },
      "source": [
        "# Gradient Boost"
      ]
    },
    {
      "cell_type": "code",
      "execution_count": 129,
      "metadata": {
        "colab": {
          "base_uri": "https://localhost:8080/"
        },
        "id": "-RDM1AEc66bu",
        "outputId": "2e30d932-9bdc-4a86-d95c-45d5327628c5"
      },
      "outputs": [
        {
          "output_type": "stream",
          "name": "stdout",
          "text": [
            "CPU times: user 8.25 s, sys: 52.9 ms, total: 8.31 s\n",
            "Wall time: 9.21 s\n"
          ]
        }
      ],
      "source": [
        "%%time\n",
        "GBC = GradientBoostingClassifier()\n",
        "GBC.fit(x_train,y_train)\n",
        "sklearn.metrics.accuracy_score(GBC.predict(x_test), y_test)"
      ]
    },
    {
      "cell_type": "code",
      "execution_count": 130,
      "metadata": {
        "id": "fo0d386n66bv"
      },
      "outputs": [],
      "source": [
        "import numpy as np\n",
        "parameters = {\n",
        "    \"loss\":[\"deviance\"],\n",
        "    \"learning_rate\": [ 0.1,0.15],\n",
        "    \"max_depth\":[5,10],\n",
        "    \"max_features\":[35],\n",
        "    \"subsample\":[1.0,10],\n",
        "    \"n_estimators\":[113]\n",
        "    }\n",
        "GBC = GradientBoostingClassifier()"
      ]
    },
    {
      "cell_type": "code",
      "execution_count": 131,
      "metadata": {
        "id": "RAtMJnfC66bv"
      },
      "outputs": [],
      "source": [
        "grid_search_GBC = GridSearchCV(GradientBoostingClassifier(),param_grid=parameters, scoring = 'accuracy')"
      ]
    },
    {
      "cell_type": "code",
      "execution_count": 132,
      "metadata": {
        "colab": {
          "base_uri": "https://localhost:8080/"
        },
        "id": "40NrKjOp66bw",
        "outputId": "9e4f2c33-8f55-4e42-e099-cdc5a4d800c9"
      },
      "outputs": [
        {
          "output_type": "execute_result",
          "data": {
            "text/plain": [
              "{'learning_rate': 0.15,\n",
              " 'loss': 'deviance',\n",
              " 'max_depth': 5,\n",
              " 'max_features': 35,\n",
              " 'n_estimators': 113,\n",
              " 'subsample': 1.0}"
            ]
          },
          "metadata": {},
          "execution_count": 132
        }
      ],
      "source": [
        "import warnings\n",
        "warnings.filterwarnings('ignore')\n",
        "grid_search_GBC.fit(x_train, y_train)\n",
        "grid_search_GBC.best_params_"
      ]
    },
    {
      "cell_type": "code",
      "execution_count": 133,
      "metadata": {
        "colab": {
          "base_uri": "https://localhost:8080/"
        },
        "id": "mHtEdge966bw",
        "outputId": "6e63579d-e124-40ec-d9a4-f0f2e4ad883e"
      },
      "outputs": [
        {
          "output_type": "stream",
          "name": "stdout",
          "text": [
            "GradientBoostingClassifier(learning_rate=0.15, max_depth=5, max_features=35,\n",
            "                           n_estimators=113)\n"
          ]
        }
      ],
      "source": [
        "best_grid_GBC = grid_search_GBC.best_estimator_\n",
        "print(best_grid_GBC)"
      ]
    },
    {
      "cell_type": "code",
      "execution_count": 134,
      "metadata": {
        "colab": {
          "base_uri": "https://localhost:8080/"
        },
        "id": "gtsv6-6o66bx",
        "outputId": "f8858b3a-3938-4da0-927d-4105baf3ef69"
      },
      "outputs": [
        {
          "output_type": "stream",
          "name": "stdout",
          "text": [
            "train_accuracy 0.6868401206636501\n"
          ]
        }
      ],
      "source": [
        "train_accuracy = sklearn.metrics.accuracy_score(best_grid_GBC.predict(x_test),y_test) \n",
        "print('train_accuracy',train_accuracy)\n"
      ]
    },
    {
      "cell_type": "code",
      "execution_count": 135,
      "metadata": {
        "colab": {
          "base_uri": "https://localhost:8080/"
        },
        "id": "mTSUdFgA66by",
        "outputId": "cceb267f-b181-4dfb-c864-13073fea3aac"
      },
      "outputs": [
        {
          "output_type": "stream",
          "name": "stdout",
          "text": [
            "test_accuracy 0.6868401206636501\n"
          ]
        }
      ],
      "source": [
        "test_accuracy = sklearn.metrics.accuracy_score(best_grid_GBC.predict(x_test),y_test) \n",
        "print('test_accuracy',test_accuracy)\n"
      ]
    },
    {
      "cell_type": "code",
      "execution_count": 135,
      "metadata": {
        "id": "WzoBMi_N66bz"
      },
      "outputs": [],
      "source": [
        ""
      ]
    },
    {
      "cell_type": "markdown",
      "metadata": {
        "id": "MWHNbeNh66bz"
      },
      "source": [
        "# Ada Boost"
      ]
    },
    {
      "cell_type": "code",
      "execution_count": 136,
      "metadata": {
        "colab": {
          "base_uri": "https://localhost:8080/"
        },
        "id": "ZS_eqv9q66b0",
        "outputId": "b8d2cc9b-5b7e-4c41-d1f4-431434f26ec2"
      },
      "outputs": [
        {
          "output_type": "stream",
          "name": "stdout",
          "text": [
            "0.6434766214177979\n",
            "CPU times: user 879 ms, sys: 9.99 ms, total: 889 ms\n",
            "Wall time: 892 ms\n"
          ]
        }
      ],
      "source": [
        "%%time\n",
        "ABC = AdaBoostClassifier()\n",
        "ABC.fit(x_train,y_train)\n",
        "print(sklearn.metrics.accuracy_score(ABC.predict(x_test), y_test))"
      ]
    },
    {
      "cell_type": "code",
      "execution_count": 137,
      "metadata": {
        "id": "-xeiCC7n66b0"
      },
      "outputs": [],
      "source": [
        "from sklearn.tree import DecisionTreeClassifier\n",
        "from sklearn.ensemble import AdaBoostClassifier\n",
        "from sklearn.model_selection import GridSearchCV\n",
        "\n",
        "param_grid = {\"base_estimator__criterion\" : [\"gini\", \"entropy\"],\n",
        "              \"base_estimator__splitter\" :   [\"best\", \"random\"],\n",
        "              \"n_estimators\": [73,111]\n",
        "             }\n",
        "\n",
        "\n",
        "DTC = DecisionTreeClassifier(random_state = 11, max_features = \"auto\", class_weight = \"balanced\",max_depth = None)\n",
        "\n",
        "ABC = AdaBoostClassifier(base_estimator = DTC)\n",
        "\n",
        "# run grid search\n",
        "grid_search_ABC = GridSearchCV(ABC, param_grid=param_grid, scoring = 'accuracy')\n"
      ]
    },
    {
      "cell_type": "code",
      "execution_count": 138,
      "metadata": {
        "colab": {
          "base_uri": "https://localhost:8080/"
        },
        "id": "s-j84mDa66b1",
        "outputId": "e0a4e8b8-247f-4553-8946-097e11e5282f"
      },
      "outputs": [
        {
          "output_type": "execute_result",
          "data": {
            "text/plain": [
              "{'base_estimator__criterion': 'entropy',\n",
              " 'base_estimator__splitter': 'best',\n",
              " 'n_estimators': 111}"
            ]
          },
          "metadata": {},
          "execution_count": 138
        }
      ],
      "source": [
        "import warnings\n",
        "warnings.filterwarnings('ignore')\n",
        "grid_search_ABC.fit(x_train, y_train)\n",
        "grid_search_ABC.best_params_"
      ]
    },
    {
      "cell_type": "code",
      "execution_count": 139,
      "metadata": {
        "colab": {
          "base_uri": "https://localhost:8080/"
        },
        "id": "8cZXhhup66b2",
        "outputId": "8e5deb2d-3c49-4ae8-e5d8-f3f16eb43234"
      },
      "outputs": [
        {
          "output_type": "stream",
          "name": "stdout",
          "text": [
            "AdaBoostClassifier(base_estimator=DecisionTreeClassifier(class_weight='balanced',\n",
            "                                                         criterion='entropy',\n",
            "                                                         max_features='auto',\n",
            "                                                         random_state=11),\n",
            "                   n_estimators=111)\n"
          ]
        }
      ],
      "source": [
        "best_grid_ABC = grid_search_ABC.best_estimator_\n",
        "print(best_grid_ABC)"
      ]
    },
    {
      "cell_type": "code",
      "execution_count": 140,
      "metadata": {
        "colab": {
          "base_uri": "https://localhost:8080/"
        },
        "id": "matE2sA866b2",
        "outputId": "5cfd7add-81f2-48e9-80de-7fa8a1db57f9"
      },
      "outputs": [
        {
          "output_type": "stream",
          "name": "stdout",
          "text": [
            "train_accuracy 0.9985542774530141\n"
          ]
        }
      ],
      "source": [
        "train_accuracy = sklearn.metrics.accuracy_score(best_grid_ABC.predict(x_train),y_train) \n",
        "print('train_accuracy',train_accuracy)"
      ]
    },
    {
      "cell_type": "code",
      "execution_count": 141,
      "metadata": {
        "colab": {
          "base_uri": "https://localhost:8080/"
        },
        "id": "n6SBRyR766b3",
        "outputId": "d3308513-b900-4d02-de19-cb4333c47d02"
      },
      "outputs": [
        {
          "output_type": "stream",
          "name": "stdout",
          "text": [
            "test_accuracy 0.646870286576169\n"
          ]
        }
      ],
      "source": [
        "test_accuracy = sklearn.metrics.accuracy_score(best_grid_ABC.predict(x_test),y_test) \n",
        "print('test_accuracy',test_accuracy)\n"
      ]
    },
    {
      "cell_type": "code",
      "execution_count": 141,
      "metadata": {
        "id": "3QnTY47b66b4"
      },
      "outputs": [],
      "source": [
        ""
      ]
    },
    {
      "cell_type": "markdown",
      "metadata": {
        "id": "lZjFdEVS66b4"
      },
      "source": [
        "# Bagging Classifier"
      ]
    },
    {
      "cell_type": "code",
      "execution_count": 142,
      "metadata": {
        "colab": {
          "base_uri": "https://localhost:8080/"
        },
        "id": "Ou6fpMos66b5",
        "outputId": "5687e812-9d80-4a09-fbd8-812583c4f279"
      },
      "outputs": [
        {
          "output_type": "stream",
          "name": "stdout",
          "text": [
            "CPU times: user 831 ms, sys: 2 ms, total: 833 ms\n",
            "Wall time: 827 ms\n"
          ]
        }
      ],
      "source": [
        "%%time\n",
        "BC= BaggingClassifier()\n",
        "BC.fit(x_train,y_train)\n",
        "sklearn.metrics.accuracy_score(BC.predict(x_test), y_test)"
      ]
    },
    {
      "cell_type": "code",
      "execution_count": 143,
      "metadata": {
        "id": "RBa37aBe66b6"
      },
      "outputs": [],
      "source": [
        "bc_params = {\"base_estimator__max_depth\": [5,10],\n",
        "          \"base_estimator__min_samples_leaf\": [5,7],\n",
        "          \"base_estimator__min_samples_split\": [3,5],\n",
        "          'bootstrap_features': [False, True],\n",
        "          'max_features': [35],\n",
        "          'max_samples': [10000],\n",
        "          'n_estimators': [35],\n",
        "}\n",
        "\n",
        "DTC = DecisionTreeClassifier()\n",
        "\n",
        "BC = BaggingClassifier(base_estimator = DTC)\n",
        "\n",
        "grid_search_BC = GridSearchCV(BC,param_grid=bc_params, scoring = 'accuracy')"
      ]
    },
    {
      "cell_type": "code",
      "execution_count": 144,
      "metadata": {
        "colab": {
          "base_uri": "https://localhost:8080/"
        },
        "id": "EE0uRpYJ66b6",
        "outputId": "9f967ce7-8f5c-402c-eaa7-d80daca8abdb"
      },
      "outputs": [
        {
          "output_type": "execute_result",
          "data": {
            "text/plain": [
              "{'base_estimator__max_depth': 10,\n",
              " 'base_estimator__min_samples_leaf': 5,\n",
              " 'base_estimator__min_samples_split': 3,\n",
              " 'bootstrap_features': False,\n",
              " 'max_features': 35,\n",
              " 'max_samples': 10000,\n",
              " 'n_estimators': 35}"
            ]
          },
          "metadata": {},
          "execution_count": 144
        }
      ],
      "source": [
        "import warnings\n",
        "warnings.filterwarnings('ignore')\n",
        "grid_search_BC.fit(x_train, y_train)\n",
        "grid_search_BC.best_params_"
      ]
    },
    {
      "cell_type": "code",
      "execution_count": 145,
      "metadata": {
        "colab": {
          "base_uri": "https://localhost:8080/"
        },
        "id": "wAromo3u66b7",
        "outputId": "ecfa66b0-87f0-42b5-dc97-8586a98164aa"
      },
      "outputs": [
        {
          "output_type": "stream",
          "name": "stdout",
          "text": [
            "BaggingClassifier(base_estimator=DecisionTreeClassifier(max_depth=10,\n",
            "                                                        min_samples_leaf=5,\n",
            "                                                        min_samples_split=3),\n",
            "                  max_features=35, max_samples=10000, n_estimators=35)\n"
          ]
        }
      ],
      "source": [
        "best_grid_BC = grid_search_BC.best_estimator_\n",
        "print(best_grid_BC)"
      ]
    },
    {
      "cell_type": "code",
      "execution_count": 146,
      "metadata": {
        "colab": {
          "base_uri": "https://localhost:8080/"
        },
        "id": "3M5g5TaE66b7",
        "outputId": "0cf4cfcf-b00e-47c4-e096-a1ed60d59fb8"
      },
      "outputs": [
        {
          "output_type": "stream",
          "name": "stdout",
          "text": [
            "train_accuracy 0.7317870387830787\n"
          ]
        }
      ],
      "source": [
        "train_accuracy = sklearn.metrics.accuracy_score(best_grid_BC.predict(x_train),y_train) \n",
        "print('train_accuracy',train_accuracy)\n"
      ]
    },
    {
      "cell_type": "code",
      "execution_count": 147,
      "metadata": {
        "colab": {
          "base_uri": "https://localhost:8080/"
        },
        "id": "uAhP7rJk66b8",
        "outputId": "6899534e-025e-41f8-a0ba-4d65077702c1"
      },
      "outputs": [
        {
          "output_type": "stream",
          "name": "stdout",
          "text": [
            "test_accuracy 0.6923076923076923\n"
          ]
        }
      ],
      "source": [
        "test_accuracy = sklearn.metrics.accuracy_score(best_grid_BC.predict(x_test),y_test) \n",
        "print('test_accuracy',test_accuracy)\n"
      ]
    },
    {
      "cell_type": "code",
      "execution_count": 147,
      "metadata": {
        "id": "2g-JmpkH66b9"
      },
      "outputs": [],
      "source": [
        ""
      ]
    },
    {
      "cell_type": "code",
      "execution_count": 147,
      "metadata": {
        "id": "UVDYx5cg66b9"
      },
      "outputs": [],
      "source": [
        ""
      ]
    },
    {
      "cell_type": "markdown",
      "metadata": {
        "id": "O9A6zBI166b9"
      },
      "source": [
        "# Ensemble"
      ]
    },
    {
      "cell_type": "code",
      "execution_count": 148,
      "metadata": {
        "colab": {
          "base_uri": "https://localhost:8080/"
        },
        "id": "M_-vzSjM66b-",
        "outputId": "fb4ebc5a-1bf8-4141-e0ac-7736912e060f"
      },
      "outputs": [
        {
          "output_type": "stream",
          "name": "stdout",
          "text": [
            "Requirement already satisfied: mlens in /usr/local/lib/python3.7/dist-packages (0.2.3)\n",
            "Requirement already satisfied: numpy>=1.11 in /usr/local/lib/python3.7/dist-packages (from mlens) (1.21.6)\n",
            "Requirement already satisfied: scipy>=0.17 in /usr/local/lib/python3.7/dist-packages (from mlens) (1.4.1)\n"
          ]
        }
      ],
      "source": [
        "!pip install mlens\n",
        "from mlens.ensemble import SuperLearner\n",
        "from mlens.model_selection import Evaluator\n",
        "from mlens.metrics import make_scorer\n",
        "\n",
        "from sklearn.metrics import accuracy_score\n"
      ]
    },
    {
      "cell_type": "code",
      "execution_count": 149,
      "metadata": {
        "colab": {
          "base_uri": "https://localhost:8080/"
        },
        "id": "Lubk0sgZ66b_",
        "outputId": "4163969b-8aa3-4de5-f1e8-ea29dd5a2754"
      },
      "outputs": [
        {
          "output_type": "execute_result",
          "data": {
            "text/plain": [
              "SuperLearner(array_check=None, backend=None, folds=2,\n",
              "       layers=[Layer(backend='threading', dtype=<class 'numpy.float32'>, n_jobs=-1,\n",
              "   name='layer-1', propagate_features=None, raise_on_exception=True,\n",
              "   random_state=4782, shuffle=False,\n",
              "   stack=[Group(backend='threading', dtype=<class 'numpy.float32'>,\n",
              "   indexer=FoldIndex(X=None, folds=2, raise_on_ex...6613170>)],\n",
              "   n_jobs=-1, name='group-3', raise_on_exception=True, transformers=[])],\n",
              "   verbose=0)],\n",
              "       model_selection=False, n_jobs=None, raise_on_exception=True,\n",
              "       random_state=555, sample_size=20,\n",
              "       scorer=<function accuracy_score at 0x7ff056613170>, shuffle=False,\n",
              "       verbose=1)"
            ]
          },
          "metadata": {},
          "execution_count": 149
        }
      ],
      "source": [
        "RF=RandomForestClassifier(max_depth=24, max_features=20, min_samples_leaf=6,min_samples_split=4, n_estimators=50)\n",
        "BC = BaggingClassifier()\n",
        "GBC = GradientBoostingClassifier(n_estimators = 27,random_state=555)\n",
        "ensemble = SuperLearner(scorer=accuracy_score, random_state=555, verbose=1)\n",
        "ensemble.add([ABC,BC,RF])\n",
        "ensemble.add_meta(GradientBoostingClassifier())"
      ]
    },
    {
      "cell_type": "code",
      "execution_count": 150,
      "metadata": {
        "colab": {
          "base_uri": "https://localhost:8080/"
        },
        "id": "ngeT-zjO66b_",
        "outputId": "acc74323-8a0a-4434-fd06-0fa4e66882ed"
      },
      "outputs": [
        {
          "output_type": "stream",
          "name": "stdout",
          "text": [
            "\n",
            "Fitting 2 layers\n",
            "Fit complete                        | 00:00:20\n",
            "CPU times: user 18.5 s, sys: 249 ms, total: 18.7 s\n",
            "Wall time: 20.3 s\n"
          ]
        },
        {
          "output_type": "execute_result",
          "data": {
            "text/plain": [
              "SuperLearner(array_check=None, backend=None, folds=2,\n",
              "       layers=[Layer(backend='threading', dtype=<class 'numpy.float32'>, n_jobs=-1,\n",
              "   name='layer-1', propagate_features=None, raise_on_exception=True,\n",
              "   random_state=4782, shuffle=False,\n",
              "   stack=[Group(backend='threading', dtype=<class 'numpy.float32'>,\n",
              "   indexer=FoldIndex(X=None, folds=2, raise_on_ex...6613170>)],\n",
              "   n_jobs=-1, name='group-3', raise_on_exception=True, transformers=[])],\n",
              "   verbose=0)],\n",
              "       model_selection=False, n_jobs=None, raise_on_exception=True,\n",
              "       random_state=555, sample_size=20,\n",
              "       scorer=<function accuracy_score at 0x7ff056613170>, shuffle=False,\n",
              "       verbose=1)"
            ]
          },
          "metadata": {},
          "execution_count": 150
        }
      ],
      "source": [
        "%%time\n",
        "ensemble.fit(x_train, y_train)"
      ]
    },
    {
      "cell_type": "code",
      "execution_count": 151,
      "metadata": {
        "colab": {
          "base_uri": "https://localhost:8080/"
        },
        "id": "Ej-reOO866cA",
        "outputId": "2f503ecd-d153-42e1-a1e7-b756427e873a"
      },
      "outputs": [
        {
          "output_type": "stream",
          "name": "stdout",
          "text": [
            "\n",
            "Predicting 2 layers\n",
            "Predict complete                    | 00:00:01\n",
            "Accuracy - Train :  0.8624049280281602\n",
            "\n",
            "Predicting 2 layers\n",
            "Predict complete                    | 00:00:01\n",
            "Accuracy - Test :  0.6990950226244343\n"
          ]
        }
      ],
      "source": [
        "#pred_vals = ensemble.predict(X_test)\n",
        "print (\"Accuracy - Train : \", sklearn.metrics.accuracy_score(ensemble.predict(x_train), y_train))\n",
        "print (\"Accuracy - Test : \", sklearn.metrics.accuracy_score(ensemble.predict(x_test), y_test))"
      ]
    },
    {
      "cell_type": "code",
      "execution_count": 152,
      "metadata": {
        "colab": {
          "base_uri": "https://localhost:8080/"
        },
        "id": "2xL0KsTZ66cB",
        "outputId": "f7b028d6-1ad4-4d0a-bb53-b4058958ffb9"
      },
      "outputs": [
        {
          "output_type": "stream",
          "name": "stdout",
          "text": [
            "\n",
            "Predicting 2 layers\n",
            "Predict complete                    | 00:00:01\n"
          ]
        },
        {
          "output_type": "execute_result",
          "data": {
            "text/plain": [
              "0.6990950226244343"
            ]
          },
          "metadata": {},
          "execution_count": 152
        }
      ],
      "source": [
        "from sklearn.metrics import f1_score\n",
        "f1_score(y_test,ensemble.predict(x_test) , average='micro')"
      ]
    },
    {
      "cell_type": "code",
      "execution_count": 153,
      "metadata": {
        "colab": {
          "base_uri": "https://localhost:8080/"
        },
        "id": "QCY7r7aW66cC",
        "outputId": "226140ed-acb7-42f5-ac4c-006ec58126f9"
      },
      "outputs": [
        {
          "output_type": "stream",
          "name": "stdout",
          "text": [
            "\n",
            "Predicting 2 layers\n",
            "Predict complete                    | 00:00:01\n"
          ]
        },
        {
          "output_type": "execute_result",
          "data": {
            "text/plain": [
              "0.6990950226244343"
            ]
          },
          "metadata": {},
          "execution_count": 153
        }
      ],
      "source": [
        "accuracy_score(y_test,ensemble.predict(x_test))"
      ]
    },
    {
      "cell_type": "code",
      "execution_count": 153,
      "metadata": {
        "id": "MqkwuDHn66cD"
      },
      "outputs": [],
      "source": [
        ""
      ]
    }
  ],
  "metadata": {
    "kernelspec": {
      "display_name": "Python 3",
      "language": "python",
      "name": "python3"
    },
    "language_info": {
      "codemirror_mode": {
        "name": "ipython",
        "version": 3
      },
      "file_extension": ".py",
      "mimetype": "text/x-python",
      "name": "python",
      "nbconvert_exporter": "python",
      "pygments_lexer": "ipython3",
      "version": "3.7.4"
    },
    "colab": {
      "name": "AI Final Project.ipynb",
      "provenance": [],
      "collapsed_sections": []
    },
    "accelerator": "GPU"
  },
  "nbformat": 4,
  "nbformat_minor": 0
}